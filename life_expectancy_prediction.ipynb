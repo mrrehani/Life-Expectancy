{
 "cells": [
  {
   "cell_type": "code",
   "execution_count": 1,
   "metadata": {},
   "outputs": [],
   "source": [
    "import os\n",
    "import pandas as pd\n",
    "import numpy as np\n",
    "!pip install pycountry_convert\n",
    "import pycountry_convert as pc\n",
    "!pip install plotly\n",
    "!pip install nbformat\n",
    "import matplotlib.pyplot as plt\n",
    "import plotly.express as px\n",
    "from sklearn.model_selection import train_test_split\n",
    "import statsmodels.api as sm\n",
    "from statsmodels.stats.outliers_influence import variance_inflation_factor\n",
    "from statsmodels.stats.stattools import durbin_watson\n"
   ]
  },
  {
   "cell_type": "code",
   "execution_count": 2,
   "metadata": {
    "scrolled": true
   },
   "outputs": [],
   "source": [
    "# Opening the file and cleaning and cleaning the data frame.\n",
    "life_exp = pd.read_csv(os.path.join(os.getcwd(), \"Life Expectancy Data.csv\"),\n",
    "                       encoding=\"utf8\")\n",
    "life_exp.columns = life_exp.columns.str.strip()\n",
    "life_exp.rename(columns={'Life expectancy' : 'Life Expectancy'}, inplace=True)\n",
    "# Pycountry (which will be used to obtain the continents of each country) has slightly different names for each country.\n",
    "# As a result, they have been renamed in the for loop below. \n",
    "life_exp[\"Continent\"] = \"\"\n",
    "for index in range(0, len(life_exp)):\n",
    "  if life_exp.loc[index, \"Country\"] == 'Bolivia (Plurinational State of)':\n",
    "    life_exp.loc[index, \"Country\"] = 'Bolivia, Plurinational State of'\n",
    "  elif life_exp.loc[index, \"Country\"] == 'Iran (Islamic Republic of)':\n",
    "    life_exp.loc[index, \"Country\"] = 'Iran, Islamic Republic of'\n",
    "  elif life_exp.loc[index, \"Country\"] == 'Micronesia (Federated States of)':\n",
    "    life_exp.loc[index, \"Country\"] = 'Micronesia, Federated States of'\n",
    "  elif life_exp.loc[index, \"Country\"] == 'Republic of Korea':\n",
    "    life_exp.loc[index, \"Country\"] = 'Korea, Republic of'\n",
    "  elif life_exp.loc[index, \"Country\"] == 'The former Yugoslav republic of Macedonia':\n",
    "    life_exp.loc[index, \"Country\"] = 'North Macedonia'\n",
    "  elif life_exp.loc[index, \"Country\"] == \"Timor-Leste\":\n",
    "    continent_name = pc.country_alpha2_to_continent_code(\"TP\")\n",
    "    life_exp.loc[index, \"Continent\"] = continent_name\n",
    "    continue\n",
    "  elif life_exp.loc[index, \"Country\"] == 'Venezuela (Bolivarian Republic of)':\n",
    "    life_exp.loc[index, \"Country\"] = 'Venezuela, Bolivarian Republic of'\n",
    "  # The following lines of code are from https://stackoverflow.com/questions/55910004/get-continent-name-from-country-using-pycountry\n",
    "  # The code will will mark the continent each country resides in.\n",
    "  country_code = pc.country_name_to_country_alpha2(life_exp.loc[index,\"Country\"], cn_name_format = \"default\")\n",
    "  continent_name = pc.country_alpha2_to_continent_code(country_code)\n",
    "  life_exp.loc[index, \"Continent\"] = continent_name"
   ]
  },
  {
   "cell_type": "markdown",
   "metadata": {},
   "source": [
    "# Before going any further, let's look at our data frame.\n",
    "## Let's also take a look at an explanation of each column, based on the descriptions from the data's [source](https://www.kaggle.com/kumarajarshi/life-expectancy-who?ref=hackernoon.com)\n",
    "    Status-\"Developed or Developing status\"\n",
    "    Life Expectancy-\"Life Expectancy in age\"\n",
    "    Adult Mortality-\"Adult Mortality Rates of both sexes (probability of dying between 15 and 60 years per 1000 population)\"\n",
    "    Infant Deaths-\"Number of Infant Deaths per 1000 population\"\n",
    "    Alcohol-\"Alcohol, recorded per capita (15+) consumption (in litres of pure alcohol)\"\n",
    "    Percentage Expenditure-\"Expenditure on health as a percentage of Gross Domestic Product per capita(%)\"\n",
    "    Hepatitis B-\"Hepatitis B (HepB) immunization coverage among 1-year-olds (%)\"\n",
    "    Measles-\"Measles - number of reported cases per 1000 population\"\n",
    "    BMI-\"Average Body Mass Index of entire population\"\n",
    "    Under Five Deaths-\"Number of under-five deaths per 1000 population\"\n",
    "    Polio-\"Polio (Pol3) immunization coverage among 1-year-olds (%)\"\n",
    "    Total Expenditure-\"General government expenditure on health as a percentage of total government expenditure (%)\"\n",
    "    Diphtheria-\"Diphtheria tetanus toxoid and pertussis (DTP3) immunization coverage among 1-year-olds (%)\"\n",
    "    HIV/AIDS-\"Deaths per 1 000 live births HIV/AIDS (0-4 years)\"\n",
    "    GDP-\"Gross Domestic Product per capita (in USD)\"\n",
    "    Population-\"Population of the country\"\n",
    "    Thinness 1-19 Years-\"Prevalence of thinness among children and adolescents for Age 10 to 19 (%)\"\n",
    "    Thinness 5-9 Years-\"Prevalence of thinness among children for Age 5 to 9(%)\"\n",
    "    Income Composition of Resources-\"Human Development Index in terms of income composition of resources (index ranging from 0 to 1)\"\n",
    "    Schooling-\"Number of years of Schooling(years)\""
   ]
  },
  {
   "cell_type": "code",
   "execution_count": 3,
   "metadata": {},
   "outputs": [
    {
     "data": {
      "text/plain": [
       "0       Afghanistan\n",
       "1       Afghanistan\n",
       "2       Afghanistan\n",
       "3       Afghanistan\n",
       "4       Afghanistan\n",
       "           ...     \n",
       "2933       Zimbabwe\n",
       "2934       Zimbabwe\n",
       "2935       Zimbabwe\n",
       "2936       Zimbabwe\n",
       "2937       Zimbabwe\n",
       "Name: Country, Length: 2938, dtype: object"
      ]
     },
     "execution_count": 3,
     "metadata": {},
     "output_type": "execute_result"
    }
   ],
   "source": [
    "pd.set_option('display.max_columns', None)\n",
    "life_exp[\"Country\"]"
   ]
  },
  {
   "cell_type": "code",
   "execution_count": 4,
   "metadata": {},
   "outputs": [
    {
     "data": {
      "application/vnd.plotly.v1+json": {
       "config": {
        "plotlyServerURL": "https://plotly.com"
       },
       "data": [
        {
         "hovertemplate": "Continent=All Continents<br>Year=%{x}<br>Life Expectancy=%{y}<extra></extra>",
         "legendgroup": "All Continents",
         "line": {
          "color": "#636efa",
          "dash": "solid"
         },
         "marker": {
          "symbol": "circle"
         },
         "mode": "lines",
         "name": "All Continents",
         "orientation": "v",
         "showlegend": true,
         "type": "scatter",
         "x": [
          2000,
          2001,
          2002,
          2003,
          2004,
          2005,
          2006,
          2007,
          2008,
          2009,
          2010,
          2011,
          2012,
          2013,
          2014,
          2015
         ],
         "xaxis": "x",
         "y": [
          66.75027322404371,
          67.12896174863388,
          67.35136612021857,
          67.43333333333332,
          67.6464480874317,
          68.20928961748633,
          68.66775956284154,
          69.0360655737705,
          69.42786885245901,
          69.93825136612023,
          70.04863387978142,
          70.65409836065574,
          70.91693989071038,
          71.23606557377049,
          71.53661202185793,
          71.61693989071038
         ],
         "yaxis": "y"
        },
        {
         "hovertemplate": "Continent=AS<br>Year=%{x}<br>Life Expectancy=%{y}<extra></extra>",
         "legendgroup": "AS",
         "line": {
          "color": "#EF553B",
          "dash": "solid"
         },
         "marker": {
          "symbol": "circle"
         },
         "mode": "lines",
         "name": "AS",
         "orientation": "v",
         "showlegend": true,
         "type": "scatter",
         "x": [
          2000,
          2001,
          2002,
          2003,
          2004,
          2005,
          2006,
          2007,
          2008,
          2009,
          2010,
          2011,
          2012,
          2013,
          2014,
          2015
         ],
         "xaxis": "x",
         "y": [
          69.04468085106383,
          69.67659574468085,
          69.55957446808512,
          69.85531914893616,
          70.02127659574468,
          70.35106382978724,
          70.81702127659575,
          71.07234042553192,
          71.27446808510639,
          71.9191489361702,
          72.11489361702128,
          72.29574468085107,
          72.45531914893617,
          72.5936170212766,
          72.87872340425533,
          73.18510638297872
         ],
         "yaxis": "y"
        },
        {
         "hovertemplate": "Continent=EU<br>Year=%{x}<br>Life Expectancy=%{y}<extra></extra>",
         "legendgroup": "EU",
         "line": {
          "color": "#00cc96",
          "dash": "solid"
         },
         "marker": {
          "symbol": "circle"
         },
         "mode": "lines",
         "name": "EU",
         "orientation": "v",
         "showlegend": true,
         "type": "scatter",
         "x": [
          2000,
          2001,
          2002,
          2003,
          2004,
          2005,
          2006,
          2007,
          2008,
          2009,
          2010,
          2011,
          2012,
          2013,
          2014,
          2015
         ],
         "xaxis": "x",
         "y": [
          75.14871794871796,
          75.49230769230769,
          75.61794871794872,
          75.87179487179488,
          76.26666666666667,
          76.45897435897436,
          77.05128205128206,
          77.46153846153847,
          77.25641025641026,
          77.57179487179488,
          78.13846153846154,
          79.20769230769231,
          79.2,
          79.2,
          79.91025641025641,
          79.04102564102564
         ],
         "yaxis": "y"
        },
        {
         "hovertemplate": "Continent=AF<br>Year=%{x}<br>Life Expectancy=%{y}<extra></extra>",
         "legendgroup": "AF",
         "line": {
          "color": "#ab63fa",
          "dash": "solid"
         },
         "marker": {
          "symbol": "circle"
         },
         "mode": "lines",
         "name": "AF",
         "orientation": "v",
         "showlegend": true,
         "type": "scatter",
         "x": [
          2000,
          2001,
          2002,
          2003,
          2004,
          2005,
          2006,
          2007,
          2008,
          2009,
          2010,
          2011,
          2012,
          2013,
          2014,
          2015
         ],
         "xaxis": "x",
         "y": [
          54.720370370370375,
          55.2074074074074,
          55.63148148148148,
          55.5574074074074,
          55.925925925925924,
          57.129629629629626,
          57.40555555555556,
          58.06481481481482,
          59.07222222222222,
          59.837037037037035,
          60.07592592592592,
          60.5574074074074,
          61.37407407407407,
          62.27222222222222,
          62.2925925925926,
          62.666666666666664
         ],
         "yaxis": "y"
        },
        {
         "hovertemplate": "Continent=NA<br>Year=%{x}<br>Life Expectancy=%{y}<extra></extra>",
         "legendgroup": "NA",
         "line": {
          "color": "#FFA15A",
          "dash": "solid"
         },
         "marker": {
          "symbol": "circle"
         },
         "mode": "lines",
         "name": "NA",
         "orientation": "v",
         "showlegend": true,
         "type": "scatter",
         "x": [
          2000,
          2001,
          2002,
          2003,
          2004,
          2005,
          2006,
          2007,
          2008,
          2009,
          2010,
          2011,
          2012,
          2013,
          2014,
          2015
         ],
         "xaxis": "x",
         "y": [
          72.68095238095238,
          72.88571428571429,
          73.52857142857142,
          72.8047619047619,
          72.6047619047619,
          73.07619047619048,
          73.7,
          73.9857142857143,
          74.3952380952381,
          74.2,
          73.14285714285714,
          74.50952380952381,
          74.65238095238095,
          74.51904761904763,
          74.76190476190476,
          75.0142857142857
         ],
         "yaxis": "y"
        },
        {
         "hovertemplate": "Continent=SA<br>Year=%{x}<br>Life Expectancy=%{y}<extra></extra>",
         "legendgroup": "SA",
         "line": {
          "color": "#19d3f3",
          "dash": "solid"
         },
         "marker": {
          "symbol": "circle"
         },
         "mode": "lines",
         "name": "SA",
         "orientation": "v",
         "showlegend": true,
         "type": "scatter",
         "x": [
          2000,
          2001,
          2002,
          2003,
          2004,
          2005,
          2006,
          2007,
          2008,
          2009,
          2010,
          2011,
          2012,
          2013,
          2014,
          2015
         ],
         "xaxis": "x",
         "y": [
          72,
          71.24166666666666,
          71.53333333333333,
          71.66666666666667,
          71.93333333333334,
          72.25833333333334,
          72.63333333333334,
          72.70833333333333,
          73.01666666666667,
          73.19166666666666,
          73.45833333333333,
          74.05833333333334,
          73.80833333333334,
          74.15833333333333,
          74.65833333333333,
          75.22500000000001
         ],
         "yaxis": "y"
        },
        {
         "hovertemplate": "Continent=OC<br>Year=%{x}<br>Life Expectancy=%{y}<extra></extra>",
         "legendgroup": "OC",
         "line": {
          "color": "#FF6692",
          "dash": "solid"
         },
         "marker": {
          "symbol": "circle"
         },
         "mode": "lines",
         "name": "OC",
         "orientation": "v",
         "showlegend": true,
         "type": "scatter",
         "x": [
          2000,
          2001,
          2002,
          2003,
          2004,
          2005,
          2006,
          2007,
          2008,
          2009,
          2010,
          2011,
          2012,
          2013,
          2014,
          2015
         ],
         "xaxis": "x",
         "y": [
          69.41999999999999,
          69.89,
          70.03,
          70.91,
          70.6,
          70.72,
          71.36,
          71.05,
          71.4,
          72.55,
          72.05,
          71.92,
          71.6,
          71.8,
          71.97,
          72.16
         ],
         "yaxis": "y"
        }
       ],
       "layout": {
        "legend": {
         "title": {
          "text": "Continent"
         },
         "tracegroupgap": 0
        },
        "template": {
         "data": {
          "bar": [
           {
            "error_x": {
             "color": "#2a3f5f"
            },
            "error_y": {
             "color": "#2a3f5f"
            },
            "marker": {
             "line": {
              "color": "#E5ECF6",
              "width": 0.5
             },
             "pattern": {
              "fillmode": "overlay",
              "size": 10,
              "solidity": 0.2
             }
            },
            "type": "bar"
           }
          ],
          "barpolar": [
           {
            "marker": {
             "line": {
              "color": "#E5ECF6",
              "width": 0.5
             },
             "pattern": {
              "fillmode": "overlay",
              "size": 10,
              "solidity": 0.2
             }
            },
            "type": "barpolar"
           }
          ],
          "carpet": [
           {
            "aaxis": {
             "endlinecolor": "#2a3f5f",
             "gridcolor": "white",
             "linecolor": "white",
             "minorgridcolor": "white",
             "startlinecolor": "#2a3f5f"
            },
            "baxis": {
             "endlinecolor": "#2a3f5f",
             "gridcolor": "white",
             "linecolor": "white",
             "minorgridcolor": "white",
             "startlinecolor": "#2a3f5f"
            },
            "type": "carpet"
           }
          ],
          "choropleth": [
           {
            "colorbar": {
             "outlinewidth": 0,
             "ticks": ""
            },
            "type": "choropleth"
           }
          ],
          "contour": [
           {
            "colorbar": {
             "outlinewidth": 0,
             "ticks": ""
            },
            "colorscale": [
             [
              0,
              "#0d0887"
             ],
             [
              0.1111111111111111,
              "#46039f"
             ],
             [
              0.2222222222222222,
              "#7201a8"
             ],
             [
              0.3333333333333333,
              "#9c179e"
             ],
             [
              0.4444444444444444,
              "#bd3786"
             ],
             [
              0.5555555555555556,
              "#d8576b"
             ],
             [
              0.6666666666666666,
              "#ed7953"
             ],
             [
              0.7777777777777778,
              "#fb9f3a"
             ],
             [
              0.8888888888888888,
              "#fdca26"
             ],
             [
              1,
              "#f0f921"
             ]
            ],
            "type": "contour"
           }
          ],
          "contourcarpet": [
           {
            "colorbar": {
             "outlinewidth": 0,
             "ticks": ""
            },
            "type": "contourcarpet"
           }
          ],
          "heatmap": [
           {
            "colorbar": {
             "outlinewidth": 0,
             "ticks": ""
            },
            "colorscale": [
             [
              0,
              "#0d0887"
             ],
             [
              0.1111111111111111,
              "#46039f"
             ],
             [
              0.2222222222222222,
              "#7201a8"
             ],
             [
              0.3333333333333333,
              "#9c179e"
             ],
             [
              0.4444444444444444,
              "#bd3786"
             ],
             [
              0.5555555555555556,
              "#d8576b"
             ],
             [
              0.6666666666666666,
              "#ed7953"
             ],
             [
              0.7777777777777778,
              "#fb9f3a"
             ],
             [
              0.8888888888888888,
              "#fdca26"
             ],
             [
              1,
              "#f0f921"
             ]
            ],
            "type": "heatmap"
           }
          ],
          "heatmapgl": [
           {
            "colorbar": {
             "outlinewidth": 0,
             "ticks": ""
            },
            "colorscale": [
             [
              0,
              "#0d0887"
             ],
             [
              0.1111111111111111,
              "#46039f"
             ],
             [
              0.2222222222222222,
              "#7201a8"
             ],
             [
              0.3333333333333333,
              "#9c179e"
             ],
             [
              0.4444444444444444,
              "#bd3786"
             ],
             [
              0.5555555555555556,
              "#d8576b"
             ],
             [
              0.6666666666666666,
              "#ed7953"
             ],
             [
              0.7777777777777778,
              "#fb9f3a"
             ],
             [
              0.8888888888888888,
              "#fdca26"
             ],
             [
              1,
              "#f0f921"
             ]
            ],
            "type": "heatmapgl"
           }
          ],
          "histogram": [
           {
            "marker": {
             "pattern": {
              "fillmode": "overlay",
              "size": 10,
              "solidity": 0.2
             }
            },
            "type": "histogram"
           }
          ],
          "histogram2d": [
           {
            "colorbar": {
             "outlinewidth": 0,
             "ticks": ""
            },
            "colorscale": [
             [
              0,
              "#0d0887"
             ],
             [
              0.1111111111111111,
              "#46039f"
             ],
             [
              0.2222222222222222,
              "#7201a8"
             ],
             [
              0.3333333333333333,
              "#9c179e"
             ],
             [
              0.4444444444444444,
              "#bd3786"
             ],
             [
              0.5555555555555556,
              "#d8576b"
             ],
             [
              0.6666666666666666,
              "#ed7953"
             ],
             [
              0.7777777777777778,
              "#fb9f3a"
             ],
             [
              0.8888888888888888,
              "#fdca26"
             ],
             [
              1,
              "#f0f921"
             ]
            ],
            "type": "histogram2d"
           }
          ],
          "histogram2dcontour": [
           {
            "colorbar": {
             "outlinewidth": 0,
             "ticks": ""
            },
            "colorscale": [
             [
              0,
              "#0d0887"
             ],
             [
              0.1111111111111111,
              "#46039f"
             ],
             [
              0.2222222222222222,
              "#7201a8"
             ],
             [
              0.3333333333333333,
              "#9c179e"
             ],
             [
              0.4444444444444444,
              "#bd3786"
             ],
             [
              0.5555555555555556,
              "#d8576b"
             ],
             [
              0.6666666666666666,
              "#ed7953"
             ],
             [
              0.7777777777777778,
              "#fb9f3a"
             ],
             [
              0.8888888888888888,
              "#fdca26"
             ],
             [
              1,
              "#f0f921"
             ]
            ],
            "type": "histogram2dcontour"
           }
          ],
          "mesh3d": [
           {
            "colorbar": {
             "outlinewidth": 0,
             "ticks": ""
            },
            "type": "mesh3d"
           }
          ],
          "parcoords": [
           {
            "line": {
             "colorbar": {
              "outlinewidth": 0,
              "ticks": ""
             }
            },
            "type": "parcoords"
           }
          ],
          "pie": [
           {
            "automargin": true,
            "type": "pie"
           }
          ],
          "scatter": [
           {
            "fillpattern": {
             "fillmode": "overlay",
             "size": 10,
             "solidity": 0.2
            },
            "type": "scatter"
           }
          ],
          "scatter3d": [
           {
            "line": {
             "colorbar": {
              "outlinewidth": 0,
              "ticks": ""
             }
            },
            "marker": {
             "colorbar": {
              "outlinewidth": 0,
              "ticks": ""
             }
            },
            "type": "scatter3d"
           }
          ],
          "scattercarpet": [
           {
            "marker": {
             "colorbar": {
              "outlinewidth": 0,
              "ticks": ""
             }
            },
            "type": "scattercarpet"
           }
          ],
          "scattergeo": [
           {
            "marker": {
             "colorbar": {
              "outlinewidth": 0,
              "ticks": ""
             }
            },
            "type": "scattergeo"
           }
          ],
          "scattergl": [
           {
            "marker": {
             "colorbar": {
              "outlinewidth": 0,
              "ticks": ""
             }
            },
            "type": "scattergl"
           }
          ],
          "scattermapbox": [
           {
            "marker": {
             "colorbar": {
              "outlinewidth": 0,
              "ticks": ""
             }
            },
            "type": "scattermapbox"
           }
          ],
          "scatterpolar": [
           {
            "marker": {
             "colorbar": {
              "outlinewidth": 0,
              "ticks": ""
             }
            },
            "type": "scatterpolar"
           }
          ],
          "scatterpolargl": [
           {
            "marker": {
             "colorbar": {
              "outlinewidth": 0,
              "ticks": ""
             }
            },
            "type": "scatterpolargl"
           }
          ],
          "scatterternary": [
           {
            "marker": {
             "colorbar": {
              "outlinewidth": 0,
              "ticks": ""
             }
            },
            "type": "scatterternary"
           }
          ],
          "surface": [
           {
            "colorbar": {
             "outlinewidth": 0,
             "ticks": ""
            },
            "colorscale": [
             [
              0,
              "#0d0887"
             ],
             [
              0.1111111111111111,
              "#46039f"
             ],
             [
              0.2222222222222222,
              "#7201a8"
             ],
             [
              0.3333333333333333,
              "#9c179e"
             ],
             [
              0.4444444444444444,
              "#bd3786"
             ],
             [
              0.5555555555555556,
              "#d8576b"
             ],
             [
              0.6666666666666666,
              "#ed7953"
             ],
             [
              0.7777777777777778,
              "#fb9f3a"
             ],
             [
              0.8888888888888888,
              "#fdca26"
             ],
             [
              1,
              "#f0f921"
             ]
            ],
            "type": "surface"
           }
          ],
          "table": [
           {
            "cells": {
             "fill": {
              "color": "#EBF0F8"
             },
             "line": {
              "color": "white"
             }
            },
            "header": {
             "fill": {
              "color": "#C8D4E3"
             },
             "line": {
              "color": "white"
             }
            },
            "type": "table"
           }
          ]
         },
         "layout": {
          "annotationdefaults": {
           "arrowcolor": "#2a3f5f",
           "arrowhead": 0,
           "arrowwidth": 1
          },
          "autotypenumbers": "strict",
          "coloraxis": {
           "colorbar": {
            "outlinewidth": 0,
            "ticks": ""
           }
          },
          "colorscale": {
           "diverging": [
            [
             0,
             "#8e0152"
            ],
            [
             0.1,
             "#c51b7d"
            ],
            [
             0.2,
             "#de77ae"
            ],
            [
             0.3,
             "#f1b6da"
            ],
            [
             0.4,
             "#fde0ef"
            ],
            [
             0.5,
             "#f7f7f7"
            ],
            [
             0.6,
             "#e6f5d0"
            ],
            [
             0.7,
             "#b8e186"
            ],
            [
             0.8,
             "#7fbc41"
            ],
            [
             0.9,
             "#4d9221"
            ],
            [
             1,
             "#276419"
            ]
           ],
           "sequential": [
            [
             0,
             "#0d0887"
            ],
            [
             0.1111111111111111,
             "#46039f"
            ],
            [
             0.2222222222222222,
             "#7201a8"
            ],
            [
             0.3333333333333333,
             "#9c179e"
            ],
            [
             0.4444444444444444,
             "#bd3786"
            ],
            [
             0.5555555555555556,
             "#d8576b"
            ],
            [
             0.6666666666666666,
             "#ed7953"
            ],
            [
             0.7777777777777778,
             "#fb9f3a"
            ],
            [
             0.8888888888888888,
             "#fdca26"
            ],
            [
             1,
             "#f0f921"
            ]
           ],
           "sequentialminus": [
            [
             0,
             "#0d0887"
            ],
            [
             0.1111111111111111,
             "#46039f"
            ],
            [
             0.2222222222222222,
             "#7201a8"
            ],
            [
             0.3333333333333333,
             "#9c179e"
            ],
            [
             0.4444444444444444,
             "#bd3786"
            ],
            [
             0.5555555555555556,
             "#d8576b"
            ],
            [
             0.6666666666666666,
             "#ed7953"
            ],
            [
             0.7777777777777778,
             "#fb9f3a"
            ],
            [
             0.8888888888888888,
             "#fdca26"
            ],
            [
             1,
             "#f0f921"
            ]
           ]
          },
          "colorway": [
           "#636efa",
           "#EF553B",
           "#00cc96",
           "#ab63fa",
           "#FFA15A",
           "#19d3f3",
           "#FF6692",
           "#B6E880",
           "#FF97FF",
           "#FECB52"
          ],
          "font": {
           "color": "#2a3f5f"
          },
          "geo": {
           "bgcolor": "white",
           "lakecolor": "white",
           "landcolor": "#E5ECF6",
           "showlakes": true,
           "showland": true,
           "subunitcolor": "white"
          },
          "hoverlabel": {
           "align": "left"
          },
          "hovermode": "closest",
          "mapbox": {
           "style": "light"
          },
          "paper_bgcolor": "white",
          "plot_bgcolor": "#E5ECF6",
          "polar": {
           "angularaxis": {
            "gridcolor": "white",
            "linecolor": "white",
            "ticks": ""
           },
           "bgcolor": "#E5ECF6",
           "radialaxis": {
            "gridcolor": "white",
            "linecolor": "white",
            "ticks": ""
           }
          },
          "scene": {
           "xaxis": {
            "backgroundcolor": "#E5ECF6",
            "gridcolor": "white",
            "gridwidth": 2,
            "linecolor": "white",
            "showbackground": true,
            "ticks": "",
            "zerolinecolor": "white"
           },
           "yaxis": {
            "backgroundcolor": "#E5ECF6",
            "gridcolor": "white",
            "gridwidth": 2,
            "linecolor": "white",
            "showbackground": true,
            "ticks": "",
            "zerolinecolor": "white"
           },
           "zaxis": {
            "backgroundcolor": "#E5ECF6",
            "gridcolor": "white",
            "gridwidth": 2,
            "linecolor": "white",
            "showbackground": true,
            "ticks": "",
            "zerolinecolor": "white"
           }
          },
          "shapedefaults": {
           "line": {
            "color": "#2a3f5f"
           }
          },
          "ternary": {
           "aaxis": {
            "gridcolor": "white",
            "linecolor": "white",
            "ticks": ""
           },
           "baxis": {
            "gridcolor": "white",
            "linecolor": "white",
            "ticks": ""
           },
           "bgcolor": "#E5ECF6",
           "caxis": {
            "gridcolor": "white",
            "linecolor": "white",
            "ticks": ""
           }
          },
          "title": {
           "x": 0.05
          },
          "xaxis": {
           "automargin": true,
           "gridcolor": "white",
           "linecolor": "white",
           "ticks": "",
           "title": {
            "standoff": 15
           },
           "zerolinecolor": "white",
           "zerolinewidth": 2
          },
          "yaxis": {
           "automargin": true,
           "gridcolor": "white",
           "linecolor": "white",
           "ticks": "",
           "title": {
            "standoff": 15
           },
           "zerolinecolor": "white",
           "zerolinewidth": 2
          }
         }
        },
        "title": {
         "text": "Life Expectency Across Continents"
        },
        "xaxis": {
         "anchor": "y",
         "domain": [
          0,
          1
         ],
         "title": {
          "text": "Year"
         }
        },
        "yaxis": {
         "anchor": "x",
         "domain": [
          0,
          1
         ],
         "title": {
          "text": "Life Expectancy"
         }
        }
       }
      }
     },
     "metadata": {},
     "output_type": "display_data"
    }
   ],
   "source": [
    "# A temporary data frame, will be created to obtain the yearly average\n",
    "# life expectancy for all the continents combined.\n",
    "all_continents = life_exp.groupby(\"Year\").mean().reset_index()\n",
    "all_continents[\"Continent\"] = \"All Continents\"\n",
    "# The for loop below will find the yearly average life expectancy\n",
    "# for each continent and then merge it with the all_continents data frame.\n",
    "for continent in list(life_exp[\"Continent\"].unique()):\n",
    "  continent_df = life_exp[life_exp[\"Continent\"] == continent]\n",
    "  continent_df = continent_df.groupby(\"Year\").mean().reset_index()\n",
    "  continent_df[\"Continent\"] = str(continent)\n",
    "  all_continents = pd.merge(all_continents, continent_df, how=\"outer\")\n",
    "# At this point, the all_continents data frame has the annual average\n",
    "# life expectancy for each continent as well as the annual average\n",
    "# life expectancy for all the continents combined.\n",
    "life_exp_fig = px.line(all_continents, x=\"Year\", y=\"Life Expectancy\",\n",
    "                       color=\"Continent\",\n",
    "                       title='Life Expectency Across Continents')\n",
    "life_exp_fig.show()\n"
   ]
  },
  {
   "cell_type": "code",
   "execution_count": 5,
   "metadata": {
    "scrolled": false
   },
   "outputs": [
    {
     "data": {
      "application/vnd.plotly.v1+json": {
       "config": {
        "plotlyServerURL": "https://plotly.com"
       },
       "data": [
        {
         "alignmentgroup": "True",
         "hovertemplate": "Continent=%{x}<br>Life Expectancy=%{marker.color}<extra></extra>",
         "legendgroup": "",
         "marker": {
          "color": [
           58.611921296296295,
           71.19468085106382,
           71.214375,
           72.971875,
           73.77886904761904,
           77.43092948717948
          ],
          "coloraxis": "coloraxis",
          "pattern": {
           "shape": ""
          }
         },
         "name": "",
         "offsetgroup": "",
         "orientation": "v",
         "showlegend": false,
         "textposition": "auto",
         "type": "bar",
         "x": [
          "AF",
          "AS",
          "OC",
          "SA",
          "NA",
          "EU"
         ],
         "xaxis": "x",
         "y": [
          58.611921296296295,
          71.19468085106382,
          71.214375,
          72.971875,
          73.77886904761904,
          77.43092948717948
         ],
         "yaxis": "y"
        }
       ],
       "layout": {
        "barmode": "relative",
        "coloraxis": {
         "colorbar": {
          "title": {
           "text": "Life Expectancy"
          }
         },
         "colorscale": [
          [
           0,
           "#0d0887"
          ],
          [
           0.1111111111111111,
           "#46039f"
          ],
          [
           0.2222222222222222,
           "#7201a8"
          ],
          [
           0.3333333333333333,
           "#9c179e"
          ],
          [
           0.4444444444444444,
           "#bd3786"
          ],
          [
           0.5555555555555556,
           "#d8576b"
          ],
          [
           0.6666666666666666,
           "#ed7953"
          ],
          [
           0.7777777777777778,
           "#fb9f3a"
          ],
          [
           0.8888888888888888,
           "#fdca26"
          ],
          [
           1,
           "#f0f921"
          ]
         ]
        },
        "legend": {
         "tracegroupgap": 0
        },
        "template": {
         "data": {
          "bar": [
           {
            "error_x": {
             "color": "#2a3f5f"
            },
            "error_y": {
             "color": "#2a3f5f"
            },
            "marker": {
             "line": {
              "color": "#E5ECF6",
              "width": 0.5
             },
             "pattern": {
              "fillmode": "overlay",
              "size": 10,
              "solidity": 0.2
             }
            },
            "type": "bar"
           }
          ],
          "barpolar": [
           {
            "marker": {
             "line": {
              "color": "#E5ECF6",
              "width": 0.5
             },
             "pattern": {
              "fillmode": "overlay",
              "size": 10,
              "solidity": 0.2
             }
            },
            "type": "barpolar"
           }
          ],
          "carpet": [
           {
            "aaxis": {
             "endlinecolor": "#2a3f5f",
             "gridcolor": "white",
             "linecolor": "white",
             "minorgridcolor": "white",
             "startlinecolor": "#2a3f5f"
            },
            "baxis": {
             "endlinecolor": "#2a3f5f",
             "gridcolor": "white",
             "linecolor": "white",
             "minorgridcolor": "white",
             "startlinecolor": "#2a3f5f"
            },
            "type": "carpet"
           }
          ],
          "choropleth": [
           {
            "colorbar": {
             "outlinewidth": 0,
             "ticks": ""
            },
            "type": "choropleth"
           }
          ],
          "contour": [
           {
            "colorbar": {
             "outlinewidth": 0,
             "ticks": ""
            },
            "colorscale": [
             [
              0,
              "#0d0887"
             ],
             [
              0.1111111111111111,
              "#46039f"
             ],
             [
              0.2222222222222222,
              "#7201a8"
             ],
             [
              0.3333333333333333,
              "#9c179e"
             ],
             [
              0.4444444444444444,
              "#bd3786"
             ],
             [
              0.5555555555555556,
              "#d8576b"
             ],
             [
              0.6666666666666666,
              "#ed7953"
             ],
             [
              0.7777777777777778,
              "#fb9f3a"
             ],
             [
              0.8888888888888888,
              "#fdca26"
             ],
             [
              1,
              "#f0f921"
             ]
            ],
            "type": "contour"
           }
          ],
          "contourcarpet": [
           {
            "colorbar": {
             "outlinewidth": 0,
             "ticks": ""
            },
            "type": "contourcarpet"
           }
          ],
          "heatmap": [
           {
            "colorbar": {
             "outlinewidth": 0,
             "ticks": ""
            },
            "colorscale": [
             [
              0,
              "#0d0887"
             ],
             [
              0.1111111111111111,
              "#46039f"
             ],
             [
              0.2222222222222222,
              "#7201a8"
             ],
             [
              0.3333333333333333,
              "#9c179e"
             ],
             [
              0.4444444444444444,
              "#bd3786"
             ],
             [
              0.5555555555555556,
              "#d8576b"
             ],
             [
              0.6666666666666666,
              "#ed7953"
             ],
             [
              0.7777777777777778,
              "#fb9f3a"
             ],
             [
              0.8888888888888888,
              "#fdca26"
             ],
             [
              1,
              "#f0f921"
             ]
            ],
            "type": "heatmap"
           }
          ],
          "heatmapgl": [
           {
            "colorbar": {
             "outlinewidth": 0,
             "ticks": ""
            },
            "colorscale": [
             [
              0,
              "#0d0887"
             ],
             [
              0.1111111111111111,
              "#46039f"
             ],
             [
              0.2222222222222222,
              "#7201a8"
             ],
             [
              0.3333333333333333,
              "#9c179e"
             ],
             [
              0.4444444444444444,
              "#bd3786"
             ],
             [
              0.5555555555555556,
              "#d8576b"
             ],
             [
              0.6666666666666666,
              "#ed7953"
             ],
             [
              0.7777777777777778,
              "#fb9f3a"
             ],
             [
              0.8888888888888888,
              "#fdca26"
             ],
             [
              1,
              "#f0f921"
             ]
            ],
            "type": "heatmapgl"
           }
          ],
          "histogram": [
           {
            "marker": {
             "pattern": {
              "fillmode": "overlay",
              "size": 10,
              "solidity": 0.2
             }
            },
            "type": "histogram"
           }
          ],
          "histogram2d": [
           {
            "colorbar": {
             "outlinewidth": 0,
             "ticks": ""
            },
            "colorscale": [
             [
              0,
              "#0d0887"
             ],
             [
              0.1111111111111111,
              "#46039f"
             ],
             [
              0.2222222222222222,
              "#7201a8"
             ],
             [
              0.3333333333333333,
              "#9c179e"
             ],
             [
              0.4444444444444444,
              "#bd3786"
             ],
             [
              0.5555555555555556,
              "#d8576b"
             ],
             [
              0.6666666666666666,
              "#ed7953"
             ],
             [
              0.7777777777777778,
              "#fb9f3a"
             ],
             [
              0.8888888888888888,
              "#fdca26"
             ],
             [
              1,
              "#f0f921"
             ]
            ],
            "type": "histogram2d"
           }
          ],
          "histogram2dcontour": [
           {
            "colorbar": {
             "outlinewidth": 0,
             "ticks": ""
            },
            "colorscale": [
             [
              0,
              "#0d0887"
             ],
             [
              0.1111111111111111,
              "#46039f"
             ],
             [
              0.2222222222222222,
              "#7201a8"
             ],
             [
              0.3333333333333333,
              "#9c179e"
             ],
             [
              0.4444444444444444,
              "#bd3786"
             ],
             [
              0.5555555555555556,
              "#d8576b"
             ],
             [
              0.6666666666666666,
              "#ed7953"
             ],
             [
              0.7777777777777778,
              "#fb9f3a"
             ],
             [
              0.8888888888888888,
              "#fdca26"
             ],
             [
              1,
              "#f0f921"
             ]
            ],
            "type": "histogram2dcontour"
           }
          ],
          "mesh3d": [
           {
            "colorbar": {
             "outlinewidth": 0,
             "ticks": ""
            },
            "type": "mesh3d"
           }
          ],
          "parcoords": [
           {
            "line": {
             "colorbar": {
              "outlinewidth": 0,
              "ticks": ""
             }
            },
            "type": "parcoords"
           }
          ],
          "pie": [
           {
            "automargin": true,
            "type": "pie"
           }
          ],
          "scatter": [
           {
            "fillpattern": {
             "fillmode": "overlay",
             "size": 10,
             "solidity": 0.2
            },
            "type": "scatter"
           }
          ],
          "scatter3d": [
           {
            "line": {
             "colorbar": {
              "outlinewidth": 0,
              "ticks": ""
             }
            },
            "marker": {
             "colorbar": {
              "outlinewidth": 0,
              "ticks": ""
             }
            },
            "type": "scatter3d"
           }
          ],
          "scattercarpet": [
           {
            "marker": {
             "colorbar": {
              "outlinewidth": 0,
              "ticks": ""
             }
            },
            "type": "scattercarpet"
           }
          ],
          "scattergeo": [
           {
            "marker": {
             "colorbar": {
              "outlinewidth": 0,
              "ticks": ""
             }
            },
            "type": "scattergeo"
           }
          ],
          "scattergl": [
           {
            "marker": {
             "colorbar": {
              "outlinewidth": 0,
              "ticks": ""
             }
            },
            "type": "scattergl"
           }
          ],
          "scattermapbox": [
           {
            "marker": {
             "colorbar": {
              "outlinewidth": 0,
              "ticks": ""
             }
            },
            "type": "scattermapbox"
           }
          ],
          "scatterpolar": [
           {
            "marker": {
             "colorbar": {
              "outlinewidth": 0,
              "ticks": ""
             }
            },
            "type": "scatterpolar"
           }
          ],
          "scatterpolargl": [
           {
            "marker": {
             "colorbar": {
              "outlinewidth": 0,
              "ticks": ""
             }
            },
            "type": "scatterpolargl"
           }
          ],
          "scatterternary": [
           {
            "marker": {
             "colorbar": {
              "outlinewidth": 0,
              "ticks": ""
             }
            },
            "type": "scatterternary"
           }
          ],
          "surface": [
           {
            "colorbar": {
             "outlinewidth": 0,
             "ticks": ""
            },
            "colorscale": [
             [
              0,
              "#0d0887"
             ],
             [
              0.1111111111111111,
              "#46039f"
             ],
             [
              0.2222222222222222,
              "#7201a8"
             ],
             [
              0.3333333333333333,
              "#9c179e"
             ],
             [
              0.4444444444444444,
              "#bd3786"
             ],
             [
              0.5555555555555556,
              "#d8576b"
             ],
             [
              0.6666666666666666,
              "#ed7953"
             ],
             [
              0.7777777777777778,
              "#fb9f3a"
             ],
             [
              0.8888888888888888,
              "#fdca26"
             ],
             [
              1,
              "#f0f921"
             ]
            ],
            "type": "surface"
           }
          ],
          "table": [
           {
            "cells": {
             "fill": {
              "color": "#EBF0F8"
             },
             "line": {
              "color": "white"
             }
            },
            "header": {
             "fill": {
              "color": "#C8D4E3"
             },
             "line": {
              "color": "white"
             }
            },
            "type": "table"
           }
          ]
         },
         "layout": {
          "annotationdefaults": {
           "arrowcolor": "#2a3f5f",
           "arrowhead": 0,
           "arrowwidth": 1
          },
          "autotypenumbers": "strict",
          "coloraxis": {
           "colorbar": {
            "outlinewidth": 0,
            "ticks": ""
           }
          },
          "colorscale": {
           "diverging": [
            [
             0,
             "#8e0152"
            ],
            [
             0.1,
             "#c51b7d"
            ],
            [
             0.2,
             "#de77ae"
            ],
            [
             0.3,
             "#f1b6da"
            ],
            [
             0.4,
             "#fde0ef"
            ],
            [
             0.5,
             "#f7f7f7"
            ],
            [
             0.6,
             "#e6f5d0"
            ],
            [
             0.7,
             "#b8e186"
            ],
            [
             0.8,
             "#7fbc41"
            ],
            [
             0.9,
             "#4d9221"
            ],
            [
             1,
             "#276419"
            ]
           ],
           "sequential": [
            [
             0,
             "#0d0887"
            ],
            [
             0.1111111111111111,
             "#46039f"
            ],
            [
             0.2222222222222222,
             "#7201a8"
            ],
            [
             0.3333333333333333,
             "#9c179e"
            ],
            [
             0.4444444444444444,
             "#bd3786"
            ],
            [
             0.5555555555555556,
             "#d8576b"
            ],
            [
             0.6666666666666666,
             "#ed7953"
            ],
            [
             0.7777777777777778,
             "#fb9f3a"
            ],
            [
             0.8888888888888888,
             "#fdca26"
            ],
            [
             1,
             "#f0f921"
            ]
           ],
           "sequentialminus": [
            [
             0,
             "#0d0887"
            ],
            [
             0.1111111111111111,
             "#46039f"
            ],
            [
             0.2222222222222222,
             "#7201a8"
            ],
            [
             0.3333333333333333,
             "#9c179e"
            ],
            [
             0.4444444444444444,
             "#bd3786"
            ],
            [
             0.5555555555555556,
             "#d8576b"
            ],
            [
             0.6666666666666666,
             "#ed7953"
            ],
            [
             0.7777777777777778,
             "#fb9f3a"
            ],
            [
             0.8888888888888888,
             "#fdca26"
            ],
            [
             1,
             "#f0f921"
            ]
           ]
          },
          "colorway": [
           "#636efa",
           "#EF553B",
           "#00cc96",
           "#ab63fa",
           "#FFA15A",
           "#19d3f3",
           "#FF6692",
           "#B6E880",
           "#FF97FF",
           "#FECB52"
          ],
          "font": {
           "color": "#2a3f5f"
          },
          "geo": {
           "bgcolor": "white",
           "lakecolor": "white",
           "landcolor": "#E5ECF6",
           "showlakes": true,
           "showland": true,
           "subunitcolor": "white"
          },
          "hoverlabel": {
           "align": "left"
          },
          "hovermode": "closest",
          "mapbox": {
           "style": "light"
          },
          "paper_bgcolor": "white",
          "plot_bgcolor": "#E5ECF6",
          "polar": {
           "angularaxis": {
            "gridcolor": "white",
            "linecolor": "white",
            "ticks": ""
           },
           "bgcolor": "#E5ECF6",
           "radialaxis": {
            "gridcolor": "white",
            "linecolor": "white",
            "ticks": ""
           }
          },
          "scene": {
           "xaxis": {
            "backgroundcolor": "#E5ECF6",
            "gridcolor": "white",
            "gridwidth": 2,
            "linecolor": "white",
            "showbackground": true,
            "ticks": "",
            "zerolinecolor": "white"
           },
           "yaxis": {
            "backgroundcolor": "#E5ECF6",
            "gridcolor": "white",
            "gridwidth": 2,
            "linecolor": "white",
            "showbackground": true,
            "ticks": "",
            "zerolinecolor": "white"
           },
           "zaxis": {
            "backgroundcolor": "#E5ECF6",
            "gridcolor": "white",
            "gridwidth": 2,
            "linecolor": "white",
            "showbackground": true,
            "ticks": "",
            "zerolinecolor": "white"
           }
          },
          "shapedefaults": {
           "line": {
            "color": "#2a3f5f"
           }
          },
          "ternary": {
           "aaxis": {
            "gridcolor": "white",
            "linecolor": "white",
            "ticks": ""
           },
           "baxis": {
            "gridcolor": "white",
            "linecolor": "white",
            "ticks": ""
           },
           "bgcolor": "#E5ECF6",
           "caxis": {
            "gridcolor": "white",
            "linecolor": "white",
            "ticks": ""
           }
          },
          "title": {
           "x": 0.05
          },
          "xaxis": {
           "automargin": true,
           "gridcolor": "white",
           "linecolor": "white",
           "ticks": "",
           "title": {
            "standoff": 15
           },
           "zerolinecolor": "white",
           "zerolinewidth": 2
          },
          "yaxis": {
           "automargin": true,
           "gridcolor": "white",
           "linecolor": "white",
           "ticks": "",
           "title": {
            "standoff": 15
           },
           "zerolinecolor": "white",
           "zerolinewidth": 2
          }
         }
        },
        "title": {
         "text": "Average Life Expectancy Across Continents"
        },
        "xaxis": {
         "anchor": "y",
         "domain": [
          0,
          1
         ],
         "title": {
          "text": "Continent"
         }
        },
        "yaxis": {
         "anchor": "x",
         "domain": [
          0,
          1
         ],
         "title": {
          "text": "Life Expectancy"
         }
        }
       }
      }
     },
     "metadata": {},
     "output_type": "display_data"
    },
    {
     "data": {
      "application/vnd.plotly.v1+json": {
       "config": {
        "plotlyServerURL": "https://plotly.com"
       },
       "data": [
        {
         "alignmentgroup": "True",
         "hovertemplate": "Continent=%{x}<br>GDP=%{marker.color}<extra></extra>",
         "legendgroup": "",
         "marker": {
          "color": [
           1555.2770169986447,
           4334.0724987,
           5895.401635554579,
           6718.7850147993195,
           7375.560045959713,
           17578.788230281618
          ],
          "coloraxis": "coloraxis",
          "pattern": {
           "shape": ""
          }
         },
         "name": "",
         "offsetgroup": "",
         "orientation": "v",
         "showlegend": false,
         "textposition": "auto",
         "type": "bar",
         "x": [
          "AF",
          "SA",
          "NA",
          "OC",
          "AS",
          "EU"
         ],
         "xaxis": "x",
         "y": [
          1555.2770169986447,
          4334.0724987,
          5895.401635554579,
          6718.7850147993195,
          7375.560045959713,
          17578.788230281618
         ],
         "yaxis": "y"
        }
       ],
       "layout": {
        "barmode": "relative",
        "coloraxis": {
         "colorbar": {
          "title": {
           "text": "GDP"
          }
         },
         "colorscale": [
          [
           0,
           "#0d0887"
          ],
          [
           0.1111111111111111,
           "#46039f"
          ],
          [
           0.2222222222222222,
           "#7201a8"
          ],
          [
           0.3333333333333333,
           "#9c179e"
          ],
          [
           0.4444444444444444,
           "#bd3786"
          ],
          [
           0.5555555555555556,
           "#d8576b"
          ],
          [
           0.6666666666666666,
           "#ed7953"
          ],
          [
           0.7777777777777778,
           "#fb9f3a"
          ],
          [
           0.8888888888888888,
           "#fdca26"
          ],
          [
           1,
           "#f0f921"
          ]
         ]
        },
        "legend": {
         "tracegroupgap": 0
        },
        "template": {
         "data": {
          "bar": [
           {
            "error_x": {
             "color": "#2a3f5f"
            },
            "error_y": {
             "color": "#2a3f5f"
            },
            "marker": {
             "line": {
              "color": "#E5ECF6",
              "width": 0.5
             },
             "pattern": {
              "fillmode": "overlay",
              "size": 10,
              "solidity": 0.2
             }
            },
            "type": "bar"
           }
          ],
          "barpolar": [
           {
            "marker": {
             "line": {
              "color": "#E5ECF6",
              "width": 0.5
             },
             "pattern": {
              "fillmode": "overlay",
              "size": 10,
              "solidity": 0.2
             }
            },
            "type": "barpolar"
           }
          ],
          "carpet": [
           {
            "aaxis": {
             "endlinecolor": "#2a3f5f",
             "gridcolor": "white",
             "linecolor": "white",
             "minorgridcolor": "white",
             "startlinecolor": "#2a3f5f"
            },
            "baxis": {
             "endlinecolor": "#2a3f5f",
             "gridcolor": "white",
             "linecolor": "white",
             "minorgridcolor": "white",
             "startlinecolor": "#2a3f5f"
            },
            "type": "carpet"
           }
          ],
          "choropleth": [
           {
            "colorbar": {
             "outlinewidth": 0,
             "ticks": ""
            },
            "type": "choropleth"
           }
          ],
          "contour": [
           {
            "colorbar": {
             "outlinewidth": 0,
             "ticks": ""
            },
            "colorscale": [
             [
              0,
              "#0d0887"
             ],
             [
              0.1111111111111111,
              "#46039f"
             ],
             [
              0.2222222222222222,
              "#7201a8"
             ],
             [
              0.3333333333333333,
              "#9c179e"
             ],
             [
              0.4444444444444444,
              "#bd3786"
             ],
             [
              0.5555555555555556,
              "#d8576b"
             ],
             [
              0.6666666666666666,
              "#ed7953"
             ],
             [
              0.7777777777777778,
              "#fb9f3a"
             ],
             [
              0.8888888888888888,
              "#fdca26"
             ],
             [
              1,
              "#f0f921"
             ]
            ],
            "type": "contour"
           }
          ],
          "contourcarpet": [
           {
            "colorbar": {
             "outlinewidth": 0,
             "ticks": ""
            },
            "type": "contourcarpet"
           }
          ],
          "heatmap": [
           {
            "colorbar": {
             "outlinewidth": 0,
             "ticks": ""
            },
            "colorscale": [
             [
              0,
              "#0d0887"
             ],
             [
              0.1111111111111111,
              "#46039f"
             ],
             [
              0.2222222222222222,
              "#7201a8"
             ],
             [
              0.3333333333333333,
              "#9c179e"
             ],
             [
              0.4444444444444444,
              "#bd3786"
             ],
             [
              0.5555555555555556,
              "#d8576b"
             ],
             [
              0.6666666666666666,
              "#ed7953"
             ],
             [
              0.7777777777777778,
              "#fb9f3a"
             ],
             [
              0.8888888888888888,
              "#fdca26"
             ],
             [
              1,
              "#f0f921"
             ]
            ],
            "type": "heatmap"
           }
          ],
          "heatmapgl": [
           {
            "colorbar": {
             "outlinewidth": 0,
             "ticks": ""
            },
            "colorscale": [
             [
              0,
              "#0d0887"
             ],
             [
              0.1111111111111111,
              "#46039f"
             ],
             [
              0.2222222222222222,
              "#7201a8"
             ],
             [
              0.3333333333333333,
              "#9c179e"
             ],
             [
              0.4444444444444444,
              "#bd3786"
             ],
             [
              0.5555555555555556,
              "#d8576b"
             ],
             [
              0.6666666666666666,
              "#ed7953"
             ],
             [
              0.7777777777777778,
              "#fb9f3a"
             ],
             [
              0.8888888888888888,
              "#fdca26"
             ],
             [
              1,
              "#f0f921"
             ]
            ],
            "type": "heatmapgl"
           }
          ],
          "histogram": [
           {
            "marker": {
             "pattern": {
              "fillmode": "overlay",
              "size": 10,
              "solidity": 0.2
             }
            },
            "type": "histogram"
           }
          ],
          "histogram2d": [
           {
            "colorbar": {
             "outlinewidth": 0,
             "ticks": ""
            },
            "colorscale": [
             [
              0,
              "#0d0887"
             ],
             [
              0.1111111111111111,
              "#46039f"
             ],
             [
              0.2222222222222222,
              "#7201a8"
             ],
             [
              0.3333333333333333,
              "#9c179e"
             ],
             [
              0.4444444444444444,
              "#bd3786"
             ],
             [
              0.5555555555555556,
              "#d8576b"
             ],
             [
              0.6666666666666666,
              "#ed7953"
             ],
             [
              0.7777777777777778,
              "#fb9f3a"
             ],
             [
              0.8888888888888888,
              "#fdca26"
             ],
             [
              1,
              "#f0f921"
             ]
            ],
            "type": "histogram2d"
           }
          ],
          "histogram2dcontour": [
           {
            "colorbar": {
             "outlinewidth": 0,
             "ticks": ""
            },
            "colorscale": [
             [
              0,
              "#0d0887"
             ],
             [
              0.1111111111111111,
              "#46039f"
             ],
             [
              0.2222222222222222,
              "#7201a8"
             ],
             [
              0.3333333333333333,
              "#9c179e"
             ],
             [
              0.4444444444444444,
              "#bd3786"
             ],
             [
              0.5555555555555556,
              "#d8576b"
             ],
             [
              0.6666666666666666,
              "#ed7953"
             ],
             [
              0.7777777777777778,
              "#fb9f3a"
             ],
             [
              0.8888888888888888,
              "#fdca26"
             ],
             [
              1,
              "#f0f921"
             ]
            ],
            "type": "histogram2dcontour"
           }
          ],
          "mesh3d": [
           {
            "colorbar": {
             "outlinewidth": 0,
             "ticks": ""
            },
            "type": "mesh3d"
           }
          ],
          "parcoords": [
           {
            "line": {
             "colorbar": {
              "outlinewidth": 0,
              "ticks": ""
             }
            },
            "type": "parcoords"
           }
          ],
          "pie": [
           {
            "automargin": true,
            "type": "pie"
           }
          ],
          "scatter": [
           {
            "fillpattern": {
             "fillmode": "overlay",
             "size": 10,
             "solidity": 0.2
            },
            "type": "scatter"
           }
          ],
          "scatter3d": [
           {
            "line": {
             "colorbar": {
              "outlinewidth": 0,
              "ticks": ""
             }
            },
            "marker": {
             "colorbar": {
              "outlinewidth": 0,
              "ticks": ""
             }
            },
            "type": "scatter3d"
           }
          ],
          "scattercarpet": [
           {
            "marker": {
             "colorbar": {
              "outlinewidth": 0,
              "ticks": ""
             }
            },
            "type": "scattercarpet"
           }
          ],
          "scattergeo": [
           {
            "marker": {
             "colorbar": {
              "outlinewidth": 0,
              "ticks": ""
             }
            },
            "type": "scattergeo"
           }
          ],
          "scattergl": [
           {
            "marker": {
             "colorbar": {
              "outlinewidth": 0,
              "ticks": ""
             }
            },
            "type": "scattergl"
           }
          ],
          "scattermapbox": [
           {
            "marker": {
             "colorbar": {
              "outlinewidth": 0,
              "ticks": ""
             }
            },
            "type": "scattermapbox"
           }
          ],
          "scatterpolar": [
           {
            "marker": {
             "colorbar": {
              "outlinewidth": 0,
              "ticks": ""
             }
            },
            "type": "scatterpolar"
           }
          ],
          "scatterpolargl": [
           {
            "marker": {
             "colorbar": {
              "outlinewidth": 0,
              "ticks": ""
             }
            },
            "type": "scatterpolargl"
           }
          ],
          "scatterternary": [
           {
            "marker": {
             "colorbar": {
              "outlinewidth": 0,
              "ticks": ""
             }
            },
            "type": "scatterternary"
           }
          ],
          "surface": [
           {
            "colorbar": {
             "outlinewidth": 0,
             "ticks": ""
            },
            "colorscale": [
             [
              0,
              "#0d0887"
             ],
             [
              0.1111111111111111,
              "#46039f"
             ],
             [
              0.2222222222222222,
              "#7201a8"
             ],
             [
              0.3333333333333333,
              "#9c179e"
             ],
             [
              0.4444444444444444,
              "#bd3786"
             ],
             [
              0.5555555555555556,
              "#d8576b"
             ],
             [
              0.6666666666666666,
              "#ed7953"
             ],
             [
              0.7777777777777778,
              "#fb9f3a"
             ],
             [
              0.8888888888888888,
              "#fdca26"
             ],
             [
              1,
              "#f0f921"
             ]
            ],
            "type": "surface"
           }
          ],
          "table": [
           {
            "cells": {
             "fill": {
              "color": "#EBF0F8"
             },
             "line": {
              "color": "white"
             }
            },
            "header": {
             "fill": {
              "color": "#C8D4E3"
             },
             "line": {
              "color": "white"
             }
            },
            "type": "table"
           }
          ]
         },
         "layout": {
          "annotationdefaults": {
           "arrowcolor": "#2a3f5f",
           "arrowhead": 0,
           "arrowwidth": 1
          },
          "autotypenumbers": "strict",
          "coloraxis": {
           "colorbar": {
            "outlinewidth": 0,
            "ticks": ""
           }
          },
          "colorscale": {
           "diverging": [
            [
             0,
             "#8e0152"
            ],
            [
             0.1,
             "#c51b7d"
            ],
            [
             0.2,
             "#de77ae"
            ],
            [
             0.3,
             "#f1b6da"
            ],
            [
             0.4,
             "#fde0ef"
            ],
            [
             0.5,
             "#f7f7f7"
            ],
            [
             0.6,
             "#e6f5d0"
            ],
            [
             0.7,
             "#b8e186"
            ],
            [
             0.8,
             "#7fbc41"
            ],
            [
             0.9,
             "#4d9221"
            ],
            [
             1,
             "#276419"
            ]
           ],
           "sequential": [
            [
             0,
             "#0d0887"
            ],
            [
             0.1111111111111111,
             "#46039f"
            ],
            [
             0.2222222222222222,
             "#7201a8"
            ],
            [
             0.3333333333333333,
             "#9c179e"
            ],
            [
             0.4444444444444444,
             "#bd3786"
            ],
            [
             0.5555555555555556,
             "#d8576b"
            ],
            [
             0.6666666666666666,
             "#ed7953"
            ],
            [
             0.7777777777777778,
             "#fb9f3a"
            ],
            [
             0.8888888888888888,
             "#fdca26"
            ],
            [
             1,
             "#f0f921"
            ]
           ],
           "sequentialminus": [
            [
             0,
             "#0d0887"
            ],
            [
             0.1111111111111111,
             "#46039f"
            ],
            [
             0.2222222222222222,
             "#7201a8"
            ],
            [
             0.3333333333333333,
             "#9c179e"
            ],
            [
             0.4444444444444444,
             "#bd3786"
            ],
            [
             0.5555555555555556,
             "#d8576b"
            ],
            [
             0.6666666666666666,
             "#ed7953"
            ],
            [
             0.7777777777777778,
             "#fb9f3a"
            ],
            [
             0.8888888888888888,
             "#fdca26"
            ],
            [
             1,
             "#f0f921"
            ]
           ]
          },
          "colorway": [
           "#636efa",
           "#EF553B",
           "#00cc96",
           "#ab63fa",
           "#FFA15A",
           "#19d3f3",
           "#FF6692",
           "#B6E880",
           "#FF97FF",
           "#FECB52"
          ],
          "font": {
           "color": "#2a3f5f"
          },
          "geo": {
           "bgcolor": "white",
           "lakecolor": "white",
           "landcolor": "#E5ECF6",
           "showlakes": true,
           "showland": true,
           "subunitcolor": "white"
          },
          "hoverlabel": {
           "align": "left"
          },
          "hovermode": "closest",
          "mapbox": {
           "style": "light"
          },
          "paper_bgcolor": "white",
          "plot_bgcolor": "#E5ECF6",
          "polar": {
           "angularaxis": {
            "gridcolor": "white",
            "linecolor": "white",
            "ticks": ""
           },
           "bgcolor": "#E5ECF6",
           "radialaxis": {
            "gridcolor": "white",
            "linecolor": "white",
            "ticks": ""
           }
          },
          "scene": {
           "xaxis": {
            "backgroundcolor": "#E5ECF6",
            "gridcolor": "white",
            "gridwidth": 2,
            "linecolor": "white",
            "showbackground": true,
            "ticks": "",
            "zerolinecolor": "white"
           },
           "yaxis": {
            "backgroundcolor": "#E5ECF6",
            "gridcolor": "white",
            "gridwidth": 2,
            "linecolor": "white",
            "showbackground": true,
            "ticks": "",
            "zerolinecolor": "white"
           },
           "zaxis": {
            "backgroundcolor": "#E5ECF6",
            "gridcolor": "white",
            "gridwidth": 2,
            "linecolor": "white",
            "showbackground": true,
            "ticks": "",
            "zerolinecolor": "white"
           }
          },
          "shapedefaults": {
           "line": {
            "color": "#2a3f5f"
           }
          },
          "ternary": {
           "aaxis": {
            "gridcolor": "white",
            "linecolor": "white",
            "ticks": ""
           },
           "baxis": {
            "gridcolor": "white",
            "linecolor": "white",
            "ticks": ""
           },
           "bgcolor": "#E5ECF6",
           "caxis": {
            "gridcolor": "white",
            "linecolor": "white",
            "ticks": ""
           }
          },
          "title": {
           "x": 0.05
          },
          "xaxis": {
           "automargin": true,
           "gridcolor": "white",
           "linecolor": "white",
           "ticks": "",
           "title": {
            "standoff": 15
           },
           "zerolinecolor": "white",
           "zerolinewidth": 2
          },
          "yaxis": {
           "automargin": true,
           "gridcolor": "white",
           "linecolor": "white",
           "ticks": "",
           "title": {
            "standoff": 15
           },
           "zerolinecolor": "white",
           "zerolinewidth": 2
          }
         }
        },
        "title": {
         "text": "Average GDP Across Continents"
        },
        "xaxis": {
         "anchor": "y",
         "domain": [
          0,
          1
         ],
         "title": {
          "text": "Continent"
         }
        },
        "yaxis": {
         "anchor": "x",
         "domain": [
          0,
          1
         ],
         "title": {
          "text": "GDP"
         }
        }
       }
      }
     },
     "metadata": {},
     "output_type": "display_data"
    },
    {
     "data": {
      "application/vnd.plotly.v1+json": {
       "config": {
        "plotlyServerURL": "https://plotly.com"
       },
       "data": [
        {
         "alignmentgroup": "True",
         "hovertemplate": "Continent=%{x}<br>Adult Mortality=%{marker.color}<extra></extra>",
         "legendgroup": "",
         "marker": {
          "color": [
           98.01282051282051,
           126.11904761904762,
           133.4375,
           135.0875,
           139.11979166666666,
           266.57175925925924
          ],
          "coloraxis": "coloraxis",
          "pattern": {
           "shape": ""
          }
         },
         "name": "",
         "offsetgroup": "",
         "orientation": "v",
         "showlegend": false,
         "textposition": "auto",
         "type": "bar",
         "x": [
          "EU",
          "NA",
          "AS",
          "OC",
          "SA",
          "AF"
         ],
         "xaxis": "x",
         "y": [
          98.01282051282051,
          126.11904761904762,
          133.4375,
          135.0875,
          139.11979166666666,
          266.57175925925924
         ],
         "yaxis": "y"
        }
       ],
       "layout": {
        "barmode": "relative",
        "coloraxis": {
         "colorbar": {
          "title": {
           "text": "Adult Mortality"
          }
         },
         "colorscale": [
          [
           0,
           "#0d0887"
          ],
          [
           0.1111111111111111,
           "#46039f"
          ],
          [
           0.2222222222222222,
           "#7201a8"
          ],
          [
           0.3333333333333333,
           "#9c179e"
          ],
          [
           0.4444444444444444,
           "#bd3786"
          ],
          [
           0.5555555555555556,
           "#d8576b"
          ],
          [
           0.6666666666666666,
           "#ed7953"
          ],
          [
           0.7777777777777778,
           "#fb9f3a"
          ],
          [
           0.8888888888888888,
           "#fdca26"
          ],
          [
           1,
           "#f0f921"
          ]
         ]
        },
        "legend": {
         "tracegroupgap": 0
        },
        "template": {
         "data": {
          "bar": [
           {
            "error_x": {
             "color": "#2a3f5f"
            },
            "error_y": {
             "color": "#2a3f5f"
            },
            "marker": {
             "line": {
              "color": "#E5ECF6",
              "width": 0.5
             },
             "pattern": {
              "fillmode": "overlay",
              "size": 10,
              "solidity": 0.2
             }
            },
            "type": "bar"
           }
          ],
          "barpolar": [
           {
            "marker": {
             "line": {
              "color": "#E5ECF6",
              "width": 0.5
             },
             "pattern": {
              "fillmode": "overlay",
              "size": 10,
              "solidity": 0.2
             }
            },
            "type": "barpolar"
           }
          ],
          "carpet": [
           {
            "aaxis": {
             "endlinecolor": "#2a3f5f",
             "gridcolor": "white",
             "linecolor": "white",
             "minorgridcolor": "white",
             "startlinecolor": "#2a3f5f"
            },
            "baxis": {
             "endlinecolor": "#2a3f5f",
             "gridcolor": "white",
             "linecolor": "white",
             "minorgridcolor": "white",
             "startlinecolor": "#2a3f5f"
            },
            "type": "carpet"
           }
          ],
          "choropleth": [
           {
            "colorbar": {
             "outlinewidth": 0,
             "ticks": ""
            },
            "type": "choropleth"
           }
          ],
          "contour": [
           {
            "colorbar": {
             "outlinewidth": 0,
             "ticks": ""
            },
            "colorscale": [
             [
              0,
              "#0d0887"
             ],
             [
              0.1111111111111111,
              "#46039f"
             ],
             [
              0.2222222222222222,
              "#7201a8"
             ],
             [
              0.3333333333333333,
              "#9c179e"
             ],
             [
              0.4444444444444444,
              "#bd3786"
             ],
             [
              0.5555555555555556,
              "#d8576b"
             ],
             [
              0.6666666666666666,
              "#ed7953"
             ],
             [
              0.7777777777777778,
              "#fb9f3a"
             ],
             [
              0.8888888888888888,
              "#fdca26"
             ],
             [
              1,
              "#f0f921"
             ]
            ],
            "type": "contour"
           }
          ],
          "contourcarpet": [
           {
            "colorbar": {
             "outlinewidth": 0,
             "ticks": ""
            },
            "type": "contourcarpet"
           }
          ],
          "heatmap": [
           {
            "colorbar": {
             "outlinewidth": 0,
             "ticks": ""
            },
            "colorscale": [
             [
              0,
              "#0d0887"
             ],
             [
              0.1111111111111111,
              "#46039f"
             ],
             [
              0.2222222222222222,
              "#7201a8"
             ],
             [
              0.3333333333333333,
              "#9c179e"
             ],
             [
              0.4444444444444444,
              "#bd3786"
             ],
             [
              0.5555555555555556,
              "#d8576b"
             ],
             [
              0.6666666666666666,
              "#ed7953"
             ],
             [
              0.7777777777777778,
              "#fb9f3a"
             ],
             [
              0.8888888888888888,
              "#fdca26"
             ],
             [
              1,
              "#f0f921"
             ]
            ],
            "type": "heatmap"
           }
          ],
          "heatmapgl": [
           {
            "colorbar": {
             "outlinewidth": 0,
             "ticks": ""
            },
            "colorscale": [
             [
              0,
              "#0d0887"
             ],
             [
              0.1111111111111111,
              "#46039f"
             ],
             [
              0.2222222222222222,
              "#7201a8"
             ],
             [
              0.3333333333333333,
              "#9c179e"
             ],
             [
              0.4444444444444444,
              "#bd3786"
             ],
             [
              0.5555555555555556,
              "#d8576b"
             ],
             [
              0.6666666666666666,
              "#ed7953"
             ],
             [
              0.7777777777777778,
              "#fb9f3a"
             ],
             [
              0.8888888888888888,
              "#fdca26"
             ],
             [
              1,
              "#f0f921"
             ]
            ],
            "type": "heatmapgl"
           }
          ],
          "histogram": [
           {
            "marker": {
             "pattern": {
              "fillmode": "overlay",
              "size": 10,
              "solidity": 0.2
             }
            },
            "type": "histogram"
           }
          ],
          "histogram2d": [
           {
            "colorbar": {
             "outlinewidth": 0,
             "ticks": ""
            },
            "colorscale": [
             [
              0,
              "#0d0887"
             ],
             [
              0.1111111111111111,
              "#46039f"
             ],
             [
              0.2222222222222222,
              "#7201a8"
             ],
             [
              0.3333333333333333,
              "#9c179e"
             ],
             [
              0.4444444444444444,
              "#bd3786"
             ],
             [
              0.5555555555555556,
              "#d8576b"
             ],
             [
              0.6666666666666666,
              "#ed7953"
             ],
             [
              0.7777777777777778,
              "#fb9f3a"
             ],
             [
              0.8888888888888888,
              "#fdca26"
             ],
             [
              1,
              "#f0f921"
             ]
            ],
            "type": "histogram2d"
           }
          ],
          "histogram2dcontour": [
           {
            "colorbar": {
             "outlinewidth": 0,
             "ticks": ""
            },
            "colorscale": [
             [
              0,
              "#0d0887"
             ],
             [
              0.1111111111111111,
              "#46039f"
             ],
             [
              0.2222222222222222,
              "#7201a8"
             ],
             [
              0.3333333333333333,
              "#9c179e"
             ],
             [
              0.4444444444444444,
              "#bd3786"
             ],
             [
              0.5555555555555556,
              "#d8576b"
             ],
             [
              0.6666666666666666,
              "#ed7953"
             ],
             [
              0.7777777777777778,
              "#fb9f3a"
             ],
             [
              0.8888888888888888,
              "#fdca26"
             ],
             [
              1,
              "#f0f921"
             ]
            ],
            "type": "histogram2dcontour"
           }
          ],
          "mesh3d": [
           {
            "colorbar": {
             "outlinewidth": 0,
             "ticks": ""
            },
            "type": "mesh3d"
           }
          ],
          "parcoords": [
           {
            "line": {
             "colorbar": {
              "outlinewidth": 0,
              "ticks": ""
             }
            },
            "type": "parcoords"
           }
          ],
          "pie": [
           {
            "automargin": true,
            "type": "pie"
           }
          ],
          "scatter": [
           {
            "fillpattern": {
             "fillmode": "overlay",
             "size": 10,
             "solidity": 0.2
            },
            "type": "scatter"
           }
          ],
          "scatter3d": [
           {
            "line": {
             "colorbar": {
              "outlinewidth": 0,
              "ticks": ""
             }
            },
            "marker": {
             "colorbar": {
              "outlinewidth": 0,
              "ticks": ""
             }
            },
            "type": "scatter3d"
           }
          ],
          "scattercarpet": [
           {
            "marker": {
             "colorbar": {
              "outlinewidth": 0,
              "ticks": ""
             }
            },
            "type": "scattercarpet"
           }
          ],
          "scattergeo": [
           {
            "marker": {
             "colorbar": {
              "outlinewidth": 0,
              "ticks": ""
             }
            },
            "type": "scattergeo"
           }
          ],
          "scattergl": [
           {
            "marker": {
             "colorbar": {
              "outlinewidth": 0,
              "ticks": ""
             }
            },
            "type": "scattergl"
           }
          ],
          "scattermapbox": [
           {
            "marker": {
             "colorbar": {
              "outlinewidth": 0,
              "ticks": ""
             }
            },
            "type": "scattermapbox"
           }
          ],
          "scatterpolar": [
           {
            "marker": {
             "colorbar": {
              "outlinewidth": 0,
              "ticks": ""
             }
            },
            "type": "scatterpolar"
           }
          ],
          "scatterpolargl": [
           {
            "marker": {
             "colorbar": {
              "outlinewidth": 0,
              "ticks": ""
             }
            },
            "type": "scatterpolargl"
           }
          ],
          "scatterternary": [
           {
            "marker": {
             "colorbar": {
              "outlinewidth": 0,
              "ticks": ""
             }
            },
            "type": "scatterternary"
           }
          ],
          "surface": [
           {
            "colorbar": {
             "outlinewidth": 0,
             "ticks": ""
            },
            "colorscale": [
             [
              0,
              "#0d0887"
             ],
             [
              0.1111111111111111,
              "#46039f"
             ],
             [
              0.2222222222222222,
              "#7201a8"
             ],
             [
              0.3333333333333333,
              "#9c179e"
             ],
             [
              0.4444444444444444,
              "#bd3786"
             ],
             [
              0.5555555555555556,
              "#d8576b"
             ],
             [
              0.6666666666666666,
              "#ed7953"
             ],
             [
              0.7777777777777778,
              "#fb9f3a"
             ],
             [
              0.8888888888888888,
              "#fdca26"
             ],
             [
              1,
              "#f0f921"
             ]
            ],
            "type": "surface"
           }
          ],
          "table": [
           {
            "cells": {
             "fill": {
              "color": "#EBF0F8"
             },
             "line": {
              "color": "white"
             }
            },
            "header": {
             "fill": {
              "color": "#C8D4E3"
             },
             "line": {
              "color": "white"
             }
            },
            "type": "table"
           }
          ]
         },
         "layout": {
          "annotationdefaults": {
           "arrowcolor": "#2a3f5f",
           "arrowhead": 0,
           "arrowwidth": 1
          },
          "autotypenumbers": "strict",
          "coloraxis": {
           "colorbar": {
            "outlinewidth": 0,
            "ticks": ""
           }
          },
          "colorscale": {
           "diverging": [
            [
             0,
             "#8e0152"
            ],
            [
             0.1,
             "#c51b7d"
            ],
            [
             0.2,
             "#de77ae"
            ],
            [
             0.3,
             "#f1b6da"
            ],
            [
             0.4,
             "#fde0ef"
            ],
            [
             0.5,
             "#f7f7f7"
            ],
            [
             0.6,
             "#e6f5d0"
            ],
            [
             0.7,
             "#b8e186"
            ],
            [
             0.8,
             "#7fbc41"
            ],
            [
             0.9,
             "#4d9221"
            ],
            [
             1,
             "#276419"
            ]
           ],
           "sequential": [
            [
             0,
             "#0d0887"
            ],
            [
             0.1111111111111111,
             "#46039f"
            ],
            [
             0.2222222222222222,
             "#7201a8"
            ],
            [
             0.3333333333333333,
             "#9c179e"
            ],
            [
             0.4444444444444444,
             "#bd3786"
            ],
            [
             0.5555555555555556,
             "#d8576b"
            ],
            [
             0.6666666666666666,
             "#ed7953"
            ],
            [
             0.7777777777777778,
             "#fb9f3a"
            ],
            [
             0.8888888888888888,
             "#fdca26"
            ],
            [
             1,
             "#f0f921"
            ]
           ],
           "sequentialminus": [
            [
             0,
             "#0d0887"
            ],
            [
             0.1111111111111111,
             "#46039f"
            ],
            [
             0.2222222222222222,
             "#7201a8"
            ],
            [
             0.3333333333333333,
             "#9c179e"
            ],
            [
             0.4444444444444444,
             "#bd3786"
            ],
            [
             0.5555555555555556,
             "#d8576b"
            ],
            [
             0.6666666666666666,
             "#ed7953"
            ],
            [
             0.7777777777777778,
             "#fb9f3a"
            ],
            [
             0.8888888888888888,
             "#fdca26"
            ],
            [
             1,
             "#f0f921"
            ]
           ]
          },
          "colorway": [
           "#636efa",
           "#EF553B",
           "#00cc96",
           "#ab63fa",
           "#FFA15A",
           "#19d3f3",
           "#FF6692",
           "#B6E880",
           "#FF97FF",
           "#FECB52"
          ],
          "font": {
           "color": "#2a3f5f"
          },
          "geo": {
           "bgcolor": "white",
           "lakecolor": "white",
           "landcolor": "#E5ECF6",
           "showlakes": true,
           "showland": true,
           "subunitcolor": "white"
          },
          "hoverlabel": {
           "align": "left"
          },
          "hovermode": "closest",
          "mapbox": {
           "style": "light"
          },
          "paper_bgcolor": "white",
          "plot_bgcolor": "#E5ECF6",
          "polar": {
           "angularaxis": {
            "gridcolor": "white",
            "linecolor": "white",
            "ticks": ""
           },
           "bgcolor": "#E5ECF6",
           "radialaxis": {
            "gridcolor": "white",
            "linecolor": "white",
            "ticks": ""
           }
          },
          "scene": {
           "xaxis": {
            "backgroundcolor": "#E5ECF6",
            "gridcolor": "white",
            "gridwidth": 2,
            "linecolor": "white",
            "showbackground": true,
            "ticks": "",
            "zerolinecolor": "white"
           },
           "yaxis": {
            "backgroundcolor": "#E5ECF6",
            "gridcolor": "white",
            "gridwidth": 2,
            "linecolor": "white",
            "showbackground": true,
            "ticks": "",
            "zerolinecolor": "white"
           },
           "zaxis": {
            "backgroundcolor": "#E5ECF6",
            "gridcolor": "white",
            "gridwidth": 2,
            "linecolor": "white",
            "showbackground": true,
            "ticks": "",
            "zerolinecolor": "white"
           }
          },
          "shapedefaults": {
           "line": {
            "color": "#2a3f5f"
           }
          },
          "ternary": {
           "aaxis": {
            "gridcolor": "white",
            "linecolor": "white",
            "ticks": ""
           },
           "baxis": {
            "gridcolor": "white",
            "linecolor": "white",
            "ticks": ""
           },
           "bgcolor": "#E5ECF6",
           "caxis": {
            "gridcolor": "white",
            "linecolor": "white",
            "ticks": ""
           }
          },
          "title": {
           "x": 0.05
          },
          "xaxis": {
           "automargin": true,
           "gridcolor": "white",
           "linecolor": "white",
           "ticks": "",
           "title": {
            "standoff": 15
           },
           "zerolinecolor": "white",
           "zerolinewidth": 2
          },
          "yaxis": {
           "automargin": true,
           "gridcolor": "white",
           "linecolor": "white",
           "ticks": "",
           "title": {
            "standoff": 15
           },
           "zerolinecolor": "white",
           "zerolinewidth": 2
          }
         }
        },
        "title": {
         "text": "Average Adult Mortality Across Continents"
        },
        "xaxis": {
         "anchor": "y",
         "domain": [
          0,
          1
         ],
         "title": {
          "text": "Continent"
         }
        },
        "yaxis": {
         "anchor": "x",
         "domain": [
          0,
          1
         ],
         "title": {
          "text": "Adult Mortality"
         }
        }
       }
      }
     },
     "metadata": {},
     "output_type": "display_data"
    },
    {
     "data": {
      "application/vnd.plotly.v1+json": {
       "config": {
        "plotlyServerURL": "https://plotly.com"
       },
       "data": [
        {
         "alignmentgroup": "True",
         "hovertemplate": "Continent=%{x}<br>Income composition of resources=%{marker.color}<extra></extra>",
         "legendgroup": "",
         "marker": {
          "color": [
           0.4625975,
           0.6163478260869565,
           0.6432305555555555,
           0.657139751552795,
           0.6894062499999999,
           0.8030260416666667
          ],
          "coloraxis": "coloraxis",
          "pattern": {
           "shape": ""
          }
         },
         "name": "",
         "offsetgroup": "",
         "orientation": "v",
         "showlegend": false,
         "textposition": "auto",
         "type": "bar",
         "x": [
          "AF",
          "OC",
          "AS",
          "NA",
          "SA",
          "EU"
         ],
         "xaxis": "x",
         "y": [
          0.4625975,
          0.6163478260869565,
          0.6432305555555555,
          0.657139751552795,
          0.6894062499999999,
          0.8030260416666667
         ],
         "yaxis": "y"
        }
       ],
       "layout": {
        "barmode": "relative",
        "coloraxis": {
         "colorbar": {
          "title": {
           "text": "Income composition of resources"
          }
         },
         "colorscale": [
          [
           0,
           "#0d0887"
          ],
          [
           0.1111111111111111,
           "#46039f"
          ],
          [
           0.2222222222222222,
           "#7201a8"
          ],
          [
           0.3333333333333333,
           "#9c179e"
          ],
          [
           0.4444444444444444,
           "#bd3786"
          ],
          [
           0.5555555555555556,
           "#d8576b"
          ],
          [
           0.6666666666666666,
           "#ed7953"
          ],
          [
           0.7777777777777778,
           "#fb9f3a"
          ],
          [
           0.8888888888888888,
           "#fdca26"
          ],
          [
           1,
           "#f0f921"
          ]
         ]
        },
        "legend": {
         "tracegroupgap": 0
        },
        "template": {
         "data": {
          "bar": [
           {
            "error_x": {
             "color": "#2a3f5f"
            },
            "error_y": {
             "color": "#2a3f5f"
            },
            "marker": {
             "line": {
              "color": "#E5ECF6",
              "width": 0.5
             },
             "pattern": {
              "fillmode": "overlay",
              "size": 10,
              "solidity": 0.2
             }
            },
            "type": "bar"
           }
          ],
          "barpolar": [
           {
            "marker": {
             "line": {
              "color": "#E5ECF6",
              "width": 0.5
             },
             "pattern": {
              "fillmode": "overlay",
              "size": 10,
              "solidity": 0.2
             }
            },
            "type": "barpolar"
           }
          ],
          "carpet": [
           {
            "aaxis": {
             "endlinecolor": "#2a3f5f",
             "gridcolor": "white",
             "linecolor": "white",
             "minorgridcolor": "white",
             "startlinecolor": "#2a3f5f"
            },
            "baxis": {
             "endlinecolor": "#2a3f5f",
             "gridcolor": "white",
             "linecolor": "white",
             "minorgridcolor": "white",
             "startlinecolor": "#2a3f5f"
            },
            "type": "carpet"
           }
          ],
          "choropleth": [
           {
            "colorbar": {
             "outlinewidth": 0,
             "ticks": ""
            },
            "type": "choropleth"
           }
          ],
          "contour": [
           {
            "colorbar": {
             "outlinewidth": 0,
             "ticks": ""
            },
            "colorscale": [
             [
              0,
              "#0d0887"
             ],
             [
              0.1111111111111111,
              "#46039f"
             ],
             [
              0.2222222222222222,
              "#7201a8"
             ],
             [
              0.3333333333333333,
              "#9c179e"
             ],
             [
              0.4444444444444444,
              "#bd3786"
             ],
             [
              0.5555555555555556,
              "#d8576b"
             ],
             [
              0.6666666666666666,
              "#ed7953"
             ],
             [
              0.7777777777777778,
              "#fb9f3a"
             ],
             [
              0.8888888888888888,
              "#fdca26"
             ],
             [
              1,
              "#f0f921"
             ]
            ],
            "type": "contour"
           }
          ],
          "contourcarpet": [
           {
            "colorbar": {
             "outlinewidth": 0,
             "ticks": ""
            },
            "type": "contourcarpet"
           }
          ],
          "heatmap": [
           {
            "colorbar": {
             "outlinewidth": 0,
             "ticks": ""
            },
            "colorscale": [
             [
              0,
              "#0d0887"
             ],
             [
              0.1111111111111111,
              "#46039f"
             ],
             [
              0.2222222222222222,
              "#7201a8"
             ],
             [
              0.3333333333333333,
              "#9c179e"
             ],
             [
              0.4444444444444444,
              "#bd3786"
             ],
             [
              0.5555555555555556,
              "#d8576b"
             ],
             [
              0.6666666666666666,
              "#ed7953"
             ],
             [
              0.7777777777777778,
              "#fb9f3a"
             ],
             [
              0.8888888888888888,
              "#fdca26"
             ],
             [
              1,
              "#f0f921"
             ]
            ],
            "type": "heatmap"
           }
          ],
          "heatmapgl": [
           {
            "colorbar": {
             "outlinewidth": 0,
             "ticks": ""
            },
            "colorscale": [
             [
              0,
              "#0d0887"
             ],
             [
              0.1111111111111111,
              "#46039f"
             ],
             [
              0.2222222222222222,
              "#7201a8"
             ],
             [
              0.3333333333333333,
              "#9c179e"
             ],
             [
              0.4444444444444444,
              "#bd3786"
             ],
             [
              0.5555555555555556,
              "#d8576b"
             ],
             [
              0.6666666666666666,
              "#ed7953"
             ],
             [
              0.7777777777777778,
              "#fb9f3a"
             ],
             [
              0.8888888888888888,
              "#fdca26"
             ],
             [
              1,
              "#f0f921"
             ]
            ],
            "type": "heatmapgl"
           }
          ],
          "histogram": [
           {
            "marker": {
             "pattern": {
              "fillmode": "overlay",
              "size": 10,
              "solidity": 0.2
             }
            },
            "type": "histogram"
           }
          ],
          "histogram2d": [
           {
            "colorbar": {
             "outlinewidth": 0,
             "ticks": ""
            },
            "colorscale": [
             [
              0,
              "#0d0887"
             ],
             [
              0.1111111111111111,
              "#46039f"
             ],
             [
              0.2222222222222222,
              "#7201a8"
             ],
             [
              0.3333333333333333,
              "#9c179e"
             ],
             [
              0.4444444444444444,
              "#bd3786"
             ],
             [
              0.5555555555555556,
              "#d8576b"
             ],
             [
              0.6666666666666666,
              "#ed7953"
             ],
             [
              0.7777777777777778,
              "#fb9f3a"
             ],
             [
              0.8888888888888888,
              "#fdca26"
             ],
             [
              1,
              "#f0f921"
             ]
            ],
            "type": "histogram2d"
           }
          ],
          "histogram2dcontour": [
           {
            "colorbar": {
             "outlinewidth": 0,
             "ticks": ""
            },
            "colorscale": [
             [
              0,
              "#0d0887"
             ],
             [
              0.1111111111111111,
              "#46039f"
             ],
             [
              0.2222222222222222,
              "#7201a8"
             ],
             [
              0.3333333333333333,
              "#9c179e"
             ],
             [
              0.4444444444444444,
              "#bd3786"
             ],
             [
              0.5555555555555556,
              "#d8576b"
             ],
             [
              0.6666666666666666,
              "#ed7953"
             ],
             [
              0.7777777777777778,
              "#fb9f3a"
             ],
             [
              0.8888888888888888,
              "#fdca26"
             ],
             [
              1,
              "#f0f921"
             ]
            ],
            "type": "histogram2dcontour"
           }
          ],
          "mesh3d": [
           {
            "colorbar": {
             "outlinewidth": 0,
             "ticks": ""
            },
            "type": "mesh3d"
           }
          ],
          "parcoords": [
           {
            "line": {
             "colorbar": {
              "outlinewidth": 0,
              "ticks": ""
             }
            },
            "type": "parcoords"
           }
          ],
          "pie": [
           {
            "automargin": true,
            "type": "pie"
           }
          ],
          "scatter": [
           {
            "fillpattern": {
             "fillmode": "overlay",
             "size": 10,
             "solidity": 0.2
            },
            "type": "scatter"
           }
          ],
          "scatter3d": [
           {
            "line": {
             "colorbar": {
              "outlinewidth": 0,
              "ticks": ""
             }
            },
            "marker": {
             "colorbar": {
              "outlinewidth": 0,
              "ticks": ""
             }
            },
            "type": "scatter3d"
           }
          ],
          "scattercarpet": [
           {
            "marker": {
             "colorbar": {
              "outlinewidth": 0,
              "ticks": ""
             }
            },
            "type": "scattercarpet"
           }
          ],
          "scattergeo": [
           {
            "marker": {
             "colorbar": {
              "outlinewidth": 0,
              "ticks": ""
             }
            },
            "type": "scattergeo"
           }
          ],
          "scattergl": [
           {
            "marker": {
             "colorbar": {
              "outlinewidth": 0,
              "ticks": ""
             }
            },
            "type": "scattergl"
           }
          ],
          "scattermapbox": [
           {
            "marker": {
             "colorbar": {
              "outlinewidth": 0,
              "ticks": ""
             }
            },
            "type": "scattermapbox"
           }
          ],
          "scatterpolar": [
           {
            "marker": {
             "colorbar": {
              "outlinewidth": 0,
              "ticks": ""
             }
            },
            "type": "scatterpolar"
           }
          ],
          "scatterpolargl": [
           {
            "marker": {
             "colorbar": {
              "outlinewidth": 0,
              "ticks": ""
             }
            },
            "type": "scatterpolargl"
           }
          ],
          "scatterternary": [
           {
            "marker": {
             "colorbar": {
              "outlinewidth": 0,
              "ticks": ""
             }
            },
            "type": "scatterternary"
           }
          ],
          "surface": [
           {
            "colorbar": {
             "outlinewidth": 0,
             "ticks": ""
            },
            "colorscale": [
             [
              0,
              "#0d0887"
             ],
             [
              0.1111111111111111,
              "#46039f"
             ],
             [
              0.2222222222222222,
              "#7201a8"
             ],
             [
              0.3333333333333333,
              "#9c179e"
             ],
             [
              0.4444444444444444,
              "#bd3786"
             ],
             [
              0.5555555555555556,
              "#d8576b"
             ],
             [
              0.6666666666666666,
              "#ed7953"
             ],
             [
              0.7777777777777778,
              "#fb9f3a"
             ],
             [
              0.8888888888888888,
              "#fdca26"
             ],
             [
              1,
              "#f0f921"
             ]
            ],
            "type": "surface"
           }
          ],
          "table": [
           {
            "cells": {
             "fill": {
              "color": "#EBF0F8"
             },
             "line": {
              "color": "white"
             }
            },
            "header": {
             "fill": {
              "color": "#C8D4E3"
             },
             "line": {
              "color": "white"
             }
            },
            "type": "table"
           }
          ]
         },
         "layout": {
          "annotationdefaults": {
           "arrowcolor": "#2a3f5f",
           "arrowhead": 0,
           "arrowwidth": 1
          },
          "autotypenumbers": "strict",
          "coloraxis": {
           "colorbar": {
            "outlinewidth": 0,
            "ticks": ""
           }
          },
          "colorscale": {
           "diverging": [
            [
             0,
             "#8e0152"
            ],
            [
             0.1,
             "#c51b7d"
            ],
            [
             0.2,
             "#de77ae"
            ],
            [
             0.3,
             "#f1b6da"
            ],
            [
             0.4,
             "#fde0ef"
            ],
            [
             0.5,
             "#f7f7f7"
            ],
            [
             0.6,
             "#e6f5d0"
            ],
            [
             0.7,
             "#b8e186"
            ],
            [
             0.8,
             "#7fbc41"
            ],
            [
             0.9,
             "#4d9221"
            ],
            [
             1,
             "#276419"
            ]
           ],
           "sequential": [
            [
             0,
             "#0d0887"
            ],
            [
             0.1111111111111111,
             "#46039f"
            ],
            [
             0.2222222222222222,
             "#7201a8"
            ],
            [
             0.3333333333333333,
             "#9c179e"
            ],
            [
             0.4444444444444444,
             "#bd3786"
            ],
            [
             0.5555555555555556,
             "#d8576b"
            ],
            [
             0.6666666666666666,
             "#ed7953"
            ],
            [
             0.7777777777777778,
             "#fb9f3a"
            ],
            [
             0.8888888888888888,
             "#fdca26"
            ],
            [
             1,
             "#f0f921"
            ]
           ],
           "sequentialminus": [
            [
             0,
             "#0d0887"
            ],
            [
             0.1111111111111111,
             "#46039f"
            ],
            [
             0.2222222222222222,
             "#7201a8"
            ],
            [
             0.3333333333333333,
             "#9c179e"
            ],
            [
             0.4444444444444444,
             "#bd3786"
            ],
            [
             0.5555555555555556,
             "#d8576b"
            ],
            [
             0.6666666666666666,
             "#ed7953"
            ],
            [
             0.7777777777777778,
             "#fb9f3a"
            ],
            [
             0.8888888888888888,
             "#fdca26"
            ],
            [
             1,
             "#f0f921"
            ]
           ]
          },
          "colorway": [
           "#636efa",
           "#EF553B",
           "#00cc96",
           "#ab63fa",
           "#FFA15A",
           "#19d3f3",
           "#FF6692",
           "#B6E880",
           "#FF97FF",
           "#FECB52"
          ],
          "font": {
           "color": "#2a3f5f"
          },
          "geo": {
           "bgcolor": "white",
           "lakecolor": "white",
           "landcolor": "#E5ECF6",
           "showlakes": true,
           "showland": true,
           "subunitcolor": "white"
          },
          "hoverlabel": {
           "align": "left"
          },
          "hovermode": "closest",
          "mapbox": {
           "style": "light"
          },
          "paper_bgcolor": "white",
          "plot_bgcolor": "#E5ECF6",
          "polar": {
           "angularaxis": {
            "gridcolor": "white",
            "linecolor": "white",
            "ticks": ""
           },
           "bgcolor": "#E5ECF6",
           "radialaxis": {
            "gridcolor": "white",
            "linecolor": "white",
            "ticks": ""
           }
          },
          "scene": {
           "xaxis": {
            "backgroundcolor": "#E5ECF6",
            "gridcolor": "white",
            "gridwidth": 2,
            "linecolor": "white",
            "showbackground": true,
            "ticks": "",
            "zerolinecolor": "white"
           },
           "yaxis": {
            "backgroundcolor": "#E5ECF6",
            "gridcolor": "white",
            "gridwidth": 2,
            "linecolor": "white",
            "showbackground": true,
            "ticks": "",
            "zerolinecolor": "white"
           },
           "zaxis": {
            "backgroundcolor": "#E5ECF6",
            "gridcolor": "white",
            "gridwidth": 2,
            "linecolor": "white",
            "showbackground": true,
            "ticks": "",
            "zerolinecolor": "white"
           }
          },
          "shapedefaults": {
           "line": {
            "color": "#2a3f5f"
           }
          },
          "ternary": {
           "aaxis": {
            "gridcolor": "white",
            "linecolor": "white",
            "ticks": ""
           },
           "baxis": {
            "gridcolor": "white",
            "linecolor": "white",
            "ticks": ""
           },
           "bgcolor": "#E5ECF6",
           "caxis": {
            "gridcolor": "white",
            "linecolor": "white",
            "ticks": ""
           }
          },
          "title": {
           "x": 0.05
          },
          "xaxis": {
           "automargin": true,
           "gridcolor": "white",
           "linecolor": "white",
           "ticks": "",
           "title": {
            "standoff": 15
           },
           "zerolinecolor": "white",
           "zerolinewidth": 2
          },
          "yaxis": {
           "automargin": true,
           "gridcolor": "white",
           "linecolor": "white",
           "ticks": "",
           "title": {
            "standoff": 15
           },
           "zerolinecolor": "white",
           "zerolinewidth": 2
          }
         }
        },
        "title": {
         "text": "Average Income composition of resources Across Continents"
        },
        "xaxis": {
         "anchor": "y",
         "domain": [
          0,
          1
         ],
         "title": {
          "text": "Continent"
         }
        },
        "yaxis": {
         "anchor": "x",
         "domain": [
          0,
          1
         ],
         "title": {
          "text": "Income composition of resources"
         }
        }
       }
      }
     },
     "metadata": {},
     "output_type": "display_data"
    },
    {
     "data": {
      "application/vnd.plotly.v1+json": {
       "config": {
        "plotlyServerURL": "https://plotly.com"
       },
       "data": [
        {
         "alignmentgroup": "True",
         "hovertemplate": "Continent=%{x}<br>Schooling=%{marker.color}<extra></extra>",
         "legendgroup": "",
         "marker": {
          "color": [
           9.211625,
           11.752083333333333,
           12.430745341614907,
           12.807926829268293,
           13.406770833333335,
           15.202599653379552
          ],
          "coloraxis": "coloraxis",
          "pattern": {
           "shape": ""
          }
         },
         "name": "",
         "offsetgroup": "",
         "orientation": "v",
         "showlegend": false,
         "textposition": "auto",
         "type": "bar",
         "x": [
          "AF",
          "AS",
          "NA",
          "OC",
          "SA",
          "EU"
         ],
         "xaxis": "x",
         "y": [
          9.211625,
          11.752083333333333,
          12.430745341614907,
          12.807926829268293,
          13.406770833333335,
          15.202599653379552
         ],
         "yaxis": "y"
        }
       ],
       "layout": {
        "barmode": "relative",
        "coloraxis": {
         "colorbar": {
          "title": {
           "text": "Schooling"
          }
         },
         "colorscale": [
          [
           0,
           "#0d0887"
          ],
          [
           0.1111111111111111,
           "#46039f"
          ],
          [
           0.2222222222222222,
           "#7201a8"
          ],
          [
           0.3333333333333333,
           "#9c179e"
          ],
          [
           0.4444444444444444,
           "#bd3786"
          ],
          [
           0.5555555555555556,
           "#d8576b"
          ],
          [
           0.6666666666666666,
           "#ed7953"
          ],
          [
           0.7777777777777778,
           "#fb9f3a"
          ],
          [
           0.8888888888888888,
           "#fdca26"
          ],
          [
           1,
           "#f0f921"
          ]
         ]
        },
        "legend": {
         "tracegroupgap": 0
        },
        "template": {
         "data": {
          "bar": [
           {
            "error_x": {
             "color": "#2a3f5f"
            },
            "error_y": {
             "color": "#2a3f5f"
            },
            "marker": {
             "line": {
              "color": "#E5ECF6",
              "width": 0.5
             },
             "pattern": {
              "fillmode": "overlay",
              "size": 10,
              "solidity": 0.2
             }
            },
            "type": "bar"
           }
          ],
          "barpolar": [
           {
            "marker": {
             "line": {
              "color": "#E5ECF6",
              "width": 0.5
             },
             "pattern": {
              "fillmode": "overlay",
              "size": 10,
              "solidity": 0.2
             }
            },
            "type": "barpolar"
           }
          ],
          "carpet": [
           {
            "aaxis": {
             "endlinecolor": "#2a3f5f",
             "gridcolor": "white",
             "linecolor": "white",
             "minorgridcolor": "white",
             "startlinecolor": "#2a3f5f"
            },
            "baxis": {
             "endlinecolor": "#2a3f5f",
             "gridcolor": "white",
             "linecolor": "white",
             "minorgridcolor": "white",
             "startlinecolor": "#2a3f5f"
            },
            "type": "carpet"
           }
          ],
          "choropleth": [
           {
            "colorbar": {
             "outlinewidth": 0,
             "ticks": ""
            },
            "type": "choropleth"
           }
          ],
          "contour": [
           {
            "colorbar": {
             "outlinewidth": 0,
             "ticks": ""
            },
            "colorscale": [
             [
              0,
              "#0d0887"
             ],
             [
              0.1111111111111111,
              "#46039f"
             ],
             [
              0.2222222222222222,
              "#7201a8"
             ],
             [
              0.3333333333333333,
              "#9c179e"
             ],
             [
              0.4444444444444444,
              "#bd3786"
             ],
             [
              0.5555555555555556,
              "#d8576b"
             ],
             [
              0.6666666666666666,
              "#ed7953"
             ],
             [
              0.7777777777777778,
              "#fb9f3a"
             ],
             [
              0.8888888888888888,
              "#fdca26"
             ],
             [
              1,
              "#f0f921"
             ]
            ],
            "type": "contour"
           }
          ],
          "contourcarpet": [
           {
            "colorbar": {
             "outlinewidth": 0,
             "ticks": ""
            },
            "type": "contourcarpet"
           }
          ],
          "heatmap": [
           {
            "colorbar": {
             "outlinewidth": 0,
             "ticks": ""
            },
            "colorscale": [
             [
              0,
              "#0d0887"
             ],
             [
              0.1111111111111111,
              "#46039f"
             ],
             [
              0.2222222222222222,
              "#7201a8"
             ],
             [
              0.3333333333333333,
              "#9c179e"
             ],
             [
              0.4444444444444444,
              "#bd3786"
             ],
             [
              0.5555555555555556,
              "#d8576b"
             ],
             [
              0.6666666666666666,
              "#ed7953"
             ],
             [
              0.7777777777777778,
              "#fb9f3a"
             ],
             [
              0.8888888888888888,
              "#fdca26"
             ],
             [
              1,
              "#f0f921"
             ]
            ],
            "type": "heatmap"
           }
          ],
          "heatmapgl": [
           {
            "colorbar": {
             "outlinewidth": 0,
             "ticks": ""
            },
            "colorscale": [
             [
              0,
              "#0d0887"
             ],
             [
              0.1111111111111111,
              "#46039f"
             ],
             [
              0.2222222222222222,
              "#7201a8"
             ],
             [
              0.3333333333333333,
              "#9c179e"
             ],
             [
              0.4444444444444444,
              "#bd3786"
             ],
             [
              0.5555555555555556,
              "#d8576b"
             ],
             [
              0.6666666666666666,
              "#ed7953"
             ],
             [
              0.7777777777777778,
              "#fb9f3a"
             ],
             [
              0.8888888888888888,
              "#fdca26"
             ],
             [
              1,
              "#f0f921"
             ]
            ],
            "type": "heatmapgl"
           }
          ],
          "histogram": [
           {
            "marker": {
             "pattern": {
              "fillmode": "overlay",
              "size": 10,
              "solidity": 0.2
             }
            },
            "type": "histogram"
           }
          ],
          "histogram2d": [
           {
            "colorbar": {
             "outlinewidth": 0,
             "ticks": ""
            },
            "colorscale": [
             [
              0,
              "#0d0887"
             ],
             [
              0.1111111111111111,
              "#46039f"
             ],
             [
              0.2222222222222222,
              "#7201a8"
             ],
             [
              0.3333333333333333,
              "#9c179e"
             ],
             [
              0.4444444444444444,
              "#bd3786"
             ],
             [
              0.5555555555555556,
              "#d8576b"
             ],
             [
              0.6666666666666666,
              "#ed7953"
             ],
             [
              0.7777777777777778,
              "#fb9f3a"
             ],
             [
              0.8888888888888888,
              "#fdca26"
             ],
             [
              1,
              "#f0f921"
             ]
            ],
            "type": "histogram2d"
           }
          ],
          "histogram2dcontour": [
           {
            "colorbar": {
             "outlinewidth": 0,
             "ticks": ""
            },
            "colorscale": [
             [
              0,
              "#0d0887"
             ],
             [
              0.1111111111111111,
              "#46039f"
             ],
             [
              0.2222222222222222,
              "#7201a8"
             ],
             [
              0.3333333333333333,
              "#9c179e"
             ],
             [
              0.4444444444444444,
              "#bd3786"
             ],
             [
              0.5555555555555556,
              "#d8576b"
             ],
             [
              0.6666666666666666,
              "#ed7953"
             ],
             [
              0.7777777777777778,
              "#fb9f3a"
             ],
             [
              0.8888888888888888,
              "#fdca26"
             ],
             [
              1,
              "#f0f921"
             ]
            ],
            "type": "histogram2dcontour"
           }
          ],
          "mesh3d": [
           {
            "colorbar": {
             "outlinewidth": 0,
             "ticks": ""
            },
            "type": "mesh3d"
           }
          ],
          "parcoords": [
           {
            "line": {
             "colorbar": {
              "outlinewidth": 0,
              "ticks": ""
             }
            },
            "type": "parcoords"
           }
          ],
          "pie": [
           {
            "automargin": true,
            "type": "pie"
           }
          ],
          "scatter": [
           {
            "fillpattern": {
             "fillmode": "overlay",
             "size": 10,
             "solidity": 0.2
            },
            "type": "scatter"
           }
          ],
          "scatter3d": [
           {
            "line": {
             "colorbar": {
              "outlinewidth": 0,
              "ticks": ""
             }
            },
            "marker": {
             "colorbar": {
              "outlinewidth": 0,
              "ticks": ""
             }
            },
            "type": "scatter3d"
           }
          ],
          "scattercarpet": [
           {
            "marker": {
             "colorbar": {
              "outlinewidth": 0,
              "ticks": ""
             }
            },
            "type": "scattercarpet"
           }
          ],
          "scattergeo": [
           {
            "marker": {
             "colorbar": {
              "outlinewidth": 0,
              "ticks": ""
             }
            },
            "type": "scattergeo"
           }
          ],
          "scattergl": [
           {
            "marker": {
             "colorbar": {
              "outlinewidth": 0,
              "ticks": ""
             }
            },
            "type": "scattergl"
           }
          ],
          "scattermapbox": [
           {
            "marker": {
             "colorbar": {
              "outlinewidth": 0,
              "ticks": ""
             }
            },
            "type": "scattermapbox"
           }
          ],
          "scatterpolar": [
           {
            "marker": {
             "colorbar": {
              "outlinewidth": 0,
              "ticks": ""
             }
            },
            "type": "scatterpolar"
           }
          ],
          "scatterpolargl": [
           {
            "marker": {
             "colorbar": {
              "outlinewidth": 0,
              "ticks": ""
             }
            },
            "type": "scatterpolargl"
           }
          ],
          "scatterternary": [
           {
            "marker": {
             "colorbar": {
              "outlinewidth": 0,
              "ticks": ""
             }
            },
            "type": "scatterternary"
           }
          ],
          "surface": [
           {
            "colorbar": {
             "outlinewidth": 0,
             "ticks": ""
            },
            "colorscale": [
             [
              0,
              "#0d0887"
             ],
             [
              0.1111111111111111,
              "#46039f"
             ],
             [
              0.2222222222222222,
              "#7201a8"
             ],
             [
              0.3333333333333333,
              "#9c179e"
             ],
             [
              0.4444444444444444,
              "#bd3786"
             ],
             [
              0.5555555555555556,
              "#d8576b"
             ],
             [
              0.6666666666666666,
              "#ed7953"
             ],
             [
              0.7777777777777778,
              "#fb9f3a"
             ],
             [
              0.8888888888888888,
              "#fdca26"
             ],
             [
              1,
              "#f0f921"
             ]
            ],
            "type": "surface"
           }
          ],
          "table": [
           {
            "cells": {
             "fill": {
              "color": "#EBF0F8"
             },
             "line": {
              "color": "white"
             }
            },
            "header": {
             "fill": {
              "color": "#C8D4E3"
             },
             "line": {
              "color": "white"
             }
            },
            "type": "table"
           }
          ]
         },
         "layout": {
          "annotationdefaults": {
           "arrowcolor": "#2a3f5f",
           "arrowhead": 0,
           "arrowwidth": 1
          },
          "autotypenumbers": "strict",
          "coloraxis": {
           "colorbar": {
            "outlinewidth": 0,
            "ticks": ""
           }
          },
          "colorscale": {
           "diverging": [
            [
             0,
             "#8e0152"
            ],
            [
             0.1,
             "#c51b7d"
            ],
            [
             0.2,
             "#de77ae"
            ],
            [
             0.3,
             "#f1b6da"
            ],
            [
             0.4,
             "#fde0ef"
            ],
            [
             0.5,
             "#f7f7f7"
            ],
            [
             0.6,
             "#e6f5d0"
            ],
            [
             0.7,
             "#b8e186"
            ],
            [
             0.8,
             "#7fbc41"
            ],
            [
             0.9,
             "#4d9221"
            ],
            [
             1,
             "#276419"
            ]
           ],
           "sequential": [
            [
             0,
             "#0d0887"
            ],
            [
             0.1111111111111111,
             "#46039f"
            ],
            [
             0.2222222222222222,
             "#7201a8"
            ],
            [
             0.3333333333333333,
             "#9c179e"
            ],
            [
             0.4444444444444444,
             "#bd3786"
            ],
            [
             0.5555555555555556,
             "#d8576b"
            ],
            [
             0.6666666666666666,
             "#ed7953"
            ],
            [
             0.7777777777777778,
             "#fb9f3a"
            ],
            [
             0.8888888888888888,
             "#fdca26"
            ],
            [
             1,
             "#f0f921"
            ]
           ],
           "sequentialminus": [
            [
             0,
             "#0d0887"
            ],
            [
             0.1111111111111111,
             "#46039f"
            ],
            [
             0.2222222222222222,
             "#7201a8"
            ],
            [
             0.3333333333333333,
             "#9c179e"
            ],
            [
             0.4444444444444444,
             "#bd3786"
            ],
            [
             0.5555555555555556,
             "#d8576b"
            ],
            [
             0.6666666666666666,
             "#ed7953"
            ],
            [
             0.7777777777777778,
             "#fb9f3a"
            ],
            [
             0.8888888888888888,
             "#fdca26"
            ],
            [
             1,
             "#f0f921"
            ]
           ]
          },
          "colorway": [
           "#636efa",
           "#EF553B",
           "#00cc96",
           "#ab63fa",
           "#FFA15A",
           "#19d3f3",
           "#FF6692",
           "#B6E880",
           "#FF97FF",
           "#FECB52"
          ],
          "font": {
           "color": "#2a3f5f"
          },
          "geo": {
           "bgcolor": "white",
           "lakecolor": "white",
           "landcolor": "#E5ECF6",
           "showlakes": true,
           "showland": true,
           "subunitcolor": "white"
          },
          "hoverlabel": {
           "align": "left"
          },
          "hovermode": "closest",
          "mapbox": {
           "style": "light"
          },
          "paper_bgcolor": "white",
          "plot_bgcolor": "#E5ECF6",
          "polar": {
           "angularaxis": {
            "gridcolor": "white",
            "linecolor": "white",
            "ticks": ""
           },
           "bgcolor": "#E5ECF6",
           "radialaxis": {
            "gridcolor": "white",
            "linecolor": "white",
            "ticks": ""
           }
          },
          "scene": {
           "xaxis": {
            "backgroundcolor": "#E5ECF6",
            "gridcolor": "white",
            "gridwidth": 2,
            "linecolor": "white",
            "showbackground": true,
            "ticks": "",
            "zerolinecolor": "white"
           },
           "yaxis": {
            "backgroundcolor": "#E5ECF6",
            "gridcolor": "white",
            "gridwidth": 2,
            "linecolor": "white",
            "showbackground": true,
            "ticks": "",
            "zerolinecolor": "white"
           },
           "zaxis": {
            "backgroundcolor": "#E5ECF6",
            "gridcolor": "white",
            "gridwidth": 2,
            "linecolor": "white",
            "showbackground": true,
            "ticks": "",
            "zerolinecolor": "white"
           }
          },
          "shapedefaults": {
           "line": {
            "color": "#2a3f5f"
           }
          },
          "ternary": {
           "aaxis": {
            "gridcolor": "white",
            "linecolor": "white",
            "ticks": ""
           },
           "baxis": {
            "gridcolor": "white",
            "linecolor": "white",
            "ticks": ""
           },
           "bgcolor": "#E5ECF6",
           "caxis": {
            "gridcolor": "white",
            "linecolor": "white",
            "ticks": ""
           }
          },
          "title": {
           "x": 0.05
          },
          "xaxis": {
           "automargin": true,
           "gridcolor": "white",
           "linecolor": "white",
           "ticks": "",
           "title": {
            "standoff": 15
           },
           "zerolinecolor": "white",
           "zerolinewidth": 2
          },
          "yaxis": {
           "automargin": true,
           "gridcolor": "white",
           "linecolor": "white",
           "ticks": "",
           "title": {
            "standoff": 15
           },
           "zerolinecolor": "white",
           "zerolinewidth": 2
          }
         }
        },
        "title": {
         "text": "Average Schooling Across Continents"
        },
        "xaxis": {
         "anchor": "y",
         "domain": [
          0,
          1
         ],
         "title": {
          "text": "Continent"
         }
        },
        "yaxis": {
         "anchor": "x",
         "domain": [
          0,
          1
         ],
         "title": {
          "text": "Schooling"
         }
        }
       }
      }
     },
     "metadata": {},
     "output_type": "display_data"
    }
   ],
   "source": [
    "# The function below will take a metric (e.g. GDP)\n",
    "# and compare it across continents.\n",
    "def BarGraph(metric):\n",
    "  temp_dict = {}\n",
    "  # The for loop below creates a dictionary where the keys are\n",
    "  # the continients and the values are the mean metric of each continent.\n",
    "  # If the metric passed is GDP, then the values\n",
    "  # are the mean GDP for each continent.\n",
    "  for cont in life_exp[\"Continent\"].unique():\n",
    "    temp_dict[cont] = life_exp[life_exp[\"Continent\"] == cont][metric].mean()\n",
    "  # Create a dataframe from the dictionary and formatting it.\n",
    "  df = pd.DataFrame(temp_dict, index=[metric])\n",
    "  df = df.transpose().reset_index()\n",
    "  df = df.rename(columns={\"index\": \"Continent\"})\n",
    "  df = df.sort_values(by=[metric])\n",
    "  fig = px.bar(df, x=\"Continent\", y=metric,\n",
    "               color=metric,\n",
    "               title=\"Average \"+metric+' Across Continents')\n",
    "  fig.show()\n",
    "\n",
    "\n",
    "BarGraph(\"Life Expectancy\")\n",
    "BarGraph(\"GDP\")\n",
    "BarGraph(\"Adult Mortality\")\n",
    "BarGraph(\"Income composition of resources\")\n",
    "BarGraph(\"Schooling\")"
   ]
  },
  {
   "cell_type": "code",
   "execution_count": 6,
   "metadata": {},
   "outputs": [
    {
     "data": {
      "application/vnd.plotly.v1+json": {
       "config": {
        "plotlyServerURL": "https://plotly.com"
       },
       "data": [
        {
         "domain": {
          "x": [
           0,
           1
          ],
          "y": [
           0,
           1
          ]
         },
         "hovertemplate": "Continent=%{label}<br>Population=%{value}<extra></extra>",
         "labels": [
          "AS",
          "AS",
          "AS",
          "AS",
          "AS",
          "AS",
          "AS",
          "AS",
          "AS",
          "AS",
          "AS",
          "AS",
          "AS",
          "AS",
          "AS",
          "AS",
          "EU",
          "EU",
          "EU",
          "EU",
          "EU",
          "EU",
          "EU",
          "EU",
          "EU",
          "EU",
          "EU",
          "EU",
          "EU",
          "EU",
          "EU",
          "EU",
          "AF",
          "AF",
          "AF",
          "AF",
          "AF",
          "AF",
          "AF",
          "AF",
          "AF",
          "AF",
          "AF",
          "AF",
          "AF",
          "AF",
          "AF",
          "AF",
          "AF",
          "AF",
          "AF",
          "AF",
          "AF",
          "AF",
          "AF",
          "AF",
          "AF",
          "AF",
          "AF",
          "AF",
          "AF",
          "AF",
          "AF",
          "AF",
          "NA",
          "NA",
          "NA",
          "NA",
          "NA",
          "NA",
          "NA",
          "NA",
          "NA",
          "NA",
          "NA",
          "NA",
          "NA",
          "NA",
          "NA",
          "NA",
          "SA",
          "SA",
          "SA",
          "SA",
          "SA",
          "SA",
          "SA",
          "SA",
          "SA",
          "SA",
          "SA",
          "SA",
          "SA",
          "SA",
          "SA",
          "SA",
          "AS",
          "AS",
          "AS",
          "AS",
          "AS",
          "AS",
          "AS",
          "AS",
          "AS",
          "AS",
          "AS",
          "AS",
          "AS",
          "AS",
          "AS",
          "AS",
          "OC",
          "OC",
          "OC",
          "OC",
          "OC",
          "OC",
          "OC",
          "OC",
          "OC",
          "OC",
          "OC",
          "OC",
          "OC",
          "OC",
          "OC",
          "OC",
          "EU",
          "EU",
          "EU",
          "EU",
          "EU",
          "EU",
          "EU",
          "EU",
          "EU",
          "EU",
          "EU",
          "EU",
          "EU",
          "EU",
          "EU",
          "EU",
          "AS",
          "AS",
          "AS",
          "AS",
          "AS",
          "AS",
          "AS",
          "AS",
          "AS",
          "AS",
          "AS",
          "AS",
          "AS",
          "AS",
          "AS",
          "AS",
          "NA",
          "NA",
          "NA",
          "NA",
          "NA",
          "NA",
          "NA",
          "NA",
          "NA",
          "NA",
          "NA",
          "NA",
          "NA",
          "NA",
          "NA",
          "NA",
          "AS",
          "AS",
          "AS",
          "AS",
          "AS",
          "AS",
          "AS",
          "AS",
          "AS",
          "AS",
          "AS",
          "AS",
          "AS",
          "AS",
          "AS",
          "AS",
          "AS",
          "AS",
          "AS",
          "AS",
          "AS",
          "AS",
          "AS",
          "AS",
          "AS",
          "AS",
          "AS",
          "AS",
          "AS",
          "AS",
          "AS",
          "AS",
          "NA",
          "NA",
          "NA",
          "NA",
          "NA",
          "NA",
          "NA",
          "NA",
          "NA",
          "NA",
          "NA",
          "NA",
          "NA",
          "NA",
          "NA",
          "NA",
          "EU",
          "EU",
          "EU",
          "EU",
          "EU",
          "EU",
          "EU",
          "EU",
          "EU",
          "EU",
          "EU",
          "EU",
          "EU",
          "EU",
          "EU",
          "EU",
          "EU",
          "EU",
          "EU",
          "EU",
          "EU",
          "EU",
          "EU",
          "EU",
          "EU",
          "EU",
          "EU",
          "EU",
          "EU",
          "EU",
          "EU",
          "EU",
          "NA",
          "NA",
          "NA",
          "NA",
          "NA",
          "NA",
          "NA",
          "NA",
          "NA",
          "NA",
          "NA",
          "NA",
          "NA",
          "NA",
          "NA",
          "NA",
          "AF",
          "AF",
          "AF",
          "AF",
          "AF",
          "AF",
          "AF",
          "AF",
          "AF",
          "AF",
          "AF",
          "AF",
          "AF",
          "AF",
          "AF",
          "AF",
          "AS",
          "AS",
          "AS",
          "AS",
          "AS",
          "AS",
          "AS",
          "AS",
          "AS",
          "AS",
          "AS",
          "AS",
          "AS",
          "AS",
          "AS",
          "AS",
          "SA",
          "SA",
          "SA",
          "SA",
          "SA",
          "SA",
          "SA",
          "SA",
          "SA",
          "SA",
          "SA",
          "SA",
          "SA",
          "SA",
          "SA",
          "SA",
          "EU",
          "EU",
          "EU",
          "EU",
          "EU",
          "EU",
          "EU",
          "EU",
          "EU",
          "EU",
          "EU",
          "EU",
          "EU",
          "EU",
          "EU",
          "EU",
          "AF",
          "AF",
          "AF",
          "AF",
          "AF",
          "AF",
          "AF",
          "AF",
          "AF",
          "AF",
          "AF",
          "AF",
          "AF",
          "AF",
          "AF",
          "AF",
          "SA",
          "SA",
          "SA",
          "SA",
          "SA",
          "SA",
          "SA",
          "SA",
          "SA",
          "SA",
          "SA",
          "SA",
          "SA",
          "SA",
          "SA",
          "SA",
          "AS",
          "AS",
          "AS",
          "AS",
          "AS",
          "AS",
          "AS",
          "AS",
          "AS",
          "AS",
          "AS",
          "AS",
          "AS",
          "AS",
          "AS",
          "AS",
          "EU",
          "EU",
          "EU",
          "EU",
          "EU",
          "EU",
          "EU",
          "EU",
          "EU",
          "EU",
          "EU",
          "EU",
          "EU",
          "EU",
          "EU",
          "EU",
          "AF",
          "AF",
          "AF",
          "AF",
          "AF",
          "AF",
          "AF",
          "AF",
          "AF",
          "AF",
          "AF",
          "AF",
          "AF",
          "AF",
          "AF",
          "AF",
          "AF",
          "AF",
          "AF",
          "AF",
          "AF",
          "AF",
          "AF",
          "AF",
          "AF",
          "AF",
          "AF",
          "AF",
          "AF",
          "AF",
          "AF",
          "AF",
          "AF",
          "AF",
          "AF",
          "AF",
          "AF",
          "AF",
          "AF",
          "AF",
          "AF",
          "AF",
          "AF",
          "AF",
          "AF",
          "AF",
          "AF",
          "AF",
          "AF",
          "AF",
          "AF",
          "AF",
          "AF",
          "AF",
          "AF",
          "AF",
          "AF",
          "AF",
          "AF",
          "AF",
          "AF",
          "AF",
          "AF",
          "AF",
          "AS",
          "AS",
          "AS",
          "AS",
          "AS",
          "AS",
          "AS",
          "AS",
          "AS",
          "AS",
          "AS",
          "AS",
          "AS",
          "AS",
          "AS",
          "AS",
          "AF",
          "AF",
          "AF",
          "AF",
          "AF",
          "AF",
          "AF",
          "AF",
          "AF",
          "AF",
          "AF",
          "AF",
          "AF",
          "AF",
          "AF",
          "AF",
          "NA",
          "NA",
          "NA",
          "NA",
          "NA",
          "NA",
          "NA",
          "NA",
          "NA",
          "NA",
          "NA",
          "NA",
          "NA",
          "NA",
          "NA",
          "NA",
          "AF",
          "AF",
          "AF",
          "AF",
          "AF",
          "AF",
          "AF",
          "AF",
          "AF",
          "AF",
          "AF",
          "AF",
          "AF",
          "AF",
          "AF",
          "AF",
          "AF",
          "AF",
          "AF",
          "AF",
          "AF",
          "AF",
          "AF",
          "AF",
          "AF",
          "AF",
          "AF",
          "AF",
          "AF",
          "AF",
          "AF",
          "AF",
          "SA",
          "SA",
          "SA",
          "SA",
          "SA",
          "SA",
          "SA",
          "SA",
          "SA",
          "SA",
          "SA",
          "SA",
          "SA",
          "SA",
          "SA",
          "SA",
          "AS",
          "AS",
          "AS",
          "AS",
          "AS",
          "AS",
          "AS",
          "AS",
          "AS",
          "AS",
          "AS",
          "AS",
          "AS",
          "AS",
          "AS",
          "AS",
          "SA",
          "SA",
          "SA",
          "SA",
          "SA",
          "SA",
          "SA",
          "SA",
          "SA",
          "SA",
          "SA",
          "SA",
          "SA",
          "SA",
          "SA",
          "SA",
          "AF",
          "AF",
          "AF",
          "AF",
          "AF",
          "AF",
          "AF",
          "AF",
          "AF",
          "AF",
          "AF",
          "AF",
          "AF",
          "AF",
          "AF",
          "AF",
          "AF",
          "AF",
          "AF",
          "AF",
          "AF",
          "AF",
          "AF",
          "AF",
          "AF",
          "AF",
          "AF",
          "AF",
          "AF",
          "AF",
          "AF",
          "AF",
          "OC",
          "NA",
          "NA",
          "NA",
          "NA",
          "NA",
          "NA",
          "NA",
          "NA",
          "NA",
          "NA",
          "NA",
          "NA",
          "NA",
          "NA",
          "NA",
          "NA",
          "EU",
          "EU",
          "EU",
          "EU",
          "EU",
          "EU",
          "EU",
          "EU",
          "EU",
          "EU",
          "EU",
          "EU",
          "EU",
          "EU",
          "EU",
          "EU",
          "NA",
          "NA",
          "NA",
          "NA",
          "NA",
          "NA",
          "NA",
          "NA",
          "NA",
          "NA",
          "NA",
          "NA",
          "NA",
          "NA",
          "NA",
          "NA",
          "AS",
          "AS",
          "AS",
          "AS",
          "AS",
          "AS",
          "AS",
          "AS",
          "AS",
          "AS",
          "AS",
          "AS",
          "AS",
          "AS",
          "AS",
          "AS",
          "EU",
          "EU",
          "EU",
          "EU",
          "EU",
          "EU",
          "EU",
          "EU",
          "EU",
          "EU",
          "EU",
          "EU",
          "EU",
          "EU",
          "EU",
          "EU",
          "AS",
          "AS",
          "AS",
          "AS",
          "AS",
          "AS",
          "AS",
          "AS",
          "AS",
          "AS",
          "AS",
          "AS",
          "AS",
          "AS",
          "AS",
          "AS",
          "AF",
          "AF",
          "AF",
          "AF",
          "AF",
          "AF",
          "AF",
          "AF",
          "AF",
          "AF",
          "AF",
          "AF",
          "AF",
          "AF",
          "AF",
          "AF",
          "EU",
          "EU",
          "EU",
          "EU",
          "EU",
          "EU",
          "EU",
          "EU",
          "EU",
          "EU",
          "EU",
          "EU",
          "EU",
          "EU",
          "EU",
          "EU",
          "AF",
          "AF",
          "AF",
          "AF",
          "AF",
          "AF",
          "AF",
          "AF",
          "AF",
          "AF",
          "AF",
          "AF",
          "AF",
          "AF",
          "AF",
          "AF",
          "NA",
          "NA",
          "NA",
          "NA",
          "NA",
          "NA",
          "NA",
          "NA",
          "NA",
          "NA",
          "NA",
          "NA",
          "NA",
          "NA",
          "NA",
          "NA",
          "NA",
          "SA",
          "SA",
          "SA",
          "SA",
          "SA",
          "SA",
          "SA",
          "SA",
          "SA",
          "SA",
          "SA",
          "SA",
          "SA",
          "SA",
          "SA",
          "SA",
          "AF",
          "AF",
          "AF",
          "AF",
          "AF",
          "AF",
          "AF",
          "AF",
          "AF",
          "AF",
          "AF",
          "AF",
          "AF",
          "AF",
          "AF",
          "AF",
          "NA",
          "NA",
          "NA",
          "NA",
          "NA",
          "NA",
          "NA",
          "NA",
          "NA",
          "NA",
          "NA",
          "NA",
          "NA",
          "NA",
          "NA",
          "NA",
          "AF",
          "AF",
          "AF",
          "AF",
          "AF",
          "AF",
          "AF",
          "AF",
          "AF",
          "AF",
          "AF",
          "AF",
          "AF",
          "AF",
          "AF",
          "AF",
          "AF",
          "AF",
          "AF",
          "AF",
          "AF",
          "AF",
          "AF",
          "AF",
          "AF",
          "AF",
          "AF",
          "AF",
          "AF",
          "AF",
          "AF",
          "AF",
          "EU",
          "EU",
          "EU",
          "EU",
          "EU",
          "EU",
          "EU",
          "EU",
          "EU",
          "EU",
          "EU",
          "EU",
          "EU",
          "EU",
          "EU",
          "EU",
          "AF",
          "AF",
          "AF",
          "AF",
          "AF",
          "AF",
          "AF",
          "AF",
          "AF",
          "AF",
          "AF",
          "AF",
          "AF",
          "AF",
          "AF",
          "AF",
          "OC",
          "OC",
          "OC",
          "OC",
          "OC",
          "OC",
          "OC",
          "OC",
          "OC",
          "OC",
          "OC",
          "OC",
          "OC",
          "OC",
          "OC",
          "OC",
          "EU",
          "EU",
          "EU",
          "EU",
          "EU",
          "EU",
          "EU",
          "EU",
          "EU",
          "EU",
          "EU",
          "EU",
          "EU",
          "EU",
          "EU",
          "EU",
          "EU",
          "EU",
          "EU",
          "EU",
          "EU",
          "EU",
          "EU",
          "EU",
          "EU",
          "EU",
          "EU",
          "EU",
          "EU",
          "EU",
          "EU",
          "EU",
          "AF",
          "AF",
          "AF",
          "AF",
          "AF",
          "AF",
          "AF",
          "AF",
          "AF",
          "AF",
          "AF",
          "AF",
          "AF",
          "AF",
          "AF",
          "AF",
          "AF",
          "AF",
          "AF",
          "AF",
          "AF",
          "AF",
          "AF",
          "AF",
          "AF",
          "AF",
          "AF",
          "AF",
          "AF",
          "AF",
          "AF",
          "AF",
          "AS",
          "AS",
          "AS",
          "AS",
          "AS",
          "AS",
          "AS",
          "AS",
          "AS",
          "AS",
          "AS",
          "AS",
          "AS",
          "AS",
          "AS",
          "AS",
          "EU",
          "EU",
          "EU",
          "EU",
          "EU",
          "EU",
          "EU",
          "EU",
          "EU",
          "EU",
          "EU",
          "EU",
          "EU",
          "EU",
          "EU",
          "EU",
          "AF",
          "AF",
          "AF",
          "AF",
          "AF",
          "AF",
          "AF",
          "AF",
          "AF",
          "AF",
          "AF",
          "AF",
          "AF",
          "AF",
          "AF",
          "AF",
          "EU",
          "EU",
          "EU",
          "EU",
          "EU",
          "EU",
          "EU",
          "EU",
          "EU",
          "EU",
          "EU",
          "EU",
          "EU",
          "EU",
          "EU",
          "EU",
          "NA",
          "NA",
          "NA",
          "NA",
          "NA",
          "NA",
          "NA",
          "NA",
          "NA",
          "NA",
          "NA",
          "NA",
          "NA",
          "NA",
          "NA",
          "NA",
          "NA",
          "NA",
          "NA",
          "NA",
          "NA",
          "NA",
          "NA",
          "NA",
          "NA",
          "NA",
          "NA",
          "NA",
          "NA",
          "NA",
          "NA",
          "NA",
          "AF",
          "AF",
          "AF",
          "AF",
          "AF",
          "AF",
          "AF",
          "AF",
          "AF",
          "AF",
          "AF",
          "AF",
          "AF",
          "AF",
          "AF",
          "AF",
          "AF",
          "AF",
          "AF",
          "AF",
          "AF",
          "AF",
          "AF",
          "AF",
          "AF",
          "AF",
          "AF",
          "AF",
          "AF",
          "AF",
          "AF",
          "AF",
          "SA",
          "SA",
          "SA",
          "SA",
          "SA",
          "SA",
          "SA",
          "SA",
          "SA",
          "SA",
          "SA",
          "SA",
          "SA",
          "SA",
          "SA",
          "SA",
          "NA",
          "NA",
          "NA",
          "NA",
          "NA",
          "NA",
          "NA",
          "NA",
          "NA",
          "NA",
          "NA",
          "NA",
          "NA",
          "NA",
          "NA",
          "NA",
          "NA",
          "NA",
          "NA",
          "NA",
          "NA",
          "NA",
          "NA",
          "NA",
          "NA",
          "NA",
          "NA",
          "NA",
          "NA",
          "NA",
          "NA",
          "NA",
          "EU",
          "EU",
          "EU",
          "EU",
          "EU",
          "EU",
          "EU",
          "EU",
          "EU",
          "EU",
          "EU",
          "EU",
          "EU",
          "EU",
          "EU",
          "EU",
          "EU",
          "EU",
          "EU",
          "EU",
          "EU",
          "EU",
          "EU",
          "EU",
          "EU",
          "EU",
          "EU",
          "EU",
          "EU",
          "EU",
          "EU",
          "EU",
          "AS",
          "AS",
          "AS",
          "AS",
          "AS",
          "AS",
          "AS",
          "AS",
          "AS",
          "AS",
          "AS",
          "AS",
          "AS",
          "AS",
          "AS",
          "AS",
          "AS",
          "AS",
          "AS",
          "AS",
          "AS",
          "AS",
          "AS",
          "AS",
          "AS",
          "AS",
          "AS",
          "AS",
          "AS",
          "AS",
          "AS",
          "AS",
          "AS",
          "AS",
          "AS",
          "AS",
          "AS",
          "AS",
          "AS",
          "AS",
          "AS",
          "AS",
          "AS",
          "AS",
          "AS",
          "AS",
          "AS",
          "AS",
          "AS",
          "AS",
          "AS",
          "AS",
          "AS",
          "AS",
          "AS",
          "AS",
          "AS",
          "AS",
          "AS",
          "AS",
          "AS",
          "AS",
          "AS",
          "AS",
          "EU",
          "EU",
          "EU",
          "EU",
          "EU",
          "EU",
          "EU",
          "EU",
          "EU",
          "EU",
          "EU",
          "EU",
          "EU",
          "EU",
          "EU",
          "EU",
          "AS",
          "AS",
          "AS",
          "AS",
          "AS",
          "AS",
          "AS",
          "AS",
          "AS",
          "AS",
          "AS",
          "AS",
          "AS",
          "AS",
          "AS",
          "AS",
          "EU",
          "EU",
          "EU",
          "EU",
          "EU",
          "EU",
          "EU",
          "EU",
          "EU",
          "EU",
          "EU",
          "EU",
          "EU",
          "EU",
          "EU",
          "EU",
          "NA",
          "NA",
          "NA",
          "NA",
          "NA",
          "NA",
          "NA",
          "NA",
          "NA",
          "NA",
          "NA",
          "NA",
          "NA",
          "NA",
          "NA",
          "NA",
          "AS",
          "AS",
          "AS",
          "AS",
          "AS",
          "AS",
          "AS",
          "AS",
          "AS",
          "AS",
          "AS",
          "AS",
          "AS",
          "AS",
          "AS",
          "AS",
          "AS",
          "AS",
          "AS",
          "AS",
          "AS",
          "AS",
          "AS",
          "AS",
          "AS",
          "AS",
          "AS",
          "AS",
          "AS",
          "AS",
          "AS",
          "AS",
          "AS",
          "AS",
          "AS",
          "AS",
          "AS",
          "AS",
          "AS",
          "AS",
          "AS",
          "AS",
          "AS",
          "AS",
          "AS",
          "AS",
          "AS",
          "AS",
          "AF",
          "AF",
          "AF",
          "AF",
          "AF",
          "AF",
          "AF",
          "AF",
          "AF",
          "AF",
          "AF",
          "AF",
          "AF",
          "AF",
          "AF",
          "AF",
          "OC",
          "OC",
          "OC",
          "OC",
          "OC",
          "OC",
          "OC",
          "OC",
          "OC",
          "OC",
          "OC",
          "OC",
          "OC",
          "OC",
          "OC",
          "OC",
          "AS",
          "AS",
          "AS",
          "AS",
          "AS",
          "AS",
          "AS",
          "AS",
          "AS",
          "AS",
          "AS",
          "AS",
          "AS",
          "AS",
          "AS",
          "AS",
          "AS",
          "AS",
          "AS",
          "AS",
          "AS",
          "AS",
          "AS",
          "AS",
          "AS",
          "AS",
          "AS",
          "AS",
          "AS",
          "AS",
          "AS",
          "AS",
          "AS",
          "AS",
          "AS",
          "AS",
          "AS",
          "AS",
          "AS",
          "AS",
          "AS",
          "AS",
          "AS",
          "AS",
          "AS",
          "AS",
          "AS",
          "AS",
          "EU",
          "EU",
          "EU",
          "EU",
          "EU",
          "EU",
          "EU",
          "EU",
          "EU",
          "EU",
          "EU",
          "EU",
          "EU",
          "EU",
          "EU",
          "EU",
          "AS",
          "AS",
          "AS",
          "AS",
          "AS",
          "AS",
          "AS",
          "AS",
          "AS",
          "AS",
          "AS",
          "AS",
          "AS",
          "AS",
          "AS",
          "AS",
          "AF",
          "AF",
          "AF",
          "AF",
          "AF",
          "AF",
          "AF",
          "AF",
          "AF",
          "AF",
          "AF",
          "AF",
          "AF",
          "AF",
          "AF",
          "AF",
          "AF",
          "AF",
          "AF",
          "AF",
          "AF",
          "AF",
          "AF",
          "AF",
          "AF",
          "AF",
          "AF",
          "AF",
          "AF",
          "AF",
          "AF",
          "AF",
          "AF",
          "AF",
          "AF",
          "AF",
          "AF",
          "AF",
          "AF",
          "AF",
          "AF",
          "AF",
          "AF",
          "AF",
          "AF",
          "AF",
          "AF",
          "AF",
          "EU",
          "EU",
          "EU",
          "EU",
          "EU",
          "EU",
          "EU",
          "EU",
          "EU",
          "EU",
          "EU",
          "EU",
          "EU",
          "EU",
          "EU",
          "EU",
          "EU",
          "EU",
          "EU",
          "EU",
          "EU",
          "EU",
          "EU",
          "EU",
          "EU",
          "EU",
          "EU",
          "EU",
          "EU",
          "EU",
          "EU",
          "EU",
          "AF",
          "AF",
          "AF",
          "AF",
          "AF",
          "AF",
          "AF",
          "AF",
          "AF",
          "AF",
          "AF",
          "AF",
          "AF",
          "AF",
          "AF",
          "AF",
          "AF",
          "AF",
          "AF",
          "AF",
          "AF",
          "AF",
          "AF",
          "AF",
          "AF",
          "AF",
          "AF",
          "AF",
          "AF",
          "AF",
          "AF",
          "AF",
          "AS",
          "AS",
          "AS",
          "AS",
          "AS",
          "AS",
          "AS",
          "AS",
          "AS",
          "AS",
          "AS",
          "AS",
          "AS",
          "AS",
          "AS",
          "AS",
          "AS",
          "AS",
          "AS",
          "AS",
          "AS",
          "AS",
          "AS",
          "AS",
          "AS",
          "AS",
          "AS",
          "AS",
          "AS",
          "AS",
          "AS",
          "AS",
          "AF",
          "AF",
          "AF",
          "AF",
          "AF",
          "AF",
          "AF",
          "AF",
          "AF",
          "AF",
          "AF",
          "AF",
          "AF",
          "AF",
          "AF",
          "AF",
          "EU",
          "EU",
          "EU",
          "EU",
          "EU",
          "EU",
          "EU",
          "EU",
          "EU",
          "EU",
          "EU",
          "EU",
          "EU",
          "EU",
          "EU",
          "EU",
          "OC",
          "AF",
          "AF",
          "AF",
          "AF",
          "AF",
          "AF",
          "AF",
          "AF",
          "AF",
          "AF",
          "AF",
          "AF",
          "AF",
          "AF",
          "AF",
          "AF",
          "AF",
          "AF",
          "AF",
          "AF",
          "AF",
          "AF",
          "AF",
          "AF",
          "AF",
          "AF",
          "AF",
          "AF",
          "AF",
          "AF",
          "AF",
          "AF",
          "NA",
          "NA",
          "NA",
          "NA",
          "NA",
          "NA",
          "NA",
          "NA",
          "NA",
          "NA",
          "NA",
          "NA",
          "NA",
          "NA",
          "NA",
          "NA",
          "OC",
          "OC",
          "OC",
          "OC",
          "OC",
          "OC",
          "OC",
          "OC",
          "OC",
          "OC",
          "OC",
          "OC",
          "OC",
          "OC",
          "OC",
          "OC",
          "EU",
          "AS",
          "AS",
          "AS",
          "AS",
          "AS",
          "AS",
          "AS",
          "AS",
          "AS",
          "AS",
          "AS",
          "AS",
          "AS",
          "AS",
          "AS",
          "AS",
          "EU",
          "EU",
          "EU",
          "EU",
          "EU",
          "EU",
          "EU",
          "EU",
          "EU",
          "EU",
          "EU",
          "EU",
          "EU",
          "EU",
          "EU",
          "EU",
          "AF",
          "AF",
          "AF",
          "AF",
          "AF",
          "AF",
          "AF",
          "AF",
          "AF",
          "AF",
          "AF",
          "AF",
          "AF",
          "AF",
          "AF",
          "AF",
          "AF",
          "AF",
          "AF",
          "AF",
          "AF",
          "AF",
          "AF",
          "AF",
          "AF",
          "AF",
          "AF",
          "AF",
          "AF",
          "AF",
          "AF",
          "AF",
          "AS",
          "AS",
          "AS",
          "AS",
          "AS",
          "AS",
          "AS",
          "AS",
          "AS",
          "AS",
          "AS",
          "AS",
          "AS",
          "AS",
          "AS",
          "AS",
          "AF",
          "AF",
          "AF",
          "AF",
          "AF",
          "AF",
          "AF",
          "AF",
          "AF",
          "AF",
          "AF",
          "AF",
          "AF",
          "AF",
          "AF",
          "AF",
          "OC",
          "AS",
          "AS",
          "AS",
          "AS",
          "AS",
          "AS",
          "AS",
          "AS",
          "AS",
          "AS",
          "AS",
          "AS",
          "AS",
          "AS",
          "AS",
          "AS",
          "EU",
          "EU",
          "EU",
          "EU",
          "EU",
          "EU",
          "EU",
          "EU",
          "EU",
          "EU",
          "EU",
          "EU",
          "EU",
          "EU",
          "EU",
          "EU",
          "OC",
          "OC",
          "OC",
          "OC",
          "OC",
          "OC",
          "OC",
          "OC",
          "OC",
          "OC",
          "OC",
          "OC",
          "OC",
          "OC",
          "OC",
          "OC",
          "NA",
          "NA",
          "NA",
          "NA",
          "NA",
          "NA",
          "NA",
          "NA",
          "NA",
          "NA",
          "NA",
          "NA",
          "NA",
          "NA",
          "NA",
          "NA",
          "AF",
          "AF",
          "AF",
          "AF",
          "AF",
          "AF",
          "AF",
          "AF",
          "AF",
          "AF",
          "AF",
          "AF",
          "AF",
          "AF",
          "AF",
          "AF",
          "AF",
          "AF",
          "AF",
          "AF",
          "AF",
          "AF",
          "AF",
          "AF",
          "AF",
          "AF",
          "AF",
          "AF",
          "AF",
          "AF",
          "AF",
          "AF",
          "OC",
          "EU",
          "EU",
          "EU",
          "EU",
          "EU",
          "EU",
          "EU",
          "EU",
          "EU",
          "EU",
          "EU",
          "EU",
          "EU",
          "EU",
          "EU",
          "EU",
          "AS",
          "AS",
          "AS",
          "AS",
          "AS",
          "AS",
          "AS",
          "AS",
          "AS",
          "AS",
          "AS",
          "AS",
          "AS",
          "AS",
          "AS",
          "AS",
          "AS",
          "AS",
          "AS",
          "AS",
          "AS",
          "AS",
          "AS",
          "AS",
          "AS",
          "AS",
          "AS",
          "AS",
          "AS",
          "AS",
          "AS",
          "AS",
          "OC",
          "NA",
          "NA",
          "NA",
          "NA",
          "NA",
          "NA",
          "NA",
          "NA",
          "NA",
          "NA",
          "NA",
          "NA",
          "NA",
          "NA",
          "NA",
          "NA",
          "OC",
          "OC",
          "OC",
          "OC",
          "OC",
          "OC",
          "OC",
          "OC",
          "OC",
          "OC",
          "OC",
          "OC",
          "OC",
          "OC",
          "OC",
          "OC",
          "SA",
          "SA",
          "SA",
          "SA",
          "SA",
          "SA",
          "SA",
          "SA",
          "SA",
          "SA",
          "SA",
          "SA",
          "SA",
          "SA",
          "SA",
          "SA",
          "SA",
          "SA",
          "SA",
          "SA",
          "SA",
          "SA",
          "SA",
          "SA",
          "SA",
          "SA",
          "SA",
          "SA",
          "SA",
          "SA",
          "SA",
          "SA",
          "AS",
          "AS",
          "AS",
          "AS",
          "AS",
          "AS",
          "AS",
          "AS",
          "AS",
          "AS",
          "AS",
          "AS",
          "AS",
          "AS",
          "AS",
          "AS",
          "EU",
          "EU",
          "EU",
          "EU",
          "EU",
          "EU",
          "EU",
          "EU",
          "EU",
          "EU",
          "EU",
          "EU",
          "EU",
          "EU",
          "EU",
          "EU",
          "EU",
          "EU",
          "EU",
          "EU",
          "EU",
          "EU",
          "EU",
          "EU",
          "EU",
          "EU",
          "EU",
          "EU",
          "EU",
          "EU",
          "EU",
          "EU",
          "AS",
          "AS",
          "AS",
          "AS",
          "AS",
          "AS",
          "AS",
          "AS",
          "AS",
          "AS",
          "AS",
          "AS",
          "AS",
          "AS",
          "AS",
          "AS",
          "AS",
          "AS",
          "AS",
          "AS",
          "AS",
          "AS",
          "AS",
          "AS",
          "AS",
          "AS",
          "AS",
          "AS",
          "AS",
          "AS",
          "AS",
          "AS",
          "EU",
          "EU",
          "EU",
          "EU",
          "EU",
          "EU",
          "EU",
          "EU",
          "EU",
          "EU",
          "EU",
          "EU",
          "EU",
          "EU",
          "EU",
          "EU",
          "EU",
          "EU",
          "EU",
          "EU",
          "EU",
          "EU",
          "EU",
          "EU",
          "EU",
          "EU",
          "EU",
          "EU",
          "EU",
          "EU",
          "EU",
          "EU",
          "EU",
          "EU",
          "EU",
          "EU",
          "EU",
          "EU",
          "EU",
          "EU",
          "EU",
          "EU",
          "EU",
          "EU",
          "EU",
          "EU",
          "EU",
          "EU",
          "AF",
          "AF",
          "AF",
          "AF",
          "AF",
          "AF",
          "AF",
          "AF",
          "AF",
          "AF",
          "AF",
          "AF",
          "AF",
          "AF",
          "AF",
          "AF",
          "NA",
          "NA",
          "NA",
          "NA",
          "NA",
          "NA",
          "NA",
          "NA",
          "NA",
          "NA",
          "NA",
          "NA",
          "NA",
          "NA",
          "NA",
          "NA",
          "NA",
          "NA",
          "NA",
          "NA",
          "NA",
          "NA",
          "NA",
          "NA",
          "NA",
          "NA",
          "NA",
          "NA",
          "NA",
          "NA",
          "NA",
          "NA",
          "NA",
          "OC",
          "OC",
          "OC",
          "OC",
          "OC",
          "OC",
          "OC",
          "OC",
          "OC",
          "OC",
          "OC",
          "OC",
          "OC",
          "OC",
          "OC",
          "OC",
          "EU",
          "AF",
          "AF",
          "AF",
          "AF",
          "AF",
          "AF",
          "AF",
          "AF",
          "AF",
          "AF",
          "AF",
          "AF",
          "AF",
          "AF",
          "AF",
          "AF",
          "AS",
          "AS",
          "AS",
          "AS",
          "AS",
          "AS",
          "AS",
          "AS",
          "AS",
          "AS",
          "AS",
          "AS",
          "AS",
          "AS",
          "AS",
          "AS",
          "AF",
          "AF",
          "AF",
          "AF",
          "AF",
          "AF",
          "AF",
          "AF",
          "AF",
          "AF",
          "AF",
          "AF",
          "AF",
          "AF",
          "AF",
          "AF",
          "EU",
          "EU",
          "EU",
          "EU",
          "EU",
          "EU",
          "EU",
          "EU",
          "EU",
          "EU",
          "EU",
          "EU",
          "EU",
          "EU",
          "EU",
          "EU",
          "AF",
          "AF",
          "AF",
          "AF",
          "AF",
          "AF",
          "AF",
          "AF",
          "AF",
          "AF",
          "AF",
          "AF",
          "AF",
          "AF",
          "AF",
          "AF",
          "AF",
          "AF",
          "AF",
          "AF",
          "AF",
          "AF",
          "AF",
          "AF",
          "AF",
          "AF",
          "AF",
          "AF",
          "AF",
          "AF",
          "AF",
          "AF",
          "AS",
          "AS",
          "AS",
          "AS",
          "AS",
          "AS",
          "AS",
          "AS",
          "AS",
          "AS",
          "AS",
          "AS",
          "AS",
          "AS",
          "AS",
          "AS",
          "EU",
          "EU",
          "EU",
          "EU",
          "EU",
          "EU",
          "EU",
          "EU",
          "EU",
          "EU",
          "EU",
          "EU",
          "EU",
          "EU",
          "EU",
          "EU",
          "EU",
          "EU",
          "EU",
          "EU",
          "EU",
          "EU",
          "EU",
          "EU",
          "EU",
          "EU",
          "EU",
          "EU",
          "EU",
          "EU",
          "EU",
          "EU",
          "OC",
          "OC",
          "OC",
          "OC",
          "OC",
          "OC",
          "OC",
          "OC",
          "OC",
          "OC",
          "OC",
          "OC",
          "OC",
          "OC",
          "OC",
          "OC",
          "AF",
          "AF",
          "AF",
          "AF",
          "AF",
          "AF",
          "AF",
          "AF",
          "AF",
          "AF",
          "AF",
          "AF",
          "AF",
          "AF",
          "AF",
          "AF",
          "AF",
          "AF",
          "AF",
          "AF",
          "AF",
          "AF",
          "AF",
          "AF",
          "AF",
          "AF",
          "AF",
          "AF",
          "AF",
          "AF",
          "AF",
          "AF",
          "AF",
          "AF",
          "AF",
          "AF",
          "AF",
          "AF",
          "AF",
          "AF",
          "AF",
          "AF",
          "AF",
          "AF",
          "AF",
          "AF",
          "AF",
          "AF",
          "EU",
          "EU",
          "EU",
          "EU",
          "EU",
          "EU",
          "EU",
          "EU",
          "EU",
          "EU",
          "EU",
          "EU",
          "EU",
          "EU",
          "EU",
          "EU",
          "AS",
          "AS",
          "AS",
          "AS",
          "AS",
          "AS",
          "AS",
          "AS",
          "AS",
          "AS",
          "AS",
          "AS",
          "AS",
          "AS",
          "AS",
          "AS",
          "AF",
          "AF",
          "AF",
          "AF",
          "AF",
          "AF",
          "AF",
          "AF",
          "AF",
          "AF",
          "AF",
          "AF",
          "AF",
          "AF",
          "AF",
          "AF",
          "SA",
          "SA",
          "SA",
          "SA",
          "SA",
          "SA",
          "SA",
          "SA",
          "SA",
          "SA",
          "SA",
          "SA",
          "SA",
          "SA",
          "SA",
          "SA",
          "AF",
          "AF",
          "AF",
          "AF",
          "AF",
          "AF",
          "AF",
          "AF",
          "AF",
          "AF",
          "AF",
          "AF",
          "AF",
          "AF",
          "AF",
          "AF",
          "EU",
          "EU",
          "EU",
          "EU",
          "EU",
          "EU",
          "EU",
          "EU",
          "EU",
          "EU",
          "EU",
          "EU",
          "EU",
          "EU",
          "EU",
          "EU",
          "EU",
          "EU",
          "EU",
          "EU",
          "EU",
          "EU",
          "EU",
          "EU",
          "EU",
          "EU",
          "EU",
          "EU",
          "EU",
          "EU",
          "EU",
          "EU",
          "AS",
          "AS",
          "AS",
          "AS",
          "AS",
          "AS",
          "AS",
          "AS",
          "AS",
          "AS",
          "AS",
          "AS",
          "AS",
          "AS",
          "AS",
          "AS",
          "AS",
          "AS",
          "AS",
          "AS",
          "AS",
          "AS",
          "AS",
          "AS",
          "AS",
          "AS",
          "AS",
          "AS",
          "AS",
          "AS",
          "AS",
          "AS",
          "AS",
          "AS",
          "AS",
          "AS",
          "AS",
          "AS",
          "AS",
          "AS",
          "AS",
          "AS",
          "AS",
          "AS",
          "AS",
          "AS",
          "AS",
          "AS",
          "EU",
          "EU",
          "EU",
          "EU",
          "EU",
          "EU",
          "EU",
          "EU",
          "EU",
          "EU",
          "EU",
          "EU",
          "EU",
          "EU",
          "EU",
          "EU",
          "AS",
          "AS",
          "AS",
          "AS",
          "AS",
          "AS",
          "AS",
          "AS",
          "AS",
          "AS",
          "AS",
          "AS",
          "AS",
          "AS",
          "AS",
          "AS",
          "AF",
          "AF",
          "AF",
          "AF",
          "AF",
          "AF",
          "AF",
          "AF",
          "AF",
          "AF",
          "AF",
          "AF",
          "AF",
          "AF",
          "AF",
          "AF",
          "OC",
          "OC",
          "OC",
          "OC",
          "OC",
          "OC",
          "OC",
          "OC",
          "OC",
          "OC",
          "OC",
          "OC",
          "OC",
          "OC",
          "OC",
          "OC",
          "NA",
          "NA",
          "NA",
          "NA",
          "NA",
          "NA",
          "NA",
          "NA",
          "NA",
          "NA",
          "NA",
          "NA",
          "NA",
          "NA",
          "NA",
          "NA",
          "AF",
          "AF",
          "AF",
          "AF",
          "AF",
          "AF",
          "AF",
          "AF",
          "AF",
          "AF",
          "AF",
          "AF",
          "AF",
          "AF",
          "AF",
          "AF",
          "AS",
          "AS",
          "AS",
          "AS",
          "AS",
          "AS",
          "AS",
          "AS",
          "AS",
          "AS",
          "AS",
          "AS",
          "AS",
          "AS",
          "AS",
          "AS",
          "AS",
          "AS",
          "AS",
          "AS",
          "AS",
          "AS",
          "AS",
          "AS",
          "AS",
          "AS",
          "AS",
          "AS",
          "AS",
          "AS",
          "AS",
          "AS",
          "OC",
          "AF",
          "AF",
          "AF",
          "AF",
          "AF",
          "AF",
          "AF",
          "AF",
          "AF",
          "AF",
          "AF",
          "AF",
          "AF",
          "AF",
          "AF",
          "AF",
          "EU",
          "EU",
          "EU",
          "EU",
          "EU",
          "EU",
          "EU",
          "EU",
          "EU",
          "EU",
          "EU",
          "EU",
          "EU",
          "EU",
          "EU",
          "EU",
          "AS",
          "AS",
          "AS",
          "AS",
          "AS",
          "AS",
          "AS",
          "AS",
          "AS",
          "AS",
          "AS",
          "AS",
          "AS",
          "AS",
          "AS",
          "AS",
          "EU",
          "EU",
          "EU",
          "EU",
          "EU",
          "EU",
          "EU",
          "EU",
          "EU",
          "EU",
          "EU",
          "EU",
          "EU",
          "EU",
          "EU",
          "EU",
          "AF",
          "AF",
          "AF",
          "AF",
          "AF",
          "AF",
          "AF",
          "AF",
          "AF",
          "AF",
          "AF",
          "AF",
          "AF",
          "AF",
          "AF",
          "AF",
          "NA",
          "NA",
          "NA",
          "NA",
          "NA",
          "NA",
          "NA",
          "NA",
          "NA",
          "NA",
          "NA",
          "NA",
          "NA",
          "NA",
          "NA",
          "NA",
          "SA",
          "SA",
          "SA",
          "SA",
          "SA",
          "SA",
          "SA",
          "SA",
          "SA",
          "SA",
          "SA",
          "SA",
          "SA",
          "SA",
          "SA",
          "SA",
          "AS",
          "AS",
          "AS",
          "AS",
          "AS",
          "AS",
          "AS",
          "AS",
          "AS",
          "AS",
          "AS",
          "AS",
          "AS",
          "AS",
          "AS",
          "AS",
          "OC",
          "OC",
          "OC",
          "OC",
          "OC",
          "OC",
          "OC",
          "OC",
          "OC",
          "OC",
          "OC",
          "OC",
          "OC",
          "OC",
          "OC",
          "OC",
          "SA",
          "SA",
          "SA",
          "SA",
          "SA",
          "SA",
          "SA",
          "SA",
          "SA",
          "SA",
          "SA",
          "SA",
          "SA",
          "SA",
          "SA",
          "SA",
          "AS",
          "AS",
          "AS",
          "AS",
          "AS",
          "AS",
          "AS",
          "AS",
          "AS",
          "AS",
          "AS",
          "AS",
          "AS",
          "AS",
          "AS",
          "AS",
          "AS",
          "AS",
          "AS",
          "AS",
          "AS",
          "AS",
          "AS",
          "AS",
          "AS",
          "AS",
          "AS",
          "AS",
          "AS",
          "AS",
          "AS",
          "AS",
          "AF",
          "AF",
          "AF",
          "AF",
          "AF",
          "AF",
          "AF",
          "AF",
          "AF",
          "AF",
          "AF",
          "AF",
          "AF",
          "AF",
          "AF",
          "AF",
          "AF",
          "AF",
          "AF",
          "AF",
          "AF",
          "AF",
          "AF",
          "AF",
          "AF",
          "AF",
          "AF",
          "AF",
          "AF",
          "AF",
          "AF",
          "AF"
         ],
         "legendgroup": "",
         "name": "",
         "showlegend": true,
         "type": "pie",
         "values": [
          33736494,
          327582,
          31731688,
          3696958,
          2978599,
          2883167,
          284331,
          2729431,
          26616792,
          2589345,
          257798,
          24118979,
          2364851,
          21979923,
          2966463,
          293756,
          28873,
          288914,
          289592,
          2941,
          295195,
          291321,
          2927519,
          2947314,
          29717,
          2992547,
          311487,
          326939,
          339616,
          3511,
          36173,
          38927,
          39871528,
          39113313,
          38338562,
          37565847,
          36819558,
          36117637,
          3546576,
          3486715,
          34376,
          33777915,
          33288437,
          3283196,
          3243514,
          3199546,
          31592153,
          3118366,
          2785935,
          2692466,
          2599834,
          259615,
          24218565,
          23369131,
          22549547,
          2175942,
          2997687,
          2262399,
          19552542,
          18865716,
          1823369,
          17572649,
          16983266,
          1644924,
          null,
          null,
          null,
          null,
          null,
          null,
          null,
          null,
          null,
          null,
          null,
          null,
          null,
          null,
          null,
          null,
          43417765,
          42981515,
          42539925,
          4296739,
          41656879,
          41223889,
          479947,
          4382389,
          3997224,
          3955889,
          39145488,
          38728696,
          3839379,
          3788937,
          3747159,
          3757452,
          291695,
          29622,
          289359,
          2881922,
          2875581,
          2877311,
          2888584,
          29822,
          293356,
          29585,
          2981259,
          3612,
          31786,
          333897,
          35655,
          369588,
          23789338,
          2346694,
          23117353,
          22728254,
          223424,
          223175,
          216917,
          212492,
          28276,
          26979,
          23948,
          21274,
          198954,
          196514,
          19413,
          19153,
          8633169,
          8541575,
          8479375,
          8429991,
          8391643,
          836344,
          8343323,
          8321496,
          8295487,
          8268641,
          8227829,
          8171966,
          8121423,
          881957,
          842293,
          811566,
          9649341,
          953579,
          941681,
          9295784,
          917382,
          954332,
          8947243,
          87634,
          85813,
          848455,
          839185,
          8365,
          82341,
          817195,
          81112,
          8486,
          null,
          null,
          null,
          null,
          null,
          null,
          null,
          null,
          null,
          null,
          null,
          null,
          null,
          null,
          null,
          null,
          null,
          null,
          null,
          null,
          null,
          null,
          null,
          null,
          null,
          null,
          null,
          null,
          null,
          null,
          null,
          null,
          1612886,
          15945279,
          157571292,
          15572753,
          153911916,
          15214912,
          1545478,
          14885814,
          147139191,
          1453684,
          14343111,
          14137489,
          139191,
          1366667,
          1341716,
          131581243,
          null,
          null,
          null,
          null,
          null,
          null,
          null,
          null,
          null,
          null,
          null,
          null,
          null,
          null,
          null,
          null,
          9489616,
          9474511,
          9465997,
          9464495,
          9473172,
          949583,
          956765,
          9527985,
          956953,
          964924,
          9663915,
          973146,
          9796749,
          9865548,
          9928549,
          997961,
          11274196,
          112957,
          11182817,
          11128246,
          1147744,
          1895586,
          1796493,
          179973,
          16257,
          1547958,
          1478617,
          1421137,
          1376133,
          1332785,
          128657,
          125125,
          359288,
          351694,
          344181,
          33671,
          329192,
          32168,
          313929,
          36165,
          29847,
          29747,
          283277,
          27689,
          26913,
          26226,
          254984,
          247315,
          1575952,
          1286712,
          14451,
          972916,
          94682,
          9199259,
          894476,
          8696916,
          8454791,
          8216896,
          7982225,
          7754,
          752555,
          7295394,
          776733,
          6865951,
          787386,
          776448,
          764961,
          752967,
          7451,
          727641,
          714458,
          795,
          686958,
          672228,
          656639,
          64282,
          623434,
          66399,
          5896,
          573416,
          null,
          null,
          null,
          null,
          null,
          null,
          null,
          null,
          null,
          null,
          null,
          null,
          null,
          null,
          null,
          null,
          3535961,
          35662,
          364999,
          36482,
          3688865,
          372284,
          3746561,
          3763599,
          3774,
          3779468,
          378153,
          3781287,
          3779247,
          377587,
          3771284,
          376676,
          229197,
          2168573,
          212857,
          289315,
          251339,
          214866,
          1979882,
          1946351,
          1914414,
          1884238,
          1855852,
          182933,
          184339,
          1779953,
          1754935,
          172834,
          2596218,
          24213133,
          2248632,
          256983,
          198686688,
          196796269,
          194895996,
          19297929,
          19126637,
          18912412,
          186917361,
          184738458,
          182482149,
          1815121,
          1777567,
          175287587,
          null,
          null,
          null,
          null,
          null,
          null,
          null,
          null,
          null,
          null,
          null,
          null,
          null,
          null,
          null,
          null,
          7177991,
          7223938,
          7265115,
          735888,
          7348328,
          7395599,
          7444443,
          7492561,
          7545338,
          76122,
          7658972,
          771686,
          7775327,
          7837161,
          89142,
          817172,
          1811624,
          17585977,
          1772723,
          16571216,
          168194,
          1565217,
          1514199,
          14689726,
          1425221,
          13829177,
          1342193,
          133569,
          12654621,
          122931,
          11944587,
          1167942,
          119927,
          989179,
          96186,
          931971,
          94358,
          876693,
          848931,
          8212264,
          7939573,
          7675338,
          7423289,
          7182451,
          6953113,
          6741569,
          6555829,
          6476,
          null,
          null,
          null,
          null,
          null,
          null,
          null,
          null,
          null,
          null,
          null,
          null,
          null,
          null,
          null,
          null,
          532913,
          526437,
          5216,
          513979,
          5867,
          52384,
          496963,
          491723,
          486438,
          48795,
          474567,
          467664,
          46147,
          45216,
          443716,
          43579,
          15517635,
          152779,
          1522692,
          14776866,
          14537886,
          143874,
          14928,
          138859,
          13676693,
          13474489,
          132721,
          1363377,
          12853124,
          12634729,
          1242473,
          12152354,
          22834522,
          2223994,
          21655715,
          2182383,
          252447,
          1997495,
          19432541,
          18978,
          18395389,
          17899562,
          1742795,
          1695981,
          16513822,
          1684886,
          15671927,
          15274234,
          3584861,
          35544564,
          35155451,
          3475545,
          3434278,
          345274,
          33628571,
          33245773,
          32887928,
          325755,
          32312,
          31995,
          31676,
          31362,
          31819,
          37697,
          45461,
          4515392,
          4499653,
          449416,
          4476153,
          4448525,
          44423,
          4345386,
          42758,
          421758,
          412791,
          45536,
          3981665,
          397612,
          383223,
          3754986,
          149413,
          13569438,
          13133589,
          1275135,
          12288651,
          1188722,
          1152786,
          11133861,
          177578,
          1421597,
          1679,
          97143,
          935321,
          91689,
          866312,
          8342559,
          17762681,
          17613798,
          17462982,
          1739746,
          17153357,
          16993354,
          16829442,
          16661942,
          16491687,
          16319792,
          1614764,
          15973778,
          15799542,
          15623635,
          15444969,
          15262754,
          137122,
          136427,
          135738,
          135695,
          134413,
          133775,
          133126,
          1324655,
          1317885,
          13112,
          13372,
          129675,
          12884,
          1284,
          127185,
          1262645,
          48228697,
          47791911,
          47342981,
          46881475,
          4646646,
          4591897,
          45416181,
          4491544,
          44374572,
          43835722,
          43285634,
          42724163,
          42152151,
          41572491,
          498899,
          443958,
          777424,
          759385,
          7415,
          723868,
          76569,
          689692,
          673252,
          657229,
          64162,
          626425,
          611627,
          597228,
          583211,
          569479,
          555888,
          542357,
          null,
          null,
          null,
          null,
          null,
          null,
          null,
          null,
          null,
          null,
          null,
          null,
          null,
          null,
          null,
          null,
          null,
          487852,
          4757575,
          47641,
          4654122,
          46474,
          454528,
          4488263,
          442958,
          4369469,
          438794,
          4247841,
          418738,
          4125971,
          46324,
          3996798,
          3925443,
          42364,
          4238389,
          4255689,
          4267558,
          428622,
          4417781,
          442978,
          443458,
          4436,
          444,
          4442,
          4439,
          444,
          444,
          444,
          4426,
          null,
          null,
          null,
          null,
          null,
          null,
          null,
          null,
          null,
          null,
          null,
          null,
          null,
          null,
          null,
          null,
          116985,
          115239,
          1143896,
          113562,
          1124835,
          111267,
          19876,
          181563,
          163712,
          14559,
          127658,
          1141,
          993563,
          976966,
          96282,
          943286,
          null,
          null,
          null,
          null,
          null,
          null,
          null,
          null,
          null,
          null,
          null,
          null,
          null,
          null,
          null,
          null,
          null,
          null,
          null,
          null,
          null,
          null,
          null,
          null,
          null,
          null,
          null,
          null,
          null,
          null,
          null,
          null,
          null,
          null,
          null,
          null,
          null,
          null,
          null,
          null,
          null,
          null,
          null,
          null,
          null,
          null,
          null,
          null,
          5683483,
          5643475,
          5614932,
          5591572,
          557572,
          5547683,
          552395,
          5493621,
          5461438,
          5437272,
          5419432,
          544523,
          539574,
          5375931,
          5358783,
          5339616,
          927414,
          912164,
          896688,
          881185,
          865937,
          851146,
          83684,
          822934,
          8942,
          79628,
          783254,
          77752,
          758615,
          746221,
          732711,
          717584,
          null,
          1528394,
          145844,
          1281296,
          115495,
          12795,
          9897985,
          9767758,
          963652,
          954353,
          9371338,
          9237566,
          912998,
          896776,
          8832285,
          8697126,
          8562622,
          16144368,
          1593112,
          15661547,
          15419666,
          15177355,
          1493469,
          14691275,
          14447562,
          1425453,
          1396748,
          13735233,
          1359647,
          1328961,
          13726,
          12852755,
          12628596,
          null,
          null,
          null,
          null,
          null,
          null,
          null,
          null,
          null,
          null,
          null,
          null,
          null,
          null,
          null,
          null,
          6312478,
          6281189,
          625777,
          6221246,
          619256,
          6164626,
          6137276,
          61131,
          683475,
          656478,
          628961,
          6775,
          5971535,
          59433,
          595962,
          5867626,
          1175389,
          1129424,
          183746,
          138593,
          99429,
          95114,
          99111,
          868418,
          829327,
          792217,
          757317,
          724817,
          694611,
          66647,
          639762,
          614323,
          null,
          null,
          null,
          null,
          447469,
          43984,
          431334,
          4232636,
          4153332,
          466648,
          39697,
          3858623,
          3738265,
          3614639,
          3497124,
          339281,
          131547,
          1314545,
          1317997,
          1322696,
          1327439,
          1331475,
          1334515,
          13379,
          13468,
          134681,
          1354775,
          136255,
          13772,
          137935,
          1388115,
          1396985,
          9987333,
          97366774,
          94887724,
          92444183,
          946756,
          877267,
          85416253,
          83184892,
          8149,
          7885689,
          7672783,
          7462445,
          72545144,
          7497192,
          68492257,
          66537331,
          892149,
          88586,
          879715,
          873596,
          86786,
          85995,
          851967,
          84334,
          834812,
          827411,
          821817,
          818354,
          816628,
          815691,
          814218,
          811223,
          5479531,
          5461512,
          5438972,
          5413971,
          5388272,
          5363352,
          5338871,
          5313399,
          528872,
          5266268,
          524696,
          5228172,
          521314,
          52598,
          51888,
          517629,
          6662468,
          66331957,
          6599857,
          6565979,
          65342776,
          6527512,
          647744,
          6437499,
          6416229,
          63621376,
          63179356,
          6274897,
          62244884,
          6185267,
          61357431,
          6912498,
          193175,
          1875713,
          1817271,
          1756817,
          169711,
          16421,
          1586754,
          1536411,
          1489193,
          1444844,
          143126,
          136425,
          1328146,
          129449,
          1262259,
          1231122,
          null,
          null,
          null,
          null,
          null,
          null,
          null,
          null,
          null,
          null,
          null,
          null,
          null,
          null,
          null,
          null,
          37171,
          3727,
          3776,
          3825,
          3875,
          3926,
          3978,
          43,
          482,
          4136,
          419,
          4245,
          431,
          4357,
          43864,
          44183,
          81686611,
          89825,
          864565,
          8425823,
          8274983,
          8177693,
          819237,
          821197,
          82266372,
          82376451,
          82469422,
          8251626,
          82534176,
          82488495,
          82349925,
          8221158,
          27582821,
          26962563,
          26346251,
          2573349,
          25121796,
          2451214,
          2393831,
          2329864,
          227212,
          22113425,
          215429,
          2986536,
          2446782,
          19924522,
          1942165,
          18938762,
          182883,
          1892413,
          1965211,
          114511,
          1114899,
          11121341,
          111717,
          1177841,
          1148473,
          112362,
          1987314,
          1955141,
          19287,
          19222,
          1862132,
          18588,
          null,
          null,
          null,
          null,
          null,
          null,
          null,
          null,
          null,
          null,
          null,
          null,
          null,
          null,
          null,
          null,
          16252429,
          15923559,
          15596214,
          1527156,
          14948919,
          1463417,
          1431628,
          146366,
          137286,
          133978,
          139628,
          12796925,
          125478,
          1228848,
          11924946,
          1165743,
          1291533,
          118559,
          11536615,
          11281469,
          113517,
          179417,
          1556524,
          1323142,
          196727,
          9881428,
          9679745,
          949229,
          939848,
          9137345,
          8971139,
          888546,
          177526,
          1725744,
          1681495,
          1638139,
          1596154,
          155588,
          1517448,
          148841,
          1445958,
          1412669,
          138838,
          135345,
          132122,
          1293523,
          1267512,
          1243229,
          768514,
          763393,
          75881,
          75391,
          7491,
          746556,
          745693,
          746314,
          747869,
          74961,
          75946,
          751652,
          751857,
          751884,
          752263,
          75331,
          171161,
          1572466,
          1431776,
          128921,
          114554,
          9999617,
          985287,
          97529,
          9556889,
          949457,
          926344,
          9119178,
          8976552,
          8834733,
          8692567,
          85492,
          896829,
          889216,
          8657785,
          855646,
          83516,
          8194778,
          83521,
          7872658,
          777972,
          754146,
          737343,
          724153,
          733821,
          6863157,
          669361,
          6524283,
          984328,
          9866468,
          989382,
          992362,
          9971727,
          123,
          12265,
          138188,
          15578,
          17137,
          18765,
          117146,
          1129552,
          115868,
          1187576,
          121971,
          33815,
          327386,
          323764,
          32716,
          31914,
          31841,
          318499,
          317414,
          311566,
          33782,
          296734,
          29274,
          289521,
          287523,
          284968,
          28125,
          1395398,
          1293859294,
          127856227,
          126365852,
          124723629,
          12398691,
          121427132,
          119714696,
          1179681239,
          1161977719,
          1144118674,
          1126135777,
          11827848,
          18987112,
          171477855,
          1535912,
          258162113,
          255131116,
          25232263,
          248883232,
          24577511,
          242524123,
          23934478,
          236159276,
          232989141,
          22983822,
          22671273,
          223614649,
          22545214,
          2175859,
          2145652,
          21154429,
          null,
          null,
          null,
          null,
          null,
          null,
          null,
          null,
          null,
          null,
          null,
          null,
          null,
          null,
          null,
          null,
          36115649,
          3568,
          33883145,
          32776571,
          3172753,
          376271,
          29894652,
          29111417,
          2839433,
          27697912,
          278426,
          2631669,
          25627626,
          24939299,
          24251649,
          23565413,
          4676835,
          4617225,
          4598294,
          4586897,
          4576794,
          456155,
          4535375,
          4489544,
          4398942,
          4273591,
          4159914,
          47262,
          3996521,
          3931947,
          3866243,
          385174,
          8381,
          82157,
          8595,
          7915,
          77658,
          76236,
          74856,
          7388,
          7181,
          7537,
          6931,
          689,
          66897,
          657,
          6439,
          6289,
          673582,
          678914,
          6233948,
          59539717,
          59379449,
          59277417,
          5995365,
          58826731,
          5843831,
          58143979,
          57969484,
          57685327,
          5731323,
          57597,
          569741,
          5694218,
          2871934,
          286287,
          285187,
          284992,
          2829493,
          281721,
          28482,
          279122,
          2775467,
          276279,
          2744673,
          2728777,
          2712511,
          2695446,
          267711,
          2656864,
          127141,
          127276,
          127445,
          127629,
          127833,
          1287,
          12847,
          12863,
          1281,
          127854,
          127773,
          127761,
          127718,
          127445,
          127149,
          126843,
          915932,
          88936,
          8413464,
          7992573,
          7574943,
          718239,
          6821116,
          6489822,
          6193191,
          5934232,
          5714111,
          5535595,
          5396774,
          5287488,
          5193482,
          51313,
          17544126,
          17289224,
          1735275,
          16791425,
          165566,
          16321581,
          169271,
          15674,
          15484192,
          153884,
          1514729,
          1512985,
          149918,
          14858948,
          14858335,
          14883626,
          47236259,
          462425,
          44826849,
          43646629,
          42486839,
          4135152,
          423724,
          39148416,
          388599,
          37525,
          3648288,
          3574931,
          3413852,
          332149,
          32321482,
          3145483,
          11247,
          11458,
          18535,
          16613,
          14656,
          12652,
          1568,
          9844,
          96311,
          9426,
          92325,
          9542,
          88895,
          87343,
          85858,
          8446,
          null,
          null,
          null,
          null,
          null,
          null,
          null,
          null,
          null,
          null,
          null,
          null,
          null,
          null,
          null,
          null,
          null,
          null,
          null,
          null,
          null,
          null,
          null,
          null,
          null,
          null,
          null,
          null,
          null,
          null,
          null,
          null,
          null,
          null,
          null,
          null,
          null,
          null,
          null,
          null,
          null,
          null,
          null,
          null,
          null,
          null,
          null,
          null,
          1977527,
          1993782,
          212647,
          234319,
          25979,
          297555,
          2141669,
          2177322,
          22325,
          2218357,
          2238799,
          2263122,
          2287955,
          231173,
          233717,
          236755,
          5851479,
          563279,
          527612,
          491644,
          4588368,
          4337141,
          4183156,
          411147,
          486466,
          45735,
          3986852,
          3863267,
          371464,
          3522837,
          3359859,
          3235366,
          2174645,
          2145785,
          2117361,
          289928,
          264166,
          24551,
          21929,
          199993,
          1982287,
          1965662,
          1949543,
          1933728,
          191897,
          192312,
          1885955,
          1868699,
          4499621,
          439737,
          4286291,
          4181563,
          47167,
          3948125,
          3811528,
          3662993,
          3512932,
          3375838,
          326123,
          3176414,
          3116233,
          362863,
          2991132,
          2884522,
          null,
          null,
          null,
          null,
          null,
          null,
          null,
          null,
          null,
          null,
          null,
          null,
          null,
          null,
          null,
          null,
          29491,
          2932367,
          2957689,
          2987773,
          328115,
          397282,
          3162916,
          3198231,
          3231294,
          326999,
          3322528,
          337775,
          3415213,
          344367,
          347818,
          3499536,
          56964,
          556319,
          54336,
          53946,
          518347,
          56953,
          497783,
          48865,
          479993,
          472637,
          465158,
          45895,
          45163,
          446175,
          441525,
          4363,
          2423488,
          2358981,
          22961146,
          22346573,
          21743949,
          2115164,
          2569121,
          19996469,
          19433523,
          1888268,
          18336724,
          1782997,
          17279141,
          16765117,
          1626932,
          1576686,
          1757367,
          1768838,
          16577147,
          169735,
          15627618,
          1516795,
          1471462,
          14271234,
          1384969,
          13429262,
          1339711,
          1267638,
          12336687,
          1213711,
          11695863,
          11376172,
          3723155,
          322817,
          2976724,
          2917456,
          28635128,
          28112289,
          2765383,
          2711169,
          26625845,
          26143566,
          25659393,
          2517419,
          2468873,
          24198811,
          2369897,
          2318568,
          49163,
          41,
          393,
          385,
          377,
          367,
          36,
          362,
          349,
          333,
          321,
          312,
          34,
          297,
          292,
          286,
          1746795,
          16962846,
          16477818,
          16667,
          1554989,
          157585,
          1466597,
          14138216,
          1367566,
          1322764,
          12798763,
          1239196,
          125128,
          11638929,
          11293258,
          196769,
          431874,
          427364,
          423374,
          419455,
          416268,
          41458,
          412477,
          49379,
          46724,
          4538,
          43834,
          41268,
          398582,
          395969,
          39328,
          3987,
          null,
          4182341,
          46392,
          394617,
          383239,
          3717672,
          369543,
          356288,
          347541,
          3312665,
          322653,
          31372,
          342823,
          2957117,
          2873228,
          279729,
          279359,
          126265,
          126934,
          1258653,
          1255882,
          125244,
          1254,
          1247429,
          1244121,
          123963,
          1233996,
          1228254,
          12213,
          121337,
          124621,
          1196287,
          1186873,
          12589949,
          1242216,
          122535969,
          1282837,
          119917,
          117318941,
          11555228,
          11366189,
          111836346,
          1192378,
          18472228,
          16995583,
          1564453,
          1435568,
          136768,
          11719673,
          null,
          null,
          null,
          null,
          null,
          null,
          null,
          null,
          null,
          null,
          null,
          null,
          null,
          null,
          null,
          null,
          null,
          2976877,
          2923896,
          286917,
          2814226,
          2761516,
          271265,
          2668289,
          2628131,
          259167,
          255812,
          2526446,
          2496832,
          2469286,
          2443659,
          2419776,
          2397436,
          622159,
          62181,
          62127,
          6261,
          6279,
          619428,
          618294,
          616969,
          615875,
          61525,
          614261,
          613353,
          612267,
          69828,
          67389,
          6495,
          3483322,
          3431882,
          33824769,
          33333789,
          32858823,
          3249639,
          31989897,
          31596855,
          31225881,
          3869346,
          35217,
          3179285,
          29843937,
          29512368,
          29181832,
          28849621,
          281691,
          27212382,
          26434372,
          2567666,
          249395,
          2422145,
          2352463,
          22846758,
          22188387,
          21547463,
          29237,
          231275,
          19716598,
          19139658,
          18588758,
          1867687,
          5243669,
          51924182,
          51448196,
          5986514,
          555331,
          5155896,
          49869,
          49479752,
          49171586,
          48846474,
          48482614,
          487377,
          47624894,
          471422,
          46627994,
          4695462,
          2425561,
          237992,
          231652,
          2263934,
          2215621,
          217317,
          21374,
          216375,
          279915,
          255734,
          232196,
          29228,
          1986535,
          1962147,
          1933596,
          1899257,
          null,
          28656282,
          28323241,
          2798531,
          27649925,
          27327147,
          2723137,
          2674113,
          26475859,
          26214847,
          2594618,
          2564287,
          2539449,
          2495623,
          24566342,
          24161777,
          2374911,
          16939923,
          168658,
          1684432,
          16754962,
          1669374,
          16615394,
          1653388,
          16445593,
          16381696,
          1634611,
          16319868,
          16281779,
          1622532,
          16148929,
          164618,
          15925513,
          null,
          null,
          null,
          null,
          null,
          null,
          null,
          null,
          null,
          null,
          null,
          null,
          null,
          null,
          null,
          null,
          68235,
          613997,
          5945747,
          587718,
          58782,
          5737723,
          5666581,
          559456,
          552216,
          545211,
          5379328,
          53973,
          524879,
          5171734,
          5175,
          526796,
          19896965,
          19148219,
          18426372,
          17731634,
          1764636,
          16425578,
          15813913,
          15228525,
          14668338,
          1413264,
          13618449,
          1312712,
          1265687,
          12262,
          11771976,
          11352973,
          181181744,
          1764652,
          17182933,
          167297284,
          16287776,
          158578261,
          15442181,
          1534739,
          14641724,
          14261494,
          138939478,
          135393616,
          131972533,
          12866671,
          125463434,
          1223529,
          null,
          518867,
          5137232,
          579623,
          518573,
          495388,
          4889252,
          4828726,
          4768212,
          479153,
          466677,
          4623291,
          459191,
          4564855,
          4538159,
          4513751,
          449967,
          null,
          null,
          null,
          null,
          null,
          null,
          null,
          null,
          null,
          null,
          null,
          null,
          null,
          null,
          null,
          null,
          18938513,
          185546257,
          181712595,
          177911533,
          174184265,
          1756182,
          1674958,
          16364463,
          16332974,
          15793993,
          15399667,
          15783,
          1477341,
          144654143,
          14161437,
          138523285,
          292,
          3969249,
          393986,
          3838462,
          3772938,
          377782,
          3643222,
          3579385,
          3516268,
          345387,
          339195,
          333465,
          3269541,
          329174,
          3149265,
          389684,
          33347,
          7919825,
          7755785,
          7592865,
          743836,
          7269348,
          718239,
          6947447,
          6787187,
          6627922,
          647272,
          631479,
          6161517,
          61724,
          5862316,
          5716152,
          5572222,
          6639119,
          6552584,
          646574,
          6379219,
          6293783,
          629877,
          6127837,
          647117,
          5966159,
          5882796,
          5795494,
          57374,
          56795,
          558611,
          546624,
          5327,
          31376671,
          3973354,
          3565716,
          3158966,
          29759989,
          29373646,
          29157,
          2864198,
          28292724,
          27949944,
          276141,
          27273194,
          26937738,
          2661467,
          26261363,
          25914879,
          11716359,
          112249,
          9848132,
          96866642,
          9527794,
          93726624,
          9222879,
          9751864,
          8929349,
          8789419,
          86274237,
          84678493,
          8331954,
          813526,
          79665315,
          77991569,
          37986412,
          3811735,
          384196,
          3863164,
          3863255,
          3842794,
          3815163,
          38125759,
          381256,
          38141267,
          38165445,
          38182222,
          382457,
          3823364,
          3824876,
          38258629,
          135876,
          14162,
          1457295,
          1514844,
          155756,
          15731,
          1568247,
          1558177,
          1542964,
          1522288,
          15333,
          1483861,
          1458821,
          1419631,
          1362722,
          1289898,
          null,
          null,
          null,
          null,
          null,
          null,
          null,
          null,
          null,
          null,
          null,
          null,
          null,
          null,
          null,
          null,
          null,
          null,
          null,
          null,
          null,
          null,
          null,
          null,
          null,
          null,
          null,
          null,
          null,
          null,
          null,
          null,
          null,
          null,
          null,
          null,
          null,
          null,
          null,
          null,
          null,
          null,
          null,
          null,
          null,
          null,
          null,
          null,
          19815481,
          1998979,
          19983693,
          25835,
          2147528,
          2246871,
          2367487,
          2537875,
          2882982,
          2119376,
          21319685,
          21451748,
          21574326,
          2173496,
          2213197,
          22442971,
          1449687,
          143819666,
          14356911,
          14321676,
          14296868,
          142849449,
          142785342,
          14274235,
          1428588,
          14349528,
          143518523,
          1446754,
          144648257,
          1453646,
          14597683,
          146596557,
          11629553,
          11345357,
          1165151,
          1788853,
          151671,
          1246842,
          9977446,
          978169,
          944742,
          92658,
          8991735,
          8818438,
          868346,
          853625,
          832946,
          82573,
          null,
          null,
          null,
          null,
          null,
          null,
          null,
          null,
          null,
          null,
          null,
          null,
          null,
          null,
          null,
          null,
          null,
          null,
          null,
          null,
          null,
          null,
          null,
          null,
          null,
          null,
          null,
          null,
          null,
          null,
          null,
          null,
          null,
          193759,
          19229,
          19757,
          189194,
          187665,
          18625,
          184826,
          183526,
          182286,
          18194,
          179929,
          178781,
          177662,
          176582,
          175566,
          17461,
          null,
          195553,
          191266,
          18745,
          182889,
          1788,
          174776,
          17813,
          166913,
          16311,
          159328,
          15563,
          151969,
          148372,
          144889,
          141622,
          13866,
          null,
          null,
          null,
          null,
          null,
          null,
          null,
          null,
          null,
          null,
          null,
          null,
          null,
          null,
          null,
          null,
          14976994,
          14546111,
          141232,
          1373513,
          13391,
          12916229,
          1255917,
          1223957,
          11873557,
          11556763,
          11251266,
          1955944,
          16799,
          1396861,
          1134497,
          988452,
          795383,
          713576,
          7164132,
          719977,
          723499,
          7291436,
          73287,
          735222,
          7381579,
          7411569,
          744769,
          7463157,
          748591,
          7496522,
          753433,
          7516346,
          93419,
          91359,
          89949,
          8833,
          87441,
          8977,
          87298,
          86956,
          8533,
          846,
          82858,
          82475,
          82781,
          83723,
          8122,
          81131,
          723725,
          779162,
          692279,
          676613,
          6611692,
          645872,
          63126,
          6165372,
          615417,
          5848692,
          5658379,
          5439695,
          5199549,
          4957216,
          4739147,
          4564297,
          null,
          null,
          null,
          null,
          null,
          null,
          null,
          null,
          null,
          null,
          null,
          null,
          null,
          null,
          null,
          null,
          null,
          null,
          null,
          null,
          null,
          null,
          null,
          null,
          null,
          null,
          null,
          null,
          null,
          null,
          null,
          null,
          263531,
          26198,
          259953,
          257159,
          252843,
          248583,
          239669,
          221316,
          218122,
          26868,
          2474,
          199712,
          1995733,
          199453,
          19926,
          1988925,
          587482,
          57554,
          563513,
          551531,
          539614,
          52779,
          51679,
          54477,
          49294,
          481422,
          469885,
          458324,
          446769,
          435262,
          423853,
          41269,
          null,
          null,
          null,
          null,
          null,
          null,
          null,
          null,
          null,
          null,
          null,
          null,
          null,
          null,
          null,
          null,
          5511976.68,
          54146734.74,
          53311955.61,
          5256515.8,
          51729345.36,
          5979432.36,
          5255813.11,
          49557573.3,
          48883844.99,
          4823384.48,
          476667.24,
          4717.99,
          46418193.9,
          45855482.88,
          45312937,
          44896856,
          11882136,
          1153971,
          1117749,
          1818258,
          1448857,
          167192,
          967667,
          9263136,
          88568,
          8468152,
          818877,
          7787655,
          751642,
          7237276,
          6974442,
          67656,
          46447697,
          4648882,
          466245,
          4677355,
          46742697,
          46576897,
          46362946,
          4595416,
          4522683,
          44397319,
          43653155,
          42921895,
          42187645,
          41431558,
          485412,
          4567864,
          2966,
          2771,
          2585,
          2425,
          2271,
          2119,
          19968,
          19817,
          19668,
          1952,
          19373,
          19228,
          1983,
          18939,
          18797,
          18655,
          3864783,
          37737913,
          36849918,
          3599192,
          35167314,
          34385963,
          3365619,
          32955496,
          32282526,
          316764,
          3911914,
          3186341,
          29435944,
          28679565,
          279455,
          2725535,
          55328,
          547928,
          54254,
          53777,
          531589,
          52613,
          52619,
          515148,
          5975,
          5437,
          498946,
          49363,
          488332,
          48344,
          47774,
          47239,
          131911,
          129597,
          1271456,
          1248158,
          1225258,
          122843,
          118675,
          1158897,
          1138434,
          112514,
          115873,
          19553,
          187392,
          1893,
          172927,
          161468,
          9799186,
          969611,
          96379,
          9519374,
          9449213,
          9378126,
          9298515,
          9219637,
          914892,
          9855,
          929572,
          8993531,
          8958229,
          8924958,
          889596,
          887219,
          8282396,
          8188649,
          889346,
          7996861,
          7912398,
          782499,
          7743831,
          7647675,
          7551117,
          7483934,
          7437115,
          7389625,
          73391,
          7284753,
          7229854,
          718425,
          18734987,
          19239,
          1989141,
          24271,
          2863993,
          2118834,
          2824893,
          2325443,
          1963286,
          18914977,
          18294611,
          1786638,
          17415266,
          178791,
          16766899,
          1641848,
          8548651,
          8362745,
          817789,
          799562,
          7815949,
          764163,
          7472819,
          739728,
          7152385,
          7557,
          6854176,
          6712841,
          6576877,
          6447688,
          6327125,
          621625,
          686576,
          68416772,
          6814365,
          67843979,
          675313,
          672888,
          66881867,
          6654576,
          66195615,
          65824164,
          6542547,
          652231,
          64554952,
          6473164,
          63543322,
          6295821,
          null,
          null,
          null,
          null,
          null,
          null,
          null,
          null,
          null,
          null,
          null,
          null,
          null,
          null,
          null,
          null,
          124977,
          1212814,
          1184366,
          115676,
          1131523,
          119591,
          19221,
          17811,
          164973,
          148621,
          126484,
          996698,
          96852,
          923825,
          892531,
          87167,
          741682,
          7228915,
          742948,
          6859482,
          6679282,
          652952,
          633472,
          6161796,
          5997385,
          5837792,
          5683268,
          5534598,
          539141,
          5251472,
          511177,
          497367,
          16364,
          15782,
          15328,
          14951,
          14577,
          14137,
          1364,
          135,
          12357,
          11689,
          1141,
          146,
          99789,
          99184,
          98611,
          9882,
          13692,
          1354493,
          1348248,
          1341588,
          1334788,
          13281,
          1321618,
          1315372,
          13926,
          133144,
          1296934,
          129535,
          128452,
          1277837,
          127238,
          1267984,
          11273661,
          1114398,
          1114558,
          1886668,
          1761467,
          1639931,
          1521834,
          147336,
          129887,
          1196136,
          112482,
          11761,
          9939678,
          9864326,
          978571,
          9699197,
          78271472,
          773628,
          75787333,
          74569867,
          7349455,
          72326914,
          71339185,
          74432,
          69597281,
          6876345,
          679346,
          677855,
          668583,
          6514354,
          64191474,
          6324121,
          5565284,
          5466241,
          5366277,
          5267839,
          517461,
          58721,
          5795,
          4935762,
          487137,
          48115,
          4754641,
          473398,
          4655741,
          4612,
          45648,
          4516131,
          1819,
          414487,
          38833338,
          37553726,
          3636796,
          3593648,
          33915133,
          32771895,
          31663896,
          359487,
          2955662,
          2854394,
          27568436,
          2662482,
          2571848,
          24854892,
          2439274,
          4515429,
          45271947,
          454896,
          455933,
          45761,
          45877,
          46533,
          462582,
          465935,
          4678775,
          471515,
          474516,
          4781295,
          48225,
          48683865,
          49175848,
          null,
          null,
          null,
          null,
          null,
          null,
          null,
          null,
          null,
          null,
          null,
          null,
          null,
          null,
          null,
          null,
          null,
          null,
          null,
          null,
          null,
          null,
          null,
          null,
          null,
          null,
          null,
          null,
          null,
          null,
          null,
          null,
          null,
          null,
          null,
          null,
          null,
          null,
          null,
          null,
          null,
          null,
          null,
          null,
          null,
          null,
          null,
          null,
          null,
          null,
          null,
          null,
          null,
          null,
          null,
          null,
          null,
          null,
          null,
          null,
          null,
          null,
          null,
          null,
          3431552,
          3419546,
          3485,
          3396777,
          3385624,
          3374415,
          3362755,
          335824,
          3339741,
          333143,
          3325612,
          332496,
          3325637,
          3327773,
          332713,
          3321245,
          312989,
          37577,
          32432,
          297745,
          293394,
          285624,
          277674,
          27328,
          26868,
          2648825,
          26167,
          2586435,
          2556765,
          2527185,
          2496445,
          24654,
          26463,
          25885,
          253142,
          247485,
          241871,
          236295,
          23785,
          22534,
          219953,
          214634,
          2937,
          24143,
          198964,
          193956,
          18929,
          18563,
          null,
          null,
          null,
          null,
          null,
          null,
          null,
          null,
          null,
          null,
          null,
          null,
          null,
          null,
          null,
          null,
          null,
          null,
          null,
          null,
          null,
          null,
          null,
          null,
          null,
          null,
          null,
          null,
          null,
          null,
          null,
          null,
          null,
          null,
          null,
          null,
          null,
          null,
          null,
          null,
          null,
          null,
          null,
          null,
          null,
          null,
          null,
          null,
          161587,
          1562974,
          1515321,
          14699937,
          14264756,
          138533,
          13456417,
          1382517,
          12725974,
          12383446,
          1252156,
          11731746,
          11421984,
          111249,
          1824125,
          1531221,
          15777451,
          15411675,
          155456,
          1471826,
          14386649,
          1486317,
          1381599,
          13558469,
          1332999,
          13124267,
          129432,
          12777511,
          12633897,
          125525,
          12366165,
          12222251
         ]
        }
       ],
       "layout": {
        "legend": {
         "tracegroupgap": 0
        },
        "template": {
         "data": {
          "bar": [
           {
            "error_x": {
             "color": "#2a3f5f"
            },
            "error_y": {
             "color": "#2a3f5f"
            },
            "marker": {
             "line": {
              "color": "#E5ECF6",
              "width": 0.5
             },
             "pattern": {
              "fillmode": "overlay",
              "size": 10,
              "solidity": 0.2
             }
            },
            "type": "bar"
           }
          ],
          "barpolar": [
           {
            "marker": {
             "line": {
              "color": "#E5ECF6",
              "width": 0.5
             },
             "pattern": {
              "fillmode": "overlay",
              "size": 10,
              "solidity": 0.2
             }
            },
            "type": "barpolar"
           }
          ],
          "carpet": [
           {
            "aaxis": {
             "endlinecolor": "#2a3f5f",
             "gridcolor": "white",
             "linecolor": "white",
             "minorgridcolor": "white",
             "startlinecolor": "#2a3f5f"
            },
            "baxis": {
             "endlinecolor": "#2a3f5f",
             "gridcolor": "white",
             "linecolor": "white",
             "minorgridcolor": "white",
             "startlinecolor": "#2a3f5f"
            },
            "type": "carpet"
           }
          ],
          "choropleth": [
           {
            "colorbar": {
             "outlinewidth": 0,
             "ticks": ""
            },
            "type": "choropleth"
           }
          ],
          "contour": [
           {
            "colorbar": {
             "outlinewidth": 0,
             "ticks": ""
            },
            "colorscale": [
             [
              0,
              "#0d0887"
             ],
             [
              0.1111111111111111,
              "#46039f"
             ],
             [
              0.2222222222222222,
              "#7201a8"
             ],
             [
              0.3333333333333333,
              "#9c179e"
             ],
             [
              0.4444444444444444,
              "#bd3786"
             ],
             [
              0.5555555555555556,
              "#d8576b"
             ],
             [
              0.6666666666666666,
              "#ed7953"
             ],
             [
              0.7777777777777778,
              "#fb9f3a"
             ],
             [
              0.8888888888888888,
              "#fdca26"
             ],
             [
              1,
              "#f0f921"
             ]
            ],
            "type": "contour"
           }
          ],
          "contourcarpet": [
           {
            "colorbar": {
             "outlinewidth": 0,
             "ticks": ""
            },
            "type": "contourcarpet"
           }
          ],
          "heatmap": [
           {
            "colorbar": {
             "outlinewidth": 0,
             "ticks": ""
            },
            "colorscale": [
             [
              0,
              "#0d0887"
             ],
             [
              0.1111111111111111,
              "#46039f"
             ],
             [
              0.2222222222222222,
              "#7201a8"
             ],
             [
              0.3333333333333333,
              "#9c179e"
             ],
             [
              0.4444444444444444,
              "#bd3786"
             ],
             [
              0.5555555555555556,
              "#d8576b"
             ],
             [
              0.6666666666666666,
              "#ed7953"
             ],
             [
              0.7777777777777778,
              "#fb9f3a"
             ],
             [
              0.8888888888888888,
              "#fdca26"
             ],
             [
              1,
              "#f0f921"
             ]
            ],
            "type": "heatmap"
           }
          ],
          "heatmapgl": [
           {
            "colorbar": {
             "outlinewidth": 0,
             "ticks": ""
            },
            "colorscale": [
             [
              0,
              "#0d0887"
             ],
             [
              0.1111111111111111,
              "#46039f"
             ],
             [
              0.2222222222222222,
              "#7201a8"
             ],
             [
              0.3333333333333333,
              "#9c179e"
             ],
             [
              0.4444444444444444,
              "#bd3786"
             ],
             [
              0.5555555555555556,
              "#d8576b"
             ],
             [
              0.6666666666666666,
              "#ed7953"
             ],
             [
              0.7777777777777778,
              "#fb9f3a"
             ],
             [
              0.8888888888888888,
              "#fdca26"
             ],
             [
              1,
              "#f0f921"
             ]
            ],
            "type": "heatmapgl"
           }
          ],
          "histogram": [
           {
            "marker": {
             "pattern": {
              "fillmode": "overlay",
              "size": 10,
              "solidity": 0.2
             }
            },
            "type": "histogram"
           }
          ],
          "histogram2d": [
           {
            "colorbar": {
             "outlinewidth": 0,
             "ticks": ""
            },
            "colorscale": [
             [
              0,
              "#0d0887"
             ],
             [
              0.1111111111111111,
              "#46039f"
             ],
             [
              0.2222222222222222,
              "#7201a8"
             ],
             [
              0.3333333333333333,
              "#9c179e"
             ],
             [
              0.4444444444444444,
              "#bd3786"
             ],
             [
              0.5555555555555556,
              "#d8576b"
             ],
             [
              0.6666666666666666,
              "#ed7953"
             ],
             [
              0.7777777777777778,
              "#fb9f3a"
             ],
             [
              0.8888888888888888,
              "#fdca26"
             ],
             [
              1,
              "#f0f921"
             ]
            ],
            "type": "histogram2d"
           }
          ],
          "histogram2dcontour": [
           {
            "colorbar": {
             "outlinewidth": 0,
             "ticks": ""
            },
            "colorscale": [
             [
              0,
              "#0d0887"
             ],
             [
              0.1111111111111111,
              "#46039f"
             ],
             [
              0.2222222222222222,
              "#7201a8"
             ],
             [
              0.3333333333333333,
              "#9c179e"
             ],
             [
              0.4444444444444444,
              "#bd3786"
             ],
             [
              0.5555555555555556,
              "#d8576b"
             ],
             [
              0.6666666666666666,
              "#ed7953"
             ],
             [
              0.7777777777777778,
              "#fb9f3a"
             ],
             [
              0.8888888888888888,
              "#fdca26"
             ],
             [
              1,
              "#f0f921"
             ]
            ],
            "type": "histogram2dcontour"
           }
          ],
          "mesh3d": [
           {
            "colorbar": {
             "outlinewidth": 0,
             "ticks": ""
            },
            "type": "mesh3d"
           }
          ],
          "parcoords": [
           {
            "line": {
             "colorbar": {
              "outlinewidth": 0,
              "ticks": ""
             }
            },
            "type": "parcoords"
           }
          ],
          "pie": [
           {
            "automargin": true,
            "type": "pie"
           }
          ],
          "scatter": [
           {
            "fillpattern": {
             "fillmode": "overlay",
             "size": 10,
             "solidity": 0.2
            },
            "type": "scatter"
           }
          ],
          "scatter3d": [
           {
            "line": {
             "colorbar": {
              "outlinewidth": 0,
              "ticks": ""
             }
            },
            "marker": {
             "colorbar": {
              "outlinewidth": 0,
              "ticks": ""
             }
            },
            "type": "scatter3d"
           }
          ],
          "scattercarpet": [
           {
            "marker": {
             "colorbar": {
              "outlinewidth": 0,
              "ticks": ""
             }
            },
            "type": "scattercarpet"
           }
          ],
          "scattergeo": [
           {
            "marker": {
             "colorbar": {
              "outlinewidth": 0,
              "ticks": ""
             }
            },
            "type": "scattergeo"
           }
          ],
          "scattergl": [
           {
            "marker": {
             "colorbar": {
              "outlinewidth": 0,
              "ticks": ""
             }
            },
            "type": "scattergl"
           }
          ],
          "scattermapbox": [
           {
            "marker": {
             "colorbar": {
              "outlinewidth": 0,
              "ticks": ""
             }
            },
            "type": "scattermapbox"
           }
          ],
          "scatterpolar": [
           {
            "marker": {
             "colorbar": {
              "outlinewidth": 0,
              "ticks": ""
             }
            },
            "type": "scatterpolar"
           }
          ],
          "scatterpolargl": [
           {
            "marker": {
             "colorbar": {
              "outlinewidth": 0,
              "ticks": ""
             }
            },
            "type": "scatterpolargl"
           }
          ],
          "scatterternary": [
           {
            "marker": {
             "colorbar": {
              "outlinewidth": 0,
              "ticks": ""
             }
            },
            "type": "scatterternary"
           }
          ],
          "surface": [
           {
            "colorbar": {
             "outlinewidth": 0,
             "ticks": ""
            },
            "colorscale": [
             [
              0,
              "#0d0887"
             ],
             [
              0.1111111111111111,
              "#46039f"
             ],
             [
              0.2222222222222222,
              "#7201a8"
             ],
             [
              0.3333333333333333,
              "#9c179e"
             ],
             [
              0.4444444444444444,
              "#bd3786"
             ],
             [
              0.5555555555555556,
              "#d8576b"
             ],
             [
              0.6666666666666666,
              "#ed7953"
             ],
             [
              0.7777777777777778,
              "#fb9f3a"
             ],
             [
              0.8888888888888888,
              "#fdca26"
             ],
             [
              1,
              "#f0f921"
             ]
            ],
            "type": "surface"
           }
          ],
          "table": [
           {
            "cells": {
             "fill": {
              "color": "#EBF0F8"
             },
             "line": {
              "color": "white"
             }
            },
            "header": {
             "fill": {
              "color": "#C8D4E3"
             },
             "line": {
              "color": "white"
             }
            },
            "type": "table"
           }
          ]
         },
         "layout": {
          "annotationdefaults": {
           "arrowcolor": "#2a3f5f",
           "arrowhead": 0,
           "arrowwidth": 1
          },
          "autotypenumbers": "strict",
          "coloraxis": {
           "colorbar": {
            "outlinewidth": 0,
            "ticks": ""
           }
          },
          "colorscale": {
           "diverging": [
            [
             0,
             "#8e0152"
            ],
            [
             0.1,
             "#c51b7d"
            ],
            [
             0.2,
             "#de77ae"
            ],
            [
             0.3,
             "#f1b6da"
            ],
            [
             0.4,
             "#fde0ef"
            ],
            [
             0.5,
             "#f7f7f7"
            ],
            [
             0.6,
             "#e6f5d0"
            ],
            [
             0.7,
             "#b8e186"
            ],
            [
             0.8,
             "#7fbc41"
            ],
            [
             0.9,
             "#4d9221"
            ],
            [
             1,
             "#276419"
            ]
           ],
           "sequential": [
            [
             0,
             "#0d0887"
            ],
            [
             0.1111111111111111,
             "#46039f"
            ],
            [
             0.2222222222222222,
             "#7201a8"
            ],
            [
             0.3333333333333333,
             "#9c179e"
            ],
            [
             0.4444444444444444,
             "#bd3786"
            ],
            [
             0.5555555555555556,
             "#d8576b"
            ],
            [
             0.6666666666666666,
             "#ed7953"
            ],
            [
             0.7777777777777778,
             "#fb9f3a"
            ],
            [
             0.8888888888888888,
             "#fdca26"
            ],
            [
             1,
             "#f0f921"
            ]
           ],
           "sequentialminus": [
            [
             0,
             "#0d0887"
            ],
            [
             0.1111111111111111,
             "#46039f"
            ],
            [
             0.2222222222222222,
             "#7201a8"
            ],
            [
             0.3333333333333333,
             "#9c179e"
            ],
            [
             0.4444444444444444,
             "#bd3786"
            ],
            [
             0.5555555555555556,
             "#d8576b"
            ],
            [
             0.6666666666666666,
             "#ed7953"
            ],
            [
             0.7777777777777778,
             "#fb9f3a"
            ],
            [
             0.8888888888888888,
             "#fdca26"
            ],
            [
             1,
             "#f0f921"
            ]
           ]
          },
          "colorway": [
           "#636efa",
           "#EF553B",
           "#00cc96",
           "#ab63fa",
           "#FFA15A",
           "#19d3f3",
           "#FF6692",
           "#B6E880",
           "#FF97FF",
           "#FECB52"
          ],
          "font": {
           "color": "#2a3f5f"
          },
          "geo": {
           "bgcolor": "white",
           "lakecolor": "white",
           "landcolor": "#E5ECF6",
           "showlakes": true,
           "showland": true,
           "subunitcolor": "white"
          },
          "hoverlabel": {
           "align": "left"
          },
          "hovermode": "closest",
          "mapbox": {
           "style": "light"
          },
          "paper_bgcolor": "white",
          "plot_bgcolor": "#E5ECF6",
          "polar": {
           "angularaxis": {
            "gridcolor": "white",
            "linecolor": "white",
            "ticks": ""
           },
           "bgcolor": "#E5ECF6",
           "radialaxis": {
            "gridcolor": "white",
            "linecolor": "white",
            "ticks": ""
           }
          },
          "scene": {
           "xaxis": {
            "backgroundcolor": "#E5ECF6",
            "gridcolor": "white",
            "gridwidth": 2,
            "linecolor": "white",
            "showbackground": true,
            "ticks": "",
            "zerolinecolor": "white"
           },
           "yaxis": {
            "backgroundcolor": "#E5ECF6",
            "gridcolor": "white",
            "gridwidth": 2,
            "linecolor": "white",
            "showbackground": true,
            "ticks": "",
            "zerolinecolor": "white"
           },
           "zaxis": {
            "backgroundcolor": "#E5ECF6",
            "gridcolor": "white",
            "gridwidth": 2,
            "linecolor": "white",
            "showbackground": true,
            "ticks": "",
            "zerolinecolor": "white"
           }
          },
          "shapedefaults": {
           "line": {
            "color": "#2a3f5f"
           }
          },
          "ternary": {
           "aaxis": {
            "gridcolor": "white",
            "linecolor": "white",
            "ticks": ""
           },
           "baxis": {
            "gridcolor": "white",
            "linecolor": "white",
            "ticks": ""
           },
           "bgcolor": "#E5ECF6",
           "caxis": {
            "gridcolor": "white",
            "linecolor": "white",
            "ticks": ""
           }
          },
          "title": {
           "x": 0.05
          },
          "xaxis": {
           "automargin": true,
           "gridcolor": "white",
           "linecolor": "white",
           "ticks": "",
           "title": {
            "standoff": 15
           },
           "zerolinecolor": "white",
           "zerolinewidth": 2
          },
          "yaxis": {
           "automargin": true,
           "gridcolor": "white",
           "linecolor": "white",
           "ticks": "",
           "title": {
            "standoff": 15
           },
           "zerolinecolor": "white",
           "zerolinewidth": 2
          }
         }
        },
        "title": {
         "text": "Population Share of Each Continent"
        }
       }
      }
     },
     "metadata": {},
     "output_type": "display_data"
    }
   ],
   "source": [
    "fig = px.pie(life_exp,\n",
    "             values=\"Population\",\n",
    "             names=\"Continent\",\n",
    "             title=\"Population Share of Each Continent\")\n",
    "fig.show()"
   ]
  },
  {
   "cell_type": "markdown",
   "metadata": {},
   "source": [
    "# Before going any further, it will be useful to clean the data."
   ]
  },
  {
   "cell_type": "code",
   "execution_count": 7,
   "metadata": {},
   "outputs": [],
   "source": [
    "# The code for filling in nan values is based off of the following source:\n",
    "# https://www.youtube.com/watch?v=J_LnPL3Qg70sy\n",
    "\n",
    "# Removing the dependent variables\n",
    "independent = life_exp.drop([\"Life Expectancy\", \"Country\"], axis=1)\n",
    "values = {}\n",
    "for col in independent:  # Filling the NaN values\n",
    "  if independent[col].isnull().values.any():\n",
    "    values[col] = independent[col].mean()\n",
    "independent.fillna(value=values, inplace=True)\n",
    "\n",
    "life_exp[\"Life Expectancy\"].fillna(value=life_exp[\"Life Expectancy\"].mean(),\n",
    "                                   inplace=True)\n",
    "\n",
    "# The following for loops will convert the columns \"Continent\" and \"Status\"\n",
    "# to numerical values using one hot encoding.\n",
    "for cont in independent[\"Continent\"].unique():\n",
    "  new_col = \"Continent_\"+cont\n",
    "  independent[new_col] = 0\n",
    "\n",
    "  # Filtering the data frame by each continent,\n",
    "  # then setting the the continent's column to 1.\n",
    "  # E.g. If the data frame is filtered so that only countries in\n",
    "  # Africa are present, it sets the column \"Continent_AF\" to 1.\n",
    "  independent.loc[independent['Continent'] == cont, new_col] = 1\n",
    "\n",
    "for status in independent[\"Status\"].unique():\n",
    "  new_status = \"Status_\"+status\n",
    "  independent[new_status] = 0\n",
    "  independent.loc[independent['Status'] == status, new_status] = 1\n",
    "\n",
    "independent = independent.drop(\"Continent\", axis=1)\n",
    "independent = independent.drop(\"Status\", axis=1)"
   ]
  },
  {
   "cell_type": "markdown",
   "metadata": {},
   "source": [
    "# The Assumptions of Multiple Linear Regression Using Ordinary Least Squares (OLS) Regression\n",
    "## To ensure that our model is the Best Linear Unbiased Estimator, we need to handle some key assumptions. If an assumption is violated, we need to handle them as best as we can to increase confidence in our predictions. \n",
    "## The following are the assumptions we will be dealing with:<br>1. Linearity <br>2. No Multicollinearity <br>3. Homoscedasticity <br>4. No Autocorrelation <br>5. Mean Residual of Zero "
   ]
  },
  {
   "cell_type": "markdown",
   "metadata": {},
   "source": [
    "# Dealing with Multicollinearity:\n",
    "### There may be variables that are strongly correlated with each other. If two variables are highly correlated, we should remove one to avoid the issues that accompany multicollinearity."
   ]
  },
  {
   "cell_type": "code",
   "execution_count": 8,
   "metadata": {},
   "outputs": [
    {
     "data": {
      "image/png": "[encoded data removed]",
      "text/plain": [
       "<Figure size 1080x1080 with 2 Axes>"
      ]
     },
     "metadata": {
      "needs_background": "light"
     },
     "output_type": "display_data"
    }
   ],
   "source": [
    "def CorrelationMatrix(df):\n",
    "  # The code used to create this correlation matrix is from\n",
    "  # https://towardsdatascience.com/introduction-to-data-visualization-in-python-89a54c97fbed\n",
    "  # Creates a correlation matrix\n",
    "  corr = df.corr()\n",
    "  fig, ax = plt.subplots(figsize=(15, 15))\n",
    "  # create heatmap\n",
    "  im = ax.imshow(corr.values)\n",
    "  plt.colorbar(im)\n",
    "  # set labels\n",
    "  ax.set_xticks(np.arange(len(corr.columns)))\n",
    "  ax.set_yticks(np.arange(len(corr.columns)))\n",
    "  ax.set_xticklabels(corr.columns, fontsize=15)\n",
    "  ax.set_yticklabels(corr.columns, fontsize=15)\n",
    "  ax.set_title(\"Correlation Matrix\", fontsize=20)\n",
    "  # Rotate the tick labels and set their alignment.\n",
    "  plt.setp(ax.get_xticklabels(),\n",
    "           rotation=45, ha=\"right\",\n",
    "           rotation_mode=\"anchor\")\n",
    "  plt.show()\n",
    "\n",
    "\n",
    "CorrelationMatrix(independent)"
   ]
  },
  {
   "cell_type": "markdown",
   "metadata": {},
   "source": [
    "# Systematically Rooting Out Multicollinearity\n",
    "### We can use the variance inflation factor with the Statsmoels library to figure out which variables have high multicollinearity. The following is an excerpt from the its [documentation](statsmodels.org/stable/generated/statsmodels.stats.outliers_influence.variance_inflation_factor.html) on the variance inflation factor: \n",
    "    The variance inflation factor is a measure for the increase of the variance of the parameter estimates if an additional variable, given by exog_idx is added to the linear regression. It is a measure for multicollinearity of the design matrix, exog.\n",
    "    One recommendation is that if VIF is greater than 5, then the explanatory variable given by exog_idx is highly collinear with the other explanatory variables, and the parameter estimates will have large standard errors because of this."
   ]
  },
  {
   "cell_type": "code",
   "execution_count": 9,
   "metadata": {},
   "outputs": [
    {
     "name": "stderr",
     "output_type": "stream",
     "text": [
      "/Library/Frameworks/Python.framework/Versions/3.9/lib/python3.9/site-packages/statsmodels/regression/linear_model.py:1736: RuntimeWarning:\n",
      "\n",
      "divide by zero encountered in double_scalars\n",
      "\n",
      "/Library/Frameworks/Python.framework/Versions/3.9/lib/python3.9/site-packages/statsmodels/stats/outliers_influence.py:195: RuntimeWarning:\n",
      "\n",
      "divide by zero encountered in double_scalars\n",
      "\n"
     ]
    },
    {
     "data": {
      "text/plain": [
       "const                                0.000000\n",
       "Year                                 1.190280\n",
       "Adult Mortality                      1.821399\n",
       "infant deaths                      187.136375\n",
       "Alcohol                              2.393750\n",
       "percentage expenditure               5.179708\n",
       "Hepatitis B                          1.413507\n",
       "Measles                              1.396425\n",
       "BMI                                  1.892693\n",
       "under-five deaths                  185.827147\n",
       "Polio                                1.957254\n",
       "Total expenditure                    1.244642\n",
       "Diphtheria                           2.244789\n",
       "HIV/AIDS                             1.586519\n",
       "GDP                                  5.382088\n",
       "Population                           1.487732\n",
       "thinness  1-19 years                 8.856092\n",
       "thinness 5-9 years                   9.089825\n",
       "Income composition of resources      3.181293\n",
       "Schooling                            3.500008\n",
       "Continent_AS                              inf\n",
       "Continent_EU                              inf\n",
       "Continent_AF                              inf\n",
       "Continent_NA                              inf\n",
       "Continent_SA                              inf\n",
       "Continent_OC                              inf\n",
       "Status_Developing                         inf\n",
       "Status_Developed                          inf\n",
       "dtype: float64"
      ]
     },
     "metadata": {},
     "output_type": "display_data"
    }
   ],
   "source": [
    "# The code used to implement the variance inflation factor is from\n",
    "# https://github.com/areed1192/sigma_coding_youtube\n",
    "X1 = sm.tools.add_constant(independent)\n",
    "X1 = X1.astype('float64')\n",
    "series_before = pd.Series([variance_inflation_factor(X1.values, i) for i in range(X1.shape[1])],\n",
    "                          index=X1.columns)\n",
    "\"\"\"\n",
    "# The line above runs variance_inflation_factor through\n",
    "# each cell of each row of X1.\n",
    "# X1.values is a matrix of all the cells (explanatory variables) in each row.\n",
    "# i simply tells the program which row we are at.\n",
    "\"\"\"\n",
    "# Displays the variance inflation factor for each variable.\n",
    "# Variables with a factor above 5 should be dropped.\n",
    "display(series_before)\n"
   ]
  },
  {
   "cell_type": "markdown",
   "metadata": {},
   "source": [
    "### As we can see, several variables have a variance influence factor above 5. However, we shouldn't eliminate them all at once. Instead, we will eliminate them one at a time until every variable has a factor below 5, preserving as many variables as possible."
   ]
  },
  {
   "cell_type": "code",
   "execution_count": 10,
   "metadata": {},
   "outputs": [
    {
     "data": {
      "text/plain": [
       "const                              217778.825715\n",
       "Year                                    1.157706\n",
       "Adult Mortality                         1.801115\n",
       "Alcohol                                 2.281338\n",
       "percentage expenditure                  1.348436\n",
       "Hepatitis B                             1.405297\n",
       "Measles                                 1.383958\n",
       "BMI                                     1.812980\n",
       "under-five deaths                       2.173625\n",
       "Polio                                   1.948471\n",
       "Total expenditure                       1.222136\n",
       "Diphtheria                              2.213643\n",
       "HIV/AIDS                                1.515188\n",
       "Population                              1.439626\n",
       "thinness  1-19 years                    2.199922\n",
       "Income composition of resources         3.146670\n",
       "Schooling                               3.412475\n",
       "Continent_AS                            1.796451\n",
       "Continent_EU                            3.042446\n",
       "Continent_NA                            1.498547\n",
       "Continent_OC                            1.383868\n",
       "Status_Developed                        2.360526\n",
       "dtype: float64"
      ]
     },
     "metadata": {},
     "output_type": "display_data"
    }
   ],
   "source": [
    "new_independent = independent\n",
    "series_after = series_before\n",
    "\n",
    "# While there are variables with a variance influence factor above 5\n",
    "while series_after.sort_values(ascending=False)[1] > 5:\n",
    "\n",
    "  # Sorting the series by descending values guarantees that\n",
    "  # the first item in the list will have a variance influence factor above 5\n",
    "  names = list(series_after.sort_values(ascending=False).index)\n",
    "\n",
    "  # Drops the variable with an influence factor above 5.\n",
    "  new_independent = new_independent.drop(names[1], axis=1)\n",
    "\n",
    "  # The following two lines of code are from\n",
    "  # https://github.com/areed1192/sigma_coding_youtube/tree/master/python\n",
    "  # Creates a new constant as we just removed a variable.\n",
    "  X2 = sm.tools.add_constant(new_independent)\n",
    "  X2 = X2.astype(\"float64\")\n",
    "  series_after = pd.Series([variance_inflation_factor(X2.values, i) for i in range(X2.shape[1])],\n",
    "                            index=X2.columns)\n",
    "display(series_after)\n"
   ]
  },
  {
   "cell_type": "markdown",
   "metadata": {},
   "source": [
    "## Let's take a look at our new data frame."
   ]
  },
  {
   "cell_type": "code",
   "execution_count": 11,
   "metadata": {},
   "outputs": [
    {
     "data": {
      "text/html": [
       "<div>\n",
       "<style scoped>\n",
       "    .dataframe tbody tr th:only-of-type {\n",
       "        vertical-align: middle;\n",
       "    }\n",
       "\n",
       "    .dataframe tbody tr th {\n",
       "        vertical-align: top;\n",
       "    }\n",
       "\n",
       "    .dataframe thead th {\n",
       "        text-align: right;\n",
       "    }\n",
       "</style>\n",
       "<table border=\"1\" class=\"dataframe\">\n",
       "  <thead>\n",
       "    <tr style=\"text-align: right;\">\n",
       "      <th></th>\n",
       "      <th>Year</th>\n",
       "      <th>Adult Mortality</th>\n",
       "      <th>Alcohol</th>\n",
       "      <th>percentage expenditure</th>\n",
       "      <th>Hepatitis B</th>\n",
       "      <th>Measles</th>\n",
       "      <th>BMI</th>\n",
       "      <th>under-five deaths</th>\n",
       "      <th>Polio</th>\n",
       "      <th>Total expenditure</th>\n",
       "      <th>Diphtheria</th>\n",
       "      <th>HIV/AIDS</th>\n",
       "      <th>Population</th>\n",
       "      <th>thinness  1-19 years</th>\n",
       "      <th>Income composition of resources</th>\n",
       "      <th>Schooling</th>\n",
       "      <th>Continent_AS</th>\n",
       "      <th>Continent_EU</th>\n",
       "      <th>Continent_NA</th>\n",
       "      <th>Continent_OC</th>\n",
       "      <th>Status_Developed</th>\n",
       "    </tr>\n",
       "  </thead>\n",
       "  <tbody>\n",
       "    <tr>\n",
       "      <th>0</th>\n",
       "      <td>2015</td>\n",
       "      <td>263.0</td>\n",
       "      <td>0.01</td>\n",
       "      <td>71.279624</td>\n",
       "      <td>65.0</td>\n",
       "      <td>1154</td>\n",
       "      <td>19.1</td>\n",
       "      <td>83</td>\n",
       "      <td>6.0</td>\n",
       "      <td>8.16</td>\n",
       "      <td>65.0</td>\n",
       "      <td>0.1</td>\n",
       "      <td>33736494.0</td>\n",
       "      <td>17.2</td>\n",
       "      <td>0.479</td>\n",
       "      <td>10.1</td>\n",
       "      <td>1</td>\n",
       "      <td>0</td>\n",
       "      <td>0</td>\n",
       "      <td>0</td>\n",
       "      <td>0</td>\n",
       "    </tr>\n",
       "    <tr>\n",
       "      <th>1</th>\n",
       "      <td>2014</td>\n",
       "      <td>271.0</td>\n",
       "      <td>0.01</td>\n",
       "      <td>73.523582</td>\n",
       "      <td>62.0</td>\n",
       "      <td>492</td>\n",
       "      <td>18.6</td>\n",
       "      <td>86</td>\n",
       "      <td>58.0</td>\n",
       "      <td>8.18</td>\n",
       "      <td>62.0</td>\n",
       "      <td>0.1</td>\n",
       "      <td>327582.0</td>\n",
       "      <td>17.5</td>\n",
       "      <td>0.476</td>\n",
       "      <td>10.0</td>\n",
       "      <td>1</td>\n",
       "      <td>0</td>\n",
       "      <td>0</td>\n",
       "      <td>0</td>\n",
       "      <td>0</td>\n",
       "    </tr>\n",
       "    <tr>\n",
       "      <th>2</th>\n",
       "      <td>2013</td>\n",
       "      <td>268.0</td>\n",
       "      <td>0.01</td>\n",
       "      <td>73.219243</td>\n",
       "      <td>64.0</td>\n",
       "      <td>430</td>\n",
       "      <td>18.1</td>\n",
       "      <td>89</td>\n",
       "      <td>62.0</td>\n",
       "      <td>8.13</td>\n",
       "      <td>64.0</td>\n",
       "      <td>0.1</td>\n",
       "      <td>31731688.0</td>\n",
       "      <td>17.7</td>\n",
       "      <td>0.470</td>\n",
       "      <td>9.9</td>\n",
       "      <td>1</td>\n",
       "      <td>0</td>\n",
       "      <td>0</td>\n",
       "      <td>0</td>\n",
       "      <td>0</td>\n",
       "    </tr>\n",
       "    <tr>\n",
       "      <th>3</th>\n",
       "      <td>2012</td>\n",
       "      <td>272.0</td>\n",
       "      <td>0.01</td>\n",
       "      <td>78.184215</td>\n",
       "      <td>67.0</td>\n",
       "      <td>2787</td>\n",
       "      <td>17.6</td>\n",
       "      <td>93</td>\n",
       "      <td>67.0</td>\n",
       "      <td>8.52</td>\n",
       "      <td>67.0</td>\n",
       "      <td>0.1</td>\n",
       "      <td>3696958.0</td>\n",
       "      <td>17.9</td>\n",
       "      <td>0.463</td>\n",
       "      <td>9.8</td>\n",
       "      <td>1</td>\n",
       "      <td>0</td>\n",
       "      <td>0</td>\n",
       "      <td>0</td>\n",
       "      <td>0</td>\n",
       "    </tr>\n",
       "    <tr>\n",
       "      <th>4</th>\n",
       "      <td>2011</td>\n",
       "      <td>275.0</td>\n",
       "      <td>0.01</td>\n",
       "      <td>7.097109</td>\n",
       "      <td>68.0</td>\n",
       "      <td>3013</td>\n",
       "      <td>17.2</td>\n",
       "      <td>97</td>\n",
       "      <td>68.0</td>\n",
       "      <td>7.87</td>\n",
       "      <td>68.0</td>\n",
       "      <td>0.1</td>\n",
       "      <td>2978599.0</td>\n",
       "      <td>18.2</td>\n",
       "      <td>0.454</td>\n",
       "      <td>9.5</td>\n",
       "      <td>1</td>\n",
       "      <td>0</td>\n",
       "      <td>0</td>\n",
       "      <td>0</td>\n",
       "      <td>0</td>\n",
       "    </tr>\n",
       "    <tr>\n",
       "      <th>...</th>\n",
       "      <td>...</td>\n",
       "      <td>...</td>\n",
       "      <td>...</td>\n",
       "      <td>...</td>\n",
       "      <td>...</td>\n",
       "      <td>...</td>\n",
       "      <td>...</td>\n",
       "      <td>...</td>\n",
       "      <td>...</td>\n",
       "      <td>...</td>\n",
       "      <td>...</td>\n",
       "      <td>...</td>\n",
       "      <td>...</td>\n",
       "      <td>...</td>\n",
       "      <td>...</td>\n",
       "      <td>...</td>\n",
       "      <td>...</td>\n",
       "      <td>...</td>\n",
       "      <td>...</td>\n",
       "      <td>...</td>\n",
       "      <td>...</td>\n",
       "    </tr>\n",
       "    <tr>\n",
       "      <th>2933</th>\n",
       "      <td>2004</td>\n",
       "      <td>723.0</td>\n",
       "      <td>4.36</td>\n",
       "      <td>0.000000</td>\n",
       "      <td>68.0</td>\n",
       "      <td>31</td>\n",
       "      <td>27.1</td>\n",
       "      <td>42</td>\n",
       "      <td>67.0</td>\n",
       "      <td>7.13</td>\n",
       "      <td>65.0</td>\n",
       "      <td>33.6</td>\n",
       "      <td>12777511.0</td>\n",
       "      <td>9.4</td>\n",
       "      <td>0.407</td>\n",
       "      <td>9.2</td>\n",
       "      <td>0</td>\n",
       "      <td>0</td>\n",
       "      <td>0</td>\n",
       "      <td>0</td>\n",
       "      <td>0</td>\n",
       "    </tr>\n",
       "    <tr>\n",
       "      <th>2934</th>\n",
       "      <td>2003</td>\n",
       "      <td>715.0</td>\n",
       "      <td>4.06</td>\n",
       "      <td>0.000000</td>\n",
       "      <td>7.0</td>\n",
       "      <td>998</td>\n",
       "      <td>26.7</td>\n",
       "      <td>41</td>\n",
       "      <td>7.0</td>\n",
       "      <td>6.52</td>\n",
       "      <td>68.0</td>\n",
       "      <td>36.7</td>\n",
       "      <td>12633897.0</td>\n",
       "      <td>9.8</td>\n",
       "      <td>0.418</td>\n",
       "      <td>9.5</td>\n",
       "      <td>0</td>\n",
       "      <td>0</td>\n",
       "      <td>0</td>\n",
       "      <td>0</td>\n",
       "      <td>0</td>\n",
       "    </tr>\n",
       "    <tr>\n",
       "      <th>2935</th>\n",
       "      <td>2002</td>\n",
       "      <td>73.0</td>\n",
       "      <td>4.43</td>\n",
       "      <td>0.000000</td>\n",
       "      <td>73.0</td>\n",
       "      <td>304</td>\n",
       "      <td>26.3</td>\n",
       "      <td>40</td>\n",
       "      <td>73.0</td>\n",
       "      <td>6.53</td>\n",
       "      <td>71.0</td>\n",
       "      <td>39.8</td>\n",
       "      <td>125525.0</td>\n",
       "      <td>1.2</td>\n",
       "      <td>0.427</td>\n",
       "      <td>10.0</td>\n",
       "      <td>0</td>\n",
       "      <td>0</td>\n",
       "      <td>0</td>\n",
       "      <td>0</td>\n",
       "      <td>0</td>\n",
       "    </tr>\n",
       "    <tr>\n",
       "      <th>2936</th>\n",
       "      <td>2001</td>\n",
       "      <td>686.0</td>\n",
       "      <td>1.72</td>\n",
       "      <td>0.000000</td>\n",
       "      <td>76.0</td>\n",
       "      <td>529</td>\n",
       "      <td>25.9</td>\n",
       "      <td>39</td>\n",
       "      <td>76.0</td>\n",
       "      <td>6.16</td>\n",
       "      <td>75.0</td>\n",
       "      <td>42.1</td>\n",
       "      <td>12366165.0</td>\n",
       "      <td>1.6</td>\n",
       "      <td>0.427</td>\n",
       "      <td>9.8</td>\n",
       "      <td>0</td>\n",
       "      <td>0</td>\n",
       "      <td>0</td>\n",
       "      <td>0</td>\n",
       "      <td>0</td>\n",
       "    </tr>\n",
       "    <tr>\n",
       "      <th>2937</th>\n",
       "      <td>2000</td>\n",
       "      <td>665.0</td>\n",
       "      <td>1.68</td>\n",
       "      <td>0.000000</td>\n",
       "      <td>79.0</td>\n",
       "      <td>1483</td>\n",
       "      <td>25.5</td>\n",
       "      <td>39</td>\n",
       "      <td>78.0</td>\n",
       "      <td>7.10</td>\n",
       "      <td>78.0</td>\n",
       "      <td>43.5</td>\n",
       "      <td>12222251.0</td>\n",
       "      <td>11.0</td>\n",
       "      <td>0.434</td>\n",
       "      <td>9.8</td>\n",
       "      <td>0</td>\n",
       "      <td>0</td>\n",
       "      <td>0</td>\n",
       "      <td>0</td>\n",
       "      <td>0</td>\n",
       "    </tr>\n",
       "  </tbody>\n",
       "</table>\n",
       "<p>2938 rows × 21 columns</p>\n",
       "</div>"
      ],
      "text/plain": [
       "      Year  Adult Mortality  Alcohol  percentage expenditure  Hepatitis B  \\\n",
       "0     2015            263.0     0.01               71.279624         65.0   \n",
       "1     2014            271.0     0.01               73.523582         62.0   \n",
       "2     2013            268.0     0.01               73.219243         64.0   \n",
       "3     2012            272.0     0.01               78.184215         67.0   \n",
       "4     2011            275.0     0.01                7.097109         68.0   \n",
       "...    ...              ...      ...                     ...          ...   \n",
       "2933  2004            723.0     4.36                0.000000         68.0   \n",
       "2934  2003            715.0     4.06                0.000000          7.0   \n",
       "2935  2002             73.0     4.43                0.000000         73.0   \n",
       "2936  2001            686.0     1.72                0.000000         76.0   \n",
       "2937  2000            665.0     1.68                0.000000         79.0   \n",
       "\n",
       "      Measles   BMI  under-five deaths  Polio  Total expenditure  Diphtheria  \\\n",
       "0        1154  19.1                 83    6.0               8.16        65.0   \n",
       "1         492  18.6                 86   58.0               8.18        62.0   \n",
       "2         430  18.1                 89   62.0               8.13        64.0   \n",
       "3        2787  17.6                 93   67.0               8.52        67.0   \n",
       "4        3013  17.2                 97   68.0               7.87        68.0   \n",
       "...       ...   ...                ...    ...                ...         ...   \n",
       "2933       31  27.1                 42   67.0               7.13        65.0   \n",
       "2934      998  26.7                 41    7.0               6.52        68.0   \n",
       "2935      304  26.3                 40   73.0               6.53        71.0   \n",
       "2936      529  25.9                 39   76.0               6.16        75.0   \n",
       "2937     1483  25.5                 39   78.0               7.10        78.0   \n",
       "\n",
       "      HIV/AIDS  Population  thinness  1-19 years  \\\n",
       "0          0.1  33736494.0                  17.2   \n",
       "1          0.1    327582.0                  17.5   \n",
       "2          0.1  31731688.0                  17.7   \n",
       "3          0.1   3696958.0                  17.9   \n",
       "4          0.1   2978599.0                  18.2   \n",
       "...        ...         ...                   ...   \n",
       "2933      33.6  12777511.0                   9.4   \n",
       "2934      36.7  12633897.0                   9.8   \n",
       "2935      39.8    125525.0                   1.2   \n",
       "2936      42.1  12366165.0                   1.6   \n",
       "2937      43.5  12222251.0                  11.0   \n",
       "\n",
       "      Income composition of resources  Schooling  Continent_AS  Continent_EU  \\\n",
       "0                               0.479       10.1             1             0   \n",
       "1                               0.476       10.0             1             0   \n",
       "2                               0.470        9.9             1             0   \n",
       "3                               0.463        9.8             1             0   \n",
       "4                               0.454        9.5             1             0   \n",
       "...                               ...        ...           ...           ...   \n",
       "2933                            0.407        9.2             0             0   \n",
       "2934                            0.418        9.5             0             0   \n",
       "2935                            0.427       10.0             0             0   \n",
       "2936                            0.427        9.8             0             0   \n",
       "2937                            0.434        9.8             0             0   \n",
       "\n",
       "      Continent_NA  Continent_OC  Status_Developed  \n",
       "0                0             0                 0  \n",
       "1                0             0                 0  \n",
       "2                0             0                 0  \n",
       "3                0             0                 0  \n",
       "4                0             0                 0  \n",
       "...            ...           ...               ...  \n",
       "2933             0             0                 0  \n",
       "2934             0             0                 0  \n",
       "2935             0             0                 0  \n",
       "2936             0             0                 0  \n",
       "2937             0             0                 0  \n",
       "\n",
       "[2938 rows x 21 columns]"
      ]
     },
     "execution_count": 11,
     "metadata": {},
     "output_type": "execute_result"
    }
   ],
   "source": [
    "new_independent"
   ]
  },
  {
   "cell_type": "markdown",
   "metadata": {},
   "source": [
    "## The new correlation matrix has far fewer green-yellow squares (green-yellow squares indicate a high correlation between variables). "
   ]
  },
  {
   "cell_type": "code",
   "execution_count": 12,
   "metadata": {},
   "outputs": [
    {
     "data": {
      "image/png": "[encoded data removed]",
      "text/plain": [
       "<Figure size 1080x1080 with 2 Axes>"
      ]
     },
     "metadata": {
      "needs_background": "light"
     },
     "output_type": "display_data"
    }
   ],
   "source": [
    "CorrelationMatrix(new_independent)"
   ]
  },
  {
   "cell_type": "markdown",
   "metadata": {},
   "source": [
    "# Testing for Heteroscedasticity"
   ]
  },
  {
   "cell_type": "markdown",
   "metadata": {},
   "source": [
    "## The first method we will use is the Goldfeld–Quandt test. While there is a function that can perform the test, we will review the steps necessary to perform the test to understand what is going on. The steps are based on the function's [source code](https://www.statsmodels.org/stable/_modules/statsmodels/stats/diagnostic.html#het_goldfeldquandt).\n",
    "    Divide the dataset into two sections. For each section, do the following: \n",
    "1. Fit a regression model to the data.\n",
    "2. Use the regression model to predict the y values.\n",
    "3. Find the mean squared error. To compute this, find the difference between the predicted value of y and the actual value of y, then square it. Do this for all the predicted/actual values of y, and then add them all up. This will be the sum of squared errors. Divide the sum by the sample size to find the mean squared error (MSE).\n",
    "4. Compare the MSE for both sections by dividing them. This will become the ratio of mean squared residual errors.\n",
    "5. Compute the residual degree of freedom (DF). This is calculated with the following formula: DF=N-K-1 where N is the number of samples and K is the number of parameters.\n",
    "6. Use the ratio of mean squared residual errors along with the residual degree of freedom to calculate our p-value. If p<.05, then we can reject our null hypothesis (that the variance is about the same throughout). In other words, if p<.05, then heteroscedasticity is likely to present.\n"
   ]
  },
  {
   "cell_type": "code",
   "execution_count": 13,
   "metadata": {},
   "outputs": [
    {
     "name": "stdout",
     "output_type": "stream",
     "text": [
      "Heteroscedasticity is likely not present. p > .05\n",
      "0.08925368603565402\n"
     ]
    }
   ],
   "source": [
    "gq_test = sm.stats.diagnostic.het_goldfeldquandt(life_exp[\"Life Expectancy\"].astype('float64'),\n",
    "                                                 new_independent.astype('float64'))\n",
    "if gq_test[1] > .05:\n",
    "  print(\"Heteroscedasticity is likely not present. p > .05\")\n",
    "else:\n",
    "  print(\"Heteroscedasticity is likely present. p <= .05\")\n",
    "print(gq_test[1])"
   ]
  },
  {
   "cell_type": "markdown",
   "metadata": {},
   "source": [
    "## Another method to check for heteroscedasticity is the Breusch-Pagan-Godfrey test. <br><br> The steps are based on the function's [source code](https://www.statsmodels.org/stable/_modules/statsmodels/stats/diagnostic.html#het_breuschpagan).\n",
    "1. Create a linear regression model with the dataset and fit a line to it.\n",
    "2. Capture the residuals of this model into a list or array. \n",
    "3. Create a second linear regression model. This time, Y will not be life expectancy, but rather the residuals from the original model. In other words, we will be using the X variable to try and predict the residuals. Again, we will fit a line to this model. \n",
    "4. Using the second model, we can find the p-value. \n",
    "\n",
    "    Note: The function used below for the test will return two p-values. One will be the p-value derived from the f-statistic \n"
   ]
  },
  {
   "cell_type": "code",
   "execution_count": 14,
   "metadata": {},
   "outputs": [],
   "source": [
    "# To run this test, we need to run a regression and obtain its residuals.\n",
    "# The code below takes a random sample from the data frame and runs\n",
    "# a regression on it. We will run a test regression a couple of times,\n",
    "# so we will create a function that does this.\n",
    "def TestModel():\n",
    "  X_train, X_test, y_train, y_test = train_test_split(new_independent,\n",
    "                                                      life_exp[\"Life Expectancy\"],\n",
    "                                                      test_size=int(len(new_independent)*.25))\n",
    "  test_model = sm.OLS(y_train, X_train.astype(\"float\"))\n",
    "  return test_model"
   ]
  },
  {
   "cell_type": "code",
   "execution_count": 15,
   "metadata": {},
   "outputs": [
    {
     "name": "stdout",
     "output_type": "stream",
     "text": [
      "Heteroscedasticity is likely present. p <= .05\n",
      "p = 2.581895737490193e-88\n"
     ]
    }
   ],
   "source": [
    "bp_test = sm.stats.diagnostic.het_breuschpagan(TestModel().fit().resid,\n",
    "                                               TestModel().exog,\n",
    "                                               robust=True)\n",
    "if bp_test[1] > .05 and bp_test[3] > .05:\n",
    "  print(\"Heteroscedasticity is likely not present. p > .05\")\n",
    "else:\n",
    "  print(\"Heteroscedasticity is likely present. p <= .05\")\n",
    "print(\"p =\", bp_test[1])"
   ]
  },
  {
   "cell_type": "markdown",
   "metadata": {},
   "source": [
    "## It seems as though heteroscedasticity might be present. \n",
    "### This means that the range of y values is not consistent. Some areas will have a larger range of y values and some will have a small range. This is an issue because we will have less information in certain areas. If there is more variance in the dependent variable as the independent variable(s) increase, then we will have less information as it becomes harder to accurately predict the dependent variable. <br><br>While heteroscedasticity does not make OLS regression biased, it does make it [less efficient](https://www.sfu.ca/~pendakur/teaching/buec333/Heteroskedasticity%20and%20Correlations%20Across%20Errors.pdf). Furthermore, heteroscedasticity means that the standard error [will be less accurate](http://www.homepages.ucl.ac.uk/~uctpsc0/Teaching/GR03/Heter&Autocorr.pdf). The standard error is based on the standard deviation as the standard error is standard deviation divided by the square root of the number of samples. Standard deviation is based on variance as it is the square root of the variance in observations. If the variance is inconsistent, then the standard error, which is derived from the variance, [may be inaccurate](https://www.ucl.ac.uk/~uctp41a/b203/lecture9.pdf). Because researchers [often use standard error in hypothesis testing](https://www.biochemia-medica.com/en/journal/18/1/10.11613/BM.2008.002#:~:text=The%20formula%2C%20(1%2DP,correlation%20measure%2C%20the%20Pearson%20R.), inaccurate standard errors will make the conclusions reached less reliable. \n",
    "\n"
   ]
  },
  {
   "cell_type": "markdown",
   "metadata": {},
   "source": [
    "# Testing for Autocorrelation\n",
    "### If [autocorrelation](https://corporatefinanceinstitute.com/resources/knowledge/other/autocorrelation/) is present, then one can use one point's residual to predict the next. If there is a positive correlation, then the next point's residual will go in the same direction as the current point's. If the current point has a positive residual, then the next point will likely also have a positive residual. If the current point has a negative residual, then the next point will likely follow suit. With a negative correlation, the next point's residual will go in the opposite direction. If the current point has a positive residual, then it is likely that the next point will have a negative residual and vice versa. <br><br> [Autocorrelation](http://www.homepages.ucl.ac.uk/~uctpsc0/Teaching/GR03/Heter&Autocorr.pdf) does not make OLS regression biased. However, when it is present the variance becomes inconsistent. As aforementioned, inconsistent variance means that the standard errors become less accurate, making hypothesis testing more difficult. Furthermore, it makes the regression [less efficient.](https://www.sfu.ca/~pendakur/teaching/buec333/Heteroskedasticity%20and%20Correlations%20Across%20Errors.pdf)<br><br>We will be using the Durbin Watson statistic to test for autocorrelation. A value between 1.5 and 2.5 indicates no autocorrelation, a value above 2.5 indicates a negative autocorrelation, and a value below 1.5 indicates a positive autocorrelation.<br><br>The test divides the sum of differences squared by the sum of errors squared and [works as follows](https://www.statsmodels.org/stable/_modules/statsmodels/stats/stattools.html#durbin_watson):\n",
    "1. Create and fit a linear regression model.\n",
    "2. Capture the residuals of the model.\n",
    "3. Pass the residuals to the Stats Models function durbin_watson. The following steps will outline how this function works. \n",
    "4. For each item in the array of residuals, calculate the difference between the current and next item.\n",
    "5. Add up all the differences from step 4 and square the sum.\n",
    "6. Add up all the residuals that were passed to the function in step 3 and square the sum.\n",
    "7. Divide the result of step 5 by the result of step 6. Return the dividend. \n"
   ]
  },
  {
   "cell_type": "code",
   "execution_count": 16,
   "metadata": {},
   "outputs": [
    {
     "name": "stdout",
     "output_type": "stream",
     "text": [
      "Autocorrelation is not an issue.\n",
      "The result of the test is: 2.0555935768512446\n"
     ]
    }
   ],
   "source": [
    "# Like the Breusch-Pagan-Godfrey test, the Durbin Watson test requires that\n",
    "# a regression is run and that we obtain the residuals. We will re-run the\n",
    "# regression with a different random sample to get new residuals.\n",
    "\n",
    "durbin_watson_resid = durbin_watson(TestModel().fit().resid)\n",
    "if durbin_watson_resid >= 1.5 and durbin_watson_resid <= 2.5:\n",
    "  print(\"Autocorrelation is not an issue.\")\n",
    "elif durbin_watson_resid > 2.5:\n",
    "  print(\"Autocorrelation is present. There is a negative serial correlation\")\n",
    "elif durbin_watson_resid < 1.5:\n",
    "  print(\"Autocorrelation is present. There is a positive serial correlation\")\n",
    "\n",
    "print(\"The result of the test is:\", durbin_watson(list(TestModel().fit().resid)))"
   ]
  },
  {
   "cell_type": "markdown",
   "metadata": {},
   "source": [
    "# Dealing with Heteroscedasticity\n",
    "## It seems as though heteroscedasticity but not autocorrelation is present in the dataset. We will discuss two methods of handling this issue.<br><br>One way to handle this issue is to run the regression and fit the model using heteroscedasticity robust standard errors. This will [\"obtain unbiased standard errors of OLS coefficients under heteroscedasticity.\"](https://economictheoryblog.com/2016/08/07/robust-standard-errors/)<br>Another option is to use [General Least Squares](http://www.homepages.ucl.ac.uk/~uctpsc0/Teaching/GR03/Heter&Autocorr.pdf) (GLS) regression instead, which has the potential to be more efficient than OLS regression.<br>For this project, we will be going with the former option."
   ]
  },
  {
   "cell_type": "markdown",
   "metadata": {},
   "source": [
    "## Checking the Mean Residual Error\n",
    "### We will be checking if the the error the model makes, on average, is close to zero."
   ]
  },
  {
   "cell_type": "code",
   "execution_count": 17,
   "metadata": {},
   "outputs": [
    {
     "data": {
      "text/plain": [
       "5.139870138226124e-05"
      ]
     },
     "execution_count": 17,
     "metadata": {},
     "output_type": "execute_result"
    }
   ],
   "source": [
    "TestModel().fit().resid.mean()"
   ]
  },
  {
   "cell_type": "markdown",
   "metadata": {},
   "source": [
    "## As we can see, the mean error is close to zero. "
   ]
  },
  {
   "cell_type": "markdown",
   "metadata": {},
   "source": [
    "# Creating the Model and Making Predictions\n",
    "## The formula below displays the coefficients for each variable. For instance, if the HIV/AIDS variable increases by 1, the life expectancy changes by the HIV/AIDS's coefficient. If the coefficient is -.048, then the life expectancy decreases by .048 for every unit of increase in HIV/AIDs.\n"
   ]
  },
  {
   "cell_type": "code",
   "execution_count": 18,
   "metadata": {},
   "outputs": [
    {
     "name": "stdout",
     "output_type": "stream",
     "text": [
      "The linear regression formula is as follows: Life Expectancy = \n",
      " -22.47058599923477\n",
      "+ Year 0.038153736759437874\n",
      "+ Adult Mortality -0.01712875234903838\n",
      "+ Alcohol 0.007167488477439393\n",
      "+ percentage expenditure 0.00023821351301526328\n",
      "+ Hepatitis B -0.013893453785108843\n",
      "+ Measles -2.3461768835724074e-05\n",
      "+ BMI 0.04152344014557086\n",
      "+ under-five deaths -0.0021209982084063475\n",
      "+ Polio 0.031032772775041018\n",
      "+ Total expenditure 0.0686077187959848\n",
      "+ Diphtheria 0.03412324502562544\n",
      "+ HIV/AIDS -0.4095566417697679\n",
      "+ Population 3.970987825292253e-09\n",
      "+ thinness  1-19 years -0.1268575770775396\n",
      "+ Income composition of resources 5.7490890729736\n",
      "+ Schooling 0.5752064179169334\n",
      "+ Continent_AS 3.5799349636459388\n",
      "+ Continent_EU 2.419441201767517\n",
      "+ Continent_NA 4.3842469726880315\n",
      "+ Continent_OC 1.2323562554768455\n",
      "+ Status_Developed 2.157082992712635\n"
     ]
    }
   ],
   "source": [
    "# This will obtain a random sample, add a constant, and run a regression.\n",
    "X_train, X_test, y_train, y_test = train_test_split(new_independent,\n",
    "                                                    life_exp[\"Life Expectancy\"],\n",
    "                                                    test_size=int(len(new_independent)*.25))\n",
    "X_train = sm.add_constant(X_train)\n",
    "X_test = sm.add_constant(X_test)\n",
    "\n",
    "# Fitting the model using heteroscedasticity and autocorrelation robust standard errors\n",
    "model = sm.OLS(y_train, X_train.astype(\"float\"))\n",
    "results = model.fit(cov_type=\"HAC\",cov_kwds={\"maxlags\":25})\n",
    "intercept = results.params[0]\n",
    "print (\"The linear regression formula is as follows: Life Expectancy = \\n\", intercept)\n",
    "# This line is from\n",
    "# https://github.com/areed1192/sigma_coding_youtube/tree/master/python/python-data-science\n",
    "for cf in zip(new_independent.columns, results.params[1:]):\n",
    "  print (\"+\", cf[0], cf[1])"
   ]
  },
  {
   "cell_type": "code",
   "execution_count": 19,
   "metadata": {},
   "outputs": [
    {
     "data": {
      "image/png": "[encoded data removed]",
      "text/plain": [
       "<Figure size 432x288 with 2 Axes>"
      ]
     },
     "metadata": {
      "needs_background": "light"
     },
     "output_type": "display_data"
    }
   ],
   "source": [
    "y_pred = results.predict(X_test)\n",
    "\n",
    "# The scatterplot is colorcoded based on how different the actual and\n",
    "# predicted life expectancies are.\n",
    "sc = plt.scatter(y_pred, y_test, c=y_test - y_pred)\n",
    "plt.xlabel(\"Predicted Value\")\n",
    "plt.ylabel(\"Actual Value\")\n",
    "cbar = plt.colorbar(sc)\n",
    "cbar.set_label('Difference')\n",
    "plt.title(\"Predicted vs Actual Values\")\n",
    "plt.show()"
   ]
  },
  {
   "cell_type": "markdown",
   "metadata": {},
   "source": [
    "# Let's take a look at the results."
   ]
  },
  {
   "cell_type": "code",
   "execution_count": 20,
   "metadata": {},
   "outputs": [
    {
     "name": "stdout",
     "output_type": "stream",
     "text": [
      "                            OLS Regression Results                            \n",
      "==============================================================================\n",
      "Dep. Variable:        Life Expectancy   R-squared:                       0.829\n",
      "Model:                            OLS   Adj. R-squared:                  0.827\n",
      "Method:                 Least Squares   F-statistic:                     604.9\n",
      "Date:                Tue, 28 Jun 2022   Prob (F-statistic):               0.00\n",
      "Time:                        16:27:41   Log-Likelihood:                -6150.8\n",
      "No. Observations:                2204   AIC:                         1.235e+04\n",
      "Df Residuals:                    2182   BIC:                         1.247e+04\n",
      "Df Model:                          21                                         \n",
      "Covariance Type:                  HAC                                         \n",
      "===================================================================================================\n",
      "                                      coef    std err          z      P>|z|      [0.025      0.975]\n",
      "---------------------------------------------------------------------------------------------------\n",
      "const                             -22.4706     36.746     -0.612      0.541     -94.492      49.551\n",
      "Year                                0.0382      0.018      2.077      0.038       0.002       0.074\n",
      "Adult Mortality                    -0.0171      0.001    -14.935      0.000      -0.019      -0.015\n",
      "Alcohol                             0.0072      0.033      0.217      0.828      -0.058       0.072\n",
      "percentage expenditure              0.0002   3.53e-05      6.742      0.000       0.000       0.000\n",
      "Hepatitis B                        -0.0139      0.005     -3.085      0.002      -0.023      -0.005\n",
      "Measles                         -2.346e-05   7.85e-06     -2.987      0.003   -3.89e-05   -8.07e-06\n",
      "BMI                                 0.0415      0.005      7.709      0.000       0.031       0.052\n",
      "under-five deaths                  -0.0021      0.001     -2.083      0.037      -0.004      -0.000\n",
      "Polio                               0.0310      0.005      5.861      0.000       0.021       0.041\n",
      "Total expenditure                   0.0686      0.048      1.418      0.156      -0.026       0.163\n",
      "Diphtheria                          0.0341      0.006      5.883      0.000       0.023       0.045\n",
      "HIV/AIDS                           -0.4096      0.025    -16.214      0.000      -0.459      -0.360\n",
      "Population                       3.971e-09   1.46e-09      2.716      0.007    1.11e-09    6.84e-09\n",
      "thinness  1-19 years               -0.1269      0.026     -4.952      0.000      -0.177      -0.077\n",
      "Income composition of resources     5.7491      0.851      6.756      0.000       4.081       7.417\n",
      "Schooling                           0.5752      0.060      9.605      0.000       0.458       0.693\n",
      "Continent_AS                        3.5799      0.270     13.241      0.000       3.050       4.110\n",
      "Continent_EU                        2.4194      0.382      6.336      0.000       1.671       3.168\n",
      "Continent_NA                        4.3842      0.315     13.904      0.000       3.766       5.002\n",
      "Continent_OC                        1.2324      0.393      3.134      0.002       0.462       2.003\n",
      "Status_Developed                    2.1571      0.329      6.561      0.000       1.513       2.801\n",
      "==============================================================================\n",
      "Omnibus:                       57.746   Durbin-Watson:                   1.998\n",
      "Prob(Omnibus):                  0.000   Jarque-Bera (JB):              134.594\n",
      "Skew:                          -0.043   Prob(JB):                     5.93e-30\n",
      "Kurtosis:                       4.208   Cond. No.                     2.42e+10\n",
      "==============================================================================\n",
      "\n",
      "Notes:\n",
      "[1] Standard Errors are heteroscedasticity and autocorrelation robust (HAC) using 25 lags and without small sample correction\n",
      "[2] The condition number is large, 2.42e+10. This might indicate that there are\n",
      "strong multicollinearity or other numerical problems.\n"
     ]
    },
    {
     "name": "stderr",
     "output_type": "stream",
     "text": [
      "/Library/Frameworks/Python.framework/Versions/3.9/lib/python3.9/site-packages/statsmodels/base/model.py:1871: ValueWarning:\n",
      "\n",
      "covariance of constraints does not have full rank. The number of constraints is 21, but rank is 20\n",
      "\n"
     ]
    }
   ],
   "source": [
    "print(results.summary())"
   ]
  }
 ],
 "metadata": {
  "kernelspec": {
   "display_name": "Python 3.9.1 64-bit",
   "language": "python",
   "name": "python3"
  },
  "language_info": {
   "codemirror_mode": {
    "name": "ipython",
    "version": 3
   },
   "file_extension": ".py",
   "mimetype": "text/x-python",
   "name": "python",
   "nbconvert_exporter": "python",
   "pygments_lexer": "ipython3",
   "version": "3.9.1"
  },
  "vscode": {
   "interpreter": {
    "hash": "aee8b7b246df8f9039afb4144a1f6fd8d2ca17a180786b69acc140d282b71a49"
   }
  }
 },
 "nbformat": 4,
 "nbformat_minor": 4
}
